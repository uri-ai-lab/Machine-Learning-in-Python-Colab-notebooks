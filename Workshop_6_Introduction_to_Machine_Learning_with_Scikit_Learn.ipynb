{
  "nbformat": 4,
  "nbformat_minor": 0,
  "metadata": {
    "colab": {
      "provenance": [],
      "include_colab_link": true
    },
    "kernelspec": {
      "name": "python3",
      "display_name": "Python 3"
    },
    "language_info": {
      "name": "python"
    }
  },
  "cells": [
    {
      "cell_type": "markdown",
      "metadata": {
        "id": "view-in-github",
        "colab_type": "text"
      },
      "source": [
        "<a href=\"https://colab.research.google.com/github/uri-ai-lab/Machine-Learning-in-Python-Colab-notebooks/blob/main/Workshop_6_Introduction_to_Machine_Learning_with_Scikit_Learn.ipynb\" target=\"_parent\"><img src=\"https://colab.research.google.com/assets/colab-badge.svg\" alt=\"Open In Colab\"/></a>"
      ]
    },
    {
      "cell_type": "markdown",
      "source": [
        "# Introduction to Machine Learning with Scikit-Learn"
      ],
      "metadata": {
        "id": "guXgMGSEPIic"
      }
    },
    {
      "cell_type": "markdown",
      "source": [
        "## Categories of Machine Learning\n",
        "\n",
        "At the most fundamental level, machine learning can be categorized into two main types: supervised learning and unsupervised learning.\n",
        "\n",
        "Supervised learning involves somehow modeling the relationship between measured features of data and some label associated with the data; once this model is determined, it can be used to apply labels to new, unknown data. This is further subdivided into classification tasks and regression tasks: in classification, the labels are discrete categories, while in regression, the labels are continuous quantities. We will see examples of both types of supervised learning.\n",
        "\n",
        "Unsupervised learning involves modeling the features of a dataset without reference to any label, and is often described as \"letting the dataset speak for itself.\" These models include tasks such as clustering and dimensionality reduction. Clustering algorithms identify distinct groups of data, while dimensionality reduction algorithms search for more succinct representations of the data.\n",
        "\n",
        "In addition, there are so-called semi-supervised learning methods, which falls somewhere between supervised learning and unsupervised learning. Semi-supervised learning methods are often useful when only incomplete labels are available."
      ],
      "metadata": {
        "id": "1U2p3kmcPQwt"
      }
    },
    {
      "cell_type": "markdown",
      "source": [
        "In short,\n",
        "\n",
        "- *Supervised learning*: Models that can predict labels based on labeled training data\n",
        "\n",
        "  - *Classification*: Models that predict labels as two or more discrete categories\n",
        "  - *Regression*: Models that predict continuous labels\n",
        "\n",
        "- *Unsupervised learning*: Models that identify structure in unlabeled data\n",
        "\n",
        "  - *Clustering*: Models that detect and identify distinct groups in the data\n",
        "  - *Dimensionality reduction*: Models that detect and identify lower-dimensional structure in higher-dimensional data"
      ],
      "metadata": {
        "id": "Xl01vW1HPxO0"
      }
    },
    {
      "cell_type": "markdown",
      "source": [
        "## Introducing Scikit-Learn\n",
        "\n",
        "There are several Python libraries which provide solid implementations of a range of machine learning algorithms.\n",
        "One of the best known is [Scikit-Learn](http://scikit-learn.org), a package that provides efficient versions of a large number of common algorithms.\n",
        "Scikit-Learn is characterized by a clean, uniform, and streamlined API, as well as by very useful and complete online documentation.\n"
      ],
      "metadata": {
        "id": "lv9Kf_u2V65v"
      }
    },
    {
      "cell_type": "markdown",
      "source": [
        "### Basics of the API\n",
        "\n",
        "Most commonly, the steps in using the Scikit-Learn estimator API are as follows\n",
        "(we will step through a handful of detailed examples in the sections that follow).\n",
        "\n",
        "1. Choose a class of model by importing the appropriate estimator class from Scikit-Learn.\n",
        "2. Choose model hyperparameters by instantiating this class with desired values.\n",
        "3. Arrange data into a features matrix and target vector.\n",
        "4. Fit the model to your data by calling the ``fit()`` method of the model instance.\n",
        "5. Apply the Model to new data:\n",
        "   - For supervised learning, often we predict labels for unknown data using the ``predict()`` method.\n",
        "   - For unsupervised learning, we often transform or infer properties of the data using the ``transform()`` or ``predict()`` method."
      ],
      "metadata": {
        "id": "lilf_NrgWm1d"
      }
    },
    {
      "cell_type": "markdown",
      "source": [
        "## Supervised learning examples"
      ],
      "metadata": {
        "id": "zIyuIKcaTyOK"
      }
    },
    {
      "cell_type": "markdown",
      "source": [
        "### Simple linear regression"
      ],
      "metadata": {
        "id": "GK0TUNUSTrri"
      }
    },
    {
      "cell_type": "markdown",
      "source": [
        "As an example of this process, let's consider a simple linear regression—that is, the common case of fitting a line to  (𝑥,𝑦)  data. We will use the following simple data for our regression example:"
      ],
      "metadata": {
        "id": "x6KN-7jpT7bV"
      }
    },
    {
      "cell_type": "code",
      "source": [
        "import matplotlib.pyplot as plt\n",
        "import numpy as np\n",
        "\n",
        "rng = np.random.RandomState(42)\n",
        "x = 10 * rng.rand(50)\n",
        "y = 2 * x - 1 + rng.randn(50)\n",
        "plt.scatter(x, y);"
      ],
      "metadata": {
        "colab": {
          "base_uri": "https://localhost:8080/",
          "height": 265
        },
        "id": "9-GCk3ejT0Rh",
        "outputId": "68248037-4eef-4f11-8fd8-ad6a697d7b95"
      },
      "execution_count": null,
      "outputs": [
        {
          "output_type": "display_data",
          "data": {
            "text/plain": [
              "<Figure size 432x288 with 1 Axes>"
            ],
            "image/png": "[encoded data removed]"
          },
          "metadata": {
            "needs_background": "light"
          }
        }
      ]
    },
    {
      "cell_type": "markdown",
      "metadata": {
        "deletable": true,
        "editable": true,
        "id": "nyStciQPTz3_"
      },
      "source": [
        "With this data in place, we can use the recipe outlined earlier. Let's walk through the process:"
      ]
    },
    {
      "cell_type": "markdown",
      "metadata": {
        "deletable": true,
        "editable": true,
        "id": "dHNNkSCKTz4A"
      },
      "source": [
        "#### 1. Choose a class of model\n",
        "\n",
        "In Scikit-Learn, every class of model is represented by a Python class.\n",
        "So, for example, if we would like to compute a simple linear regression model, we can import the linear regression class:"
      ]
    },
    {
      "cell_type": "code",
      "execution_count": null,
      "metadata": {
        "collapsed": true,
        "deletable": true,
        "editable": true,
        "id": "UXb_RsXvTz4A"
      },
      "outputs": [],
      "source": [
        "from sklearn.linear_model import LinearRegression"
      ]
    },
    {
      "cell_type": "markdown",
      "metadata": {
        "deletable": true,
        "editable": true,
        "id": "WSKf3WGGTz4A"
      },
      "source": [
        "Note that other more general linear regression models exist as well; you can read more about them in the [``sklearn.linear_model`` module documentation](http://Scikit-Learn.org/stable/modules/linear_model.html)."
      ]
    },
    {
      "cell_type": "markdown",
      "source": [
        "#### 2. Choose model hyperparameters\n",
        "\n",
        "For our linear regression example, we can instantiate the ``LinearRegression`` class and specify that we would like to fit the intercept using the ``fit_intercept`` hyperparameter:"
      ],
      "metadata": {
        "id": "7gOFEe5CYBeL"
      }
    },
    {
      "cell_type": "code",
      "execution_count": null,
      "metadata": {
        "deletable": true,
        "editable": true,
        "id": "L0eGlLsOTz4A",
        "outputId": "a5834d56-2e81-42fc-b56d-6e5f14cbe112",
        "colab": {
          "base_uri": "https://localhost:8080/"
        }
      },
      "outputs": [
        {
          "output_type": "execute_result",
          "data": {
            "text/plain": [
              "LinearRegression()"
            ]
          },
          "metadata": {},
          "execution_count": 8
        }
      ],
      "source": [
        "model = LinearRegression(fit_intercept=True)\n",
        "model"
      ]
    },
    {
      "cell_type": "code",
      "source": [
        "x"
      ],
      "metadata": {
        "colab": {
          "base_uri": "https://localhost:8080/"
        },
        "id": "xfRw6HIiBBaY",
        "outputId": "1fc447fe-f8c2-44c3-d76b-a5c5baa0cf29"
      },
      "execution_count": null,
      "outputs": [
        {
          "output_type": "execute_result",
          "data": {
            "text/plain": [
              "array([3.74540119, 9.50714306, 7.31993942, 5.98658484, 1.5601864 ,\n",
              "       1.5599452 , 0.58083612, 8.66176146, 6.01115012, 7.08072578,\n",
              "       0.20584494, 9.69909852, 8.32442641, 2.12339111, 1.81824967,\n",
              "       1.8340451 , 3.04242243, 5.24756432, 4.31945019, 2.9122914 ,\n",
              "       6.11852895, 1.39493861, 2.92144649, 3.66361843, 4.56069984,\n",
              "       7.85175961, 1.99673782, 5.14234438, 5.92414569, 0.46450413,\n",
              "       6.07544852, 1.70524124, 0.65051593, 9.48885537, 9.65632033,\n",
              "       8.08397348, 3.04613769, 0.97672114, 6.84233027, 4.40152494,\n",
              "       1.22038235, 4.9517691 , 0.34388521, 9.09320402, 2.58779982,\n",
              "       6.62522284, 3.11711076, 5.20068021, 5.46710279, 1.84854456])"
            ]
          },
          "metadata": {},
          "execution_count": 11
        }
      ]
    },
    {
      "cell_type": "markdown",
      "metadata": {
        "deletable": true,
        "editable": true,
        "id": "KCCJh5lfTz4A"
      },
      "source": [
        "#### 3. Arrange data into a features matrix and target vector\n",
        "\n",
        "The Scikit-Learn data representation requires a two-dimensional features matrix and a one-dimensional target array.\n",
        "Here our target variable ``y`` is already in the correct form (a length-``n_samples`` array), but we need to massage the data ``x`` to make it a matrix of size ``[n_samples, n_features]``.\n",
        "In this case, this amounts to a simple reshaping of the one-dimensional array:"
      ]
    },
    {
      "cell_type": "code",
      "execution_count": null,
      "metadata": {
        "deletable": true,
        "editable": true,
        "id": "-hNMmNM-Tz4A",
        "outputId": "a14d9d65-d7df-4b1b-aee9-6dad867acc39",
        "colab": {
          "base_uri": "https://localhost:8080/"
        }
      },
      "outputs": [
        {
          "output_type": "execute_result",
          "data": {
            "text/plain": [
              "array([[3.74540119],\n",
              "       [9.50714306],\n",
              "       [7.31993942],\n",
              "       [5.98658484],\n",
              "       [1.5601864 ],\n",
              "       [1.5599452 ],\n",
              "       [0.58083612],\n",
              "       [8.66176146],\n",
              "       [6.01115012],\n",
              "       [7.08072578],\n",
              "       [0.20584494],\n",
              "       [9.69909852],\n",
              "       [8.32442641],\n",
              "       [2.12339111],\n",
              "       [1.81824967],\n",
              "       [1.8340451 ],\n",
              "       [3.04242243],\n",
              "       [5.24756432],\n",
              "       [4.31945019],\n",
              "       [2.9122914 ],\n",
              "       [6.11852895],\n",
              "       [1.39493861],\n",
              "       [2.92144649],\n",
              "       [3.66361843],\n",
              "       [4.56069984],\n",
              "       [7.85175961],\n",
              "       [1.99673782],\n",
              "       [5.14234438],\n",
              "       [5.92414569],\n",
              "       [0.46450413],\n",
              "       [6.07544852],\n",
              "       [1.70524124],\n",
              "       [0.65051593],\n",
              "       [9.48885537],\n",
              "       [9.65632033],\n",
              "       [8.08397348],\n",
              "       [3.04613769],\n",
              "       [0.97672114],\n",
              "       [6.84233027],\n",
              "       [4.40152494],\n",
              "       [1.22038235],\n",
              "       [4.9517691 ],\n",
              "       [0.34388521],\n",
              "       [9.09320402],\n",
              "       [2.58779982],\n",
              "       [6.62522284],\n",
              "       [3.11711076],\n",
              "       [5.20068021],\n",
              "       [5.46710279],\n",
              "       [1.84854456]])"
            ]
          },
          "metadata": {},
          "execution_count": 12
        }
      ],
      "source": [
        "X = x[:, np.newaxis]\n",
        "X"
      ]
    },
    {
      "cell_type": "markdown",
      "metadata": {
        "deletable": true,
        "editable": true,
        "id": "es5-L0GKTz4A"
      },
      "source": [
        "#### 4. Fit the model to your data\n",
        "\n",
        "Now it is time to apply our model to data.\n",
        "This can be done with the ``fit()`` method of the model:"
      ]
    },
    {
      "cell_type": "code",
      "execution_count": null,
      "metadata": {
        "deletable": true,
        "editable": true,
        "id": "5D21BAGyTz4A",
        "outputId": "55238989-61db-4357-9b17-527caa726571",
        "colab": {
          "base_uri": "https://localhost:8080/"
        }
      },
      "outputs": [
        {
          "output_type": "execute_result",
          "data": {
            "text/plain": [
              "LinearRegression()"
            ]
          },
          "metadata": {},
          "execution_count": 13
        }
      ],
      "source": [
        "model.fit(X, y)"
      ]
    },
    {
      "cell_type": "markdown",
      "metadata": {
        "deletable": true,
        "editable": true,
        "id": "UORc88NkTz4B"
      },
      "source": [
        "This ``fit()`` command causes a number of model-dependent internal computations to take place, and the results of these computations are stored in model-specific attributes that the user can explore.\n",
        "In Scikit-Learn, by convention all model parameters that were learned during the ``fit()`` process have trailing underscores; for example in this linear model, we have the following:"
      ]
    },
    {
      "cell_type": "code",
      "execution_count": null,
      "metadata": {
        "deletable": true,
        "editable": true,
        "id": "4flukdqVTz4B",
        "outputId": "cd30707c-75d9-42e5-9781-9df4fcfb86c1",
        "colab": {
          "base_uri": "https://localhost:8080/"
        }
      },
      "outputs": [
        {
          "output_type": "execute_result",
          "data": {
            "text/plain": [
              "array([1.9776566])"
            ]
          },
          "metadata": {},
          "execution_count": 14
        }
      ],
      "source": [
        "model.coef_"
      ]
    },
    {
      "cell_type": "code",
      "execution_count": null,
      "metadata": {
        "deletable": true,
        "editable": true,
        "id": "s3YH2dRDTz4B",
        "outputId": "a59e7f46-e695-4437-c65a-67e078696c16",
        "colab": {
          "base_uri": "https://localhost:8080/"
        }
      },
      "outputs": [
        {
          "output_type": "execute_result",
          "data": {
            "text/plain": [
              "-0.9033107255311146"
            ]
          },
          "metadata": {},
          "execution_count": 15
        }
      ],
      "source": [
        "model.intercept_"
      ]
    },
    {
      "cell_type": "markdown",
      "metadata": {
        "deletable": true,
        "editable": true,
        "id": "zGb-dL7qTz4B"
      },
      "source": [
        "These two parameters represent the slope and intercept of the simple linear fit to the data.\n",
        "Comparing to the data definition, we see that they are very close to the input slope of 2 and intercept of -1.\n"
      ]
    },
    {
      "cell_type": "markdown",
      "metadata": {
        "deletable": true,
        "editable": true,
        "id": "1Ye74mW9Tz4B"
      },
      "source": [
        "#### 5. Predict labels for unknown data\n",
        "\n",
        "Once the model is trained, the main task of supervised machine learning is to evaluate it based on what it says about new data that was not part of the training set.\n",
        "In Scikit-Learn, this can be done using the ``predict()`` method.\n",
        "For the sake of this example, our \"new data\" will be a grid of *x* values, and we will ask what *y* values the model predicts:"
      ]
    },
    {
      "cell_type": "code",
      "execution_count": null,
      "metadata": {
        "collapsed": true,
        "deletable": true,
        "editable": true,
        "id": "O1V3Ds3hTz4B",
        "colab": {
          "base_uri": "https://localhost:8080/"
        },
        "outputId": "50989746-dbd0-4304-ba5c-b0c2c8c1a2b6"
      },
      "outputs": [
        {
          "output_type": "execute_result",
          "data": {
            "text/plain": [
              "array([-1.        , -0.75510204, -0.51020408, -0.26530612, -0.02040816,\n",
              "        0.2244898 ,  0.46938776,  0.71428571,  0.95918367,  1.20408163,\n",
              "        1.44897959,  1.69387755,  1.93877551,  2.18367347,  2.42857143,\n",
              "        2.67346939,  2.91836735,  3.16326531,  3.40816327,  3.65306122,\n",
              "        3.89795918,  4.14285714,  4.3877551 ,  4.63265306,  4.87755102,\n",
              "        5.12244898,  5.36734694,  5.6122449 ,  5.85714286,  6.10204082,\n",
              "        6.34693878,  6.59183673,  6.83673469,  7.08163265,  7.32653061,\n",
              "        7.57142857,  7.81632653,  8.06122449,  8.30612245,  8.55102041,\n",
              "        8.79591837,  9.04081633,  9.28571429,  9.53061224,  9.7755102 ,\n",
              "       10.02040816, 10.26530612, 10.51020408, 10.75510204, 11.        ])"
            ]
          },
          "metadata": {},
          "execution_count": 16
        }
      ],
      "source": [
        "xfit = np.linspace(-1, 11)\n",
        "xfit"
      ]
    },
    {
      "cell_type": "markdown",
      "metadata": {
        "deletable": true,
        "editable": true,
        "id": "hGpLLIuVTz4B"
      },
      "source": [
        "As before, we need to coerce these *x* values into a ``[n_samples, n_features]`` features matrix, after which we can feed it to the model:"
      ]
    },
    {
      "cell_type": "code",
      "execution_count": null,
      "metadata": {
        "deletable": true,
        "editable": true,
        "id": "GJ0xRlnpTz4C",
        "colab": {
          "base_uri": "https://localhost:8080/"
        },
        "outputId": "5538d32f-7a3b-451e-e040-8dfe2623454f"
      },
      "outputs": [
        {
          "output_type": "execute_result",
          "data": {
            "text/plain": [
              "array([-2.88096733, -2.39664326, -1.9123192 , -1.42799513, -0.94367106,\n",
              "       -0.459347  ,  0.02497707,  0.50930113,  0.9936252 ,  1.47794926,\n",
              "        1.96227333,  2.44659739,  2.93092146,  3.41524552,  3.89956959,\n",
              "        4.38389366,  4.86821772,  5.35254179,  5.83686585,  6.32118992,\n",
              "        6.80551398,  7.28983805,  7.77416211,  8.25848618,  8.74281024,\n",
              "        9.22713431,  9.71145837, 10.19578244, 10.68010651, 11.16443057,\n",
              "       11.64875464, 12.1330787 , 12.61740277, 13.10172683, 13.5860509 ,\n",
              "       14.07037496, 14.55469903, 15.03902309, 15.52334716, 16.00767122,\n",
              "       16.49199529, 16.97631936, 17.46064342, 17.94496749, 18.42929155,\n",
              "       18.91361562, 19.39793968, 19.88226375, 20.36658781, 20.85091188])"
            ]
          },
          "metadata": {},
          "execution_count": 17
        }
      ],
      "source": [
        "Xfit = xfit[:, np.newaxis]\n",
        "yfit = model.predict(Xfit)\n",
        "yfit"
      ]
    },
    {
      "cell_type": "markdown",
      "metadata": {
        "deletable": true,
        "editable": true,
        "id": "v5yzMQq3Tz4C"
      },
      "source": [
        "Finally, let's visualize the results by plotting first the raw data, and then this model fit:"
      ]
    },
    {
      "cell_type": "code",
      "execution_count": null,
      "metadata": {
        "deletable": true,
        "editable": true,
        "id": "3jYwgp-ATz4C",
        "outputId": "0b229253-7dd1-43d3-ba19-f75c668d97eb",
        "colab": {
          "base_uri": "https://localhost:8080/",
          "height": 265
        }
      },
      "outputs": [
        {
          "output_type": "display_data",
          "data": {
            "text/plain": [
              "<Figure size 432x288 with 1 Axes>"
            ],
            "image/png": "[encoded data removed]"
          },
          "metadata": {
            "needs_background": "light"
          }
        }
      ],
      "source": [
        "plt.scatter(x, y)\n",
        "plt.plot(xfit, yfit);"
      ]
    },
    {
      "cell_type": "markdown",
      "metadata": {
        "deletable": true,
        "editable": true,
        "id": "_k0pbRiPTz4C"
      },
      "source": [
        "Typically the efficacy of the model is evaluated by comparing its results to some known baseline, as we will see in the next example"
      ]
    },
    {
      "cell_type": "markdown",
      "source": [
        "### Classification"
      ],
      "metadata": {
        "id": "5F2CoSDcfw9a"
      }
    },
    {
      "cell_type": "markdown",
      "source": [
        "Let's take a look at another example of this process, using the Iris dataset we discussed last week.\n",
        "Our question will be this: given a model trained on a portion of the Iris data, how well can we predict the remaining labels?\n",
        "\n",
        "For this task, we will use an extremely simple generative model known as Gaussian naive Bayes, which proceeds by assuming each class is drawn from an axis-aligned Gaussian distribution (see [In Depth: Naive Bayes Classification](05.05-Naive-Bayes.ipynb) for more details).\n",
        "Because it is so fast and has no hyperparameters to choose, Gaussian naive Bayes is often a good model to use as a baseline classification, before exploring whether improvements can be found through more sophisticated models."
      ],
      "metadata": {
        "id": "WuW9cE3OgScE"
      }
    },
    {
      "cell_type": "markdown",
      "source": [
        "First load the dataset to dataframe. We can download this dataset in the form of a Pandas ``DataFrame`` using the [seaborn](http://seaborn.pydata.org/) library:"
      ],
      "metadata": {
        "id": "65FgW4dwhTeS"
      }
    },
    {
      "cell_type": "code",
      "source": [
        "import seaborn as sns\n",
        "iris = sns.load_dataset('iris')\n",
        "iris.head()"
      ],
      "metadata": {
        "id": "TNfEwIs7gkd-"
      },
      "execution_count": null,
      "outputs": []
    },
    {
      "cell_type": "markdown",
      "metadata": {
        "deletable": true,
        "editable": true,
        "id": "8lwl00N5Tz38"
      },
      "source": [
        "Here each row of the data refers to a single observed flower, and the number of rows is the total number of flowers in the dataset.\n",
        "In general, we will refer to the rows of the matrix as *samples*, and the number of rows as ``n_samples``.\n",
        "\n",
        "Likewise, each column of the data refers to a particular quantitative piece of information that describes each sample.\n",
        "In general, we will refer to the columns of the matrix as *features*, and the number of columns as ``n_features``."
      ]
    },
    {
      "cell_type": "markdown",
      "metadata": {
        "deletable": true,
        "editable": true,
        "id": "4JOA5SouTz38"
      },
      "source": [
        "#### Features matrix\n",
        "\n",
        "This table layout makes clear that the information can be thought of as a two-dimensional numerical array or matrix, which we will call the *features matrix*.\n",
        "By convention, this features matrix is often stored in a variable named ``X``.\n",
        "The features matrix is assumed to be two-dimensional, with shape ``[n_samples, n_features]``, and is most often contained in a NumPy array or a Pandas ``DataFrame``, though some Scikit-Learn models also accept SciPy sparse matrices.\n",
        "\n",
        "The samples (i.e., rows) always refer to the individual objects described by the dataset.\n",
        "For example, the sample might be a flower, a person, a document, an image, a sound file, a video, an astronomical object, or anything else you can describe with a set of quantitative measurements.\n",
        "\n",
        "The features (i.e., columns) always refer to the distinct observations that describe each sample in a quantitative manner.\n",
        "Features are generally real-valued, but may be Boolean or discrete-valued in some cases."
      ]
    },
    {
      "cell_type": "markdown",
      "metadata": {
        "deletable": true,
        "editable": true,
        "id": "EoLhLwrcTz39"
      },
      "source": [
        "#### Target array\n",
        "\n",
        "In addition to the feature matrix ``X``, we also generally work with a *label* or *target* array, which by convention we will usually call ``y``.\n",
        "The target array is usually one dimensional, with length ``n_samples``, and is generally contained in a NumPy array or Pandas ``Series``.\n",
        "The target array may have continuous numerical values, or discrete classes/labels.\n",
        "While some Scikit-Learn estimators do handle multiple target values in the form of a two-dimensional, ``[n_samples, n_targets]`` target array, we will primarily be working with the common case of a one-dimensional target array.\n",
        "\n",
        "Often one point of confusion is how the target array differs from the other features columns. The distinguishing feature of the target array is that it is usually the quantity we want to *predict from the data*: in statistical terms, it is the dependent variable.\n",
        "For example, in the preceding data we may wish to construct a model that can predict the species of flower based on the other measurements; in this case, the ``species`` column would be considered the target array.\n"
      ]
    },
    {
      "cell_type": "markdown",
      "metadata": {
        "deletable": true,
        "editable": true,
        "id": "Q2L4yNGFTz39"
      },
      "source": [
        "For use in Scikit-Learn, we will extract the features matrix and target array from the ``DataFrame``, which we can do using some of the Pandas ``DataFrame`` operations"
      ]
    },
    {
      "cell_type": "code",
      "execution_count": null,
      "metadata": {
        "deletable": true,
        "editable": true,
        "id": "gN9v6lFHTz39"
      },
      "outputs": [],
      "source": [
        "X_iris = iris.drop('species', axis=1)\n",
        "X_iris.shape"
      ]
    },
    {
      "cell_type": "code",
      "execution_count": null,
      "metadata": {
        "deletable": true,
        "editable": true,
        "id": "UcObbR90Tz3-"
      },
      "outputs": [],
      "source": [
        "y_iris = iris['species']\n",
        "y_iris.shape"
      ]
    },
    {
      "cell_type": "markdown",
      "metadata": {
        "deletable": true,
        "editable": true,
        "id": "BtIVJvBGTz3-"
      },
      "source": [
        "To summarize, the expected layout of features and target values is visualized in the following diagram:"
      ]
    },
    {
      "cell_type": "markdown",
      "metadata": {
        "deletable": true,
        "editable": true,
        "id": "bNJ-0wz8Tz3-"
      },
      "source": [
        "![](https://github.com/jakevdp/PythonDataScienceHandbook/blob/master/notebooks/figures/05.02-samples-features.png?raw=1)\n"
      ]
    },
    {
      "cell_type": "markdown",
      "source": [
        "We would like to evaluate the model on data it has not seen before, and so we will split the data into a training set and a testing set. This could be done by hand, but it is more convenient to use the train_test_split utility function:"
      ],
      "metadata": {
        "id": "pezrQO9lzt5f"
      }
    },
    {
      "cell_type": "code",
      "execution_count": null,
      "metadata": {
        "collapsed": true,
        "deletable": true,
        "editable": true,
        "id": "jjttg63_Tz4C"
      },
      "outputs": [],
      "source": [
        "from sklearn.model_selection import train_test_split\n",
        "Xtrain, Xtest, ytrain, ytest = train_test_split(X_iris, y_iris,\n",
        "                                                random_state=1)"
      ]
    },
    {
      "cell_type": "markdown",
      "metadata": {
        "deletable": true,
        "editable": true,
        "id": "5pnCt7A-Tz4C"
      },
      "source": [
        "With the data arranged, we can follow our recipe to predict the labels:"
      ]
    },
    {
      "cell_type": "code",
      "execution_count": null,
      "metadata": {
        "deletable": true,
        "editable": true,
        "id": "2gXQVH5ITz4C"
      },
      "outputs": [],
      "source": [
        "from sklearn.naive_bayes import GaussianNB # 1. choose model class\n",
        "model = GaussianNB()                       # 2. instantiate model\n",
        "model.fit(Xtrain, ytrain)                  # 3. fit model to data\n",
        "y_model = model.predict(Xtest)             # 4. predict on new data"
      ]
    },
    {
      "cell_type": "markdown",
      "metadata": {
        "deletable": true,
        "editable": true,
        "id": "D3GpFKjSTz4C"
      },
      "source": [
        "Finally, we can use the ``accuracy_score`` utility to see the fraction of predicted labels that match their true value:"
      ]
    },
    {
      "cell_type": "code",
      "execution_count": null,
      "metadata": {
        "deletable": true,
        "editable": true,
        "id": "9va_PJAyTz4C"
      },
      "outputs": [],
      "source": [
        "from sklearn.metrics import accuracy_score\n",
        "accuracy_score(ytest, y_model)"
      ]
    },
    {
      "cell_type": "markdown",
      "metadata": {
        "deletable": true,
        "editable": true,
        "id": "6Brp0q6dTz4C"
      },
      "source": [
        "With an accuracy topping 97%, we see that even this very naive classification algorithm is effective for this particular dataset!"
      ]
    },
    {
      "cell_type": "markdown",
      "source": [
        "## Unsupervised learning examples"
      ],
      "metadata": {
        "id": "T-kdM1hzz-ny"
      }
    },
    {
      "cell_type": "markdown",
      "source": [
        "### Dimensionality reduction"
      ],
      "metadata": {
        "id": "TUKQlJFx0LUQ"
      }
    },
    {
      "cell_type": "markdown",
      "source": [
        "As an example of an unsupervised learning problem, let's take a look at reducing the dimensionality of the Iris data so as to more easily visualize it.\n",
        "Recall that the Iris data is four dimensional: there are four features recorded for each sample.\n",
        "\n",
        "The task of dimensionality reduction is to ask whether there is a suitable lower-dimensional representation that retains the essential features of the data.\n",
        "Often dimensionality reduction is used as an aid to visualizing data: after all, it is much easier to plot data in two dimensions than in four dimensions or higher!\n",
        "\n",
        "Here we will use principal component analysis (PCA; see [In Depth: Principal Component Analysis](05.09-Principal-Component-Analysis.ipynb)), which is a fast linear dimensionality reduction technique.\n",
        "We will ask the model to return two components—that is, a two-dimensional representation of the data.\n",
        "\n",
        "Following the sequence of steps outlined earlier, we have:"
      ],
      "metadata": {
        "id": "cesVt5If0aL2"
      }
    },
    {
      "cell_type": "code",
      "execution_count": null,
      "metadata": {
        "collapsed": true,
        "deletable": true,
        "editable": true,
        "id": "jeDr2IhuTz4D"
      },
      "outputs": [],
      "source": [
        "from sklearn.decomposition import PCA  # 1. Choose the model class\n",
        "model = PCA(n_components=2)            # 2. Instantiate the model with hyperparameters\n",
        "model.fit(X_iris)                      # 3. Fit to data. Notice y is not specified!\n",
        "X_2D = model.transform(X_iris)         # 4. Transform the data to two dimensions"
      ]
    },
    {
      "cell_type": "markdown",
      "metadata": {
        "deletable": true,
        "editable": true,
        "id": "0HXnYNWATz4D"
      },
      "source": [
        "Now let's plot the results. A quick way to do this is to insert the results into the original Iris ``DataFrame``, and use Seaborn's ``lmplot`` to show the results:"
      ]
    },
    {
      "cell_type": "code",
      "execution_count": null,
      "metadata": {
        "deletable": true,
        "editable": true,
        "id": "PA2lEodjTz4D"
      },
      "outputs": [],
      "source": [
        "iris['PCA1'] = X_2D[:, 0]\n",
        "iris['PCA2'] = X_2D[:, 1]\n",
        "plt.scatter(iris.PCA1, iris.PCA2, c=iris.species.astype('category').cat.codes);"
      ]
    },
    {
      "cell_type": "markdown",
      "metadata": {
        "deletable": true,
        "editable": true,
        "id": "rRB81vI5Tz4D"
      },
      "source": [
        "We see that in the two-dimensional representation, the species are fairly well separated, even though the PCA algorithm had no knowledge of the species labels!\n",
        "This indicates to us that a relatively straightforward classification will probably be effective on the dataset, as we saw before."
      ]
    },
    {
      "cell_type": "markdown",
      "source": [
        "### Clustering"
      ],
      "metadata": {
        "id": "ocyMwjRS0w7m"
      }
    },
    {
      "cell_type": "markdown",
      "source": [
        "Let's next look at applying clustering to the Iris data.\n",
        "A clustering algorithm attempts to find distinct groups of data without reference to any labels.\n",
        "Here we will use a powerful clustering method called a Gaussian mixture model (GMM), discussed in more detail in [In Depth: Gaussian Mixture Models](05.12-Gaussian-Mixtures.ipynb).\n",
        "A GMM attempts to model the data as a collection of Gaussian blobs.\n",
        "\n",
        "We can fit the Gaussian mixture model as follows:"
      ],
      "metadata": {
        "id": "kfl83jzA1A5e"
      }
    },
    {
      "cell_type": "code",
      "execution_count": null,
      "metadata": {
        "deletable": true,
        "editable": true,
        "id": "qY0Ehh-fTz4D"
      },
      "outputs": [],
      "source": [
        "from sklearn.mixture import GaussianMixture      # 1. Choose the model class\n",
        "model = GaussianMixture(n_components=3,\n",
        "            covariance_type='full')  # 2. Instantiate the model with hyperparameters\n",
        "model.fit(X_iris)                    # 3. Fit to data. Notice y is not specified!\n",
        "y_gmm = model.predict(X_iris)        # 4. Determine cluster labels"
      ]
    },
    {
      "cell_type": "markdown",
      "metadata": {
        "deletable": true,
        "editable": true,
        "id": "1-DHw14XTz4D"
      },
      "source": [
        "As before, we will add the cluster label to the Iris ``DataFrame`` and plot the results:"
      ]
    },
    {
      "cell_type": "code",
      "execution_count": null,
      "metadata": {
        "deletable": true,
        "editable": true,
        "id": "yJ8O3rxUTz4D"
      },
      "outputs": [],
      "source": [
        "iris['cluster'] = y_gmm\n",
        "\n",
        "fig = plt.figure()\n",
        "fig.set_figwidth(15)\n",
        "\n",
        "plt.subplot(1,2,1)\n",
        "plt.title(\"Species\")\n",
        "plt.xlabel(\"PCA 1\")\n",
        "plt.ylabel(\"PCA 2\")\n",
        "plt.scatter(iris.PCA1, iris.PCA2, c = iris.species.astype('category').cat.codes)\n",
        "plt.legend()\n",
        "\n",
        "plt.subplot(1,2,2)\n",
        "plt.title(\"Clusters\")\n",
        "plt.xlabel(\"PCA 1\")\n",
        "plt.scatter(iris.PCA1, iris.PCA2, c= iris.cluster)\n",
        "\n",
        "plt.show()"
      ]
    },
    {
      "cell_type": "markdown",
      "metadata": {
        "deletable": true,
        "editable": true,
        "id": "zkkIp2pRTz4E"
      },
      "source": [
        "By splitting the data by cluster number, we see exactly how well the GMM algorithm has recovered the underlying label: the *setosa* species is separated perfectly within cluster 0, while there remains a small amount of mixing between *versicolor* and *virginica*.\n",
        "This means that even without an expert to tell us the species labels of the individual flowers, the measurements of these flowers are distinct enough that we could *automatically* identify the presence of these different groups of species with a simple clustering algorithm!\n",
        "This sort of algorithm might further give experts in the field clues as to the relationship between the samples they are observing."
      ]
    },
    {
      "cell_type": "markdown",
      "metadata": {
        "deletable": true,
        "editable": true,
        "id": "YHMO5V0-Tz4E"
      },
      "source": [
        "## Application: Exploring Hand-written Digits"
      ]
    },
    {
      "cell_type": "markdown",
      "metadata": {
        "deletable": true,
        "editable": true,
        "id": "SrxfTYthTz4E"
      },
      "source": [
        "To demonstrate these principles on a more interesting problem, let's consider one piece of the optical character recognition problem: the identification of hand-written digits.\n",
        "In the wild, this problem involves both locating and identifying characters in an image. Here we'll take a shortcut and use Scikit-Learn's set of pre-formatted digits, which is built into the library."
      ]
    },
    {
      "cell_type": "markdown",
      "metadata": {
        "deletable": true,
        "editable": true,
        "id": "F92-7pT_Tz4E"
      },
      "source": [
        "### Loading and visualizing the digits data\n",
        "\n",
        "We'll use Scikit-Learn's data access interface and take a look at this data:"
      ]
    },
    {
      "cell_type": "code",
      "execution_count": null,
      "metadata": {
        "deletable": true,
        "editable": true,
        "id": "K4-bC5vcTz4E"
      },
      "outputs": [],
      "source": [
        "from sklearn.datasets import load_digits\n",
        "digits = load_digits()\n",
        "digits.images.shape"
      ]
    },
    {
      "cell_type": "markdown",
      "metadata": {
        "deletable": true,
        "editable": true,
        "id": "7z37ZsIiTz4E"
      },
      "source": [
        "The images data is a three-dimensional array: 1,797 samples each consisting of an 8 × 8 grid of pixels.\n",
        "Let's visualize the first hundred of these:"
      ]
    },
    {
      "cell_type": "code",
      "execution_count": null,
      "metadata": {
        "deletable": true,
        "editable": true,
        "id": "6Dza-IzjTz4E"
      },
      "outputs": [],
      "source": [
        "import matplotlib.pyplot as plt\n",
        "\n",
        "fig, axes = plt.subplots(10, 10, figsize=(8, 8),\n",
        "                         subplot_kw={'xticks':[], 'yticks':[]},\n",
        "                         gridspec_kw=dict(hspace=0.1, wspace=0.1))\n",
        "\n",
        "for i, ax in enumerate(axes.flat):\n",
        "    ax.imshow(digits.images[i], cmap='binary', interpolation='nearest')\n",
        "    ax.text(0.05, 0.05, str(digits.target[i]),\n",
        "            transform=ax.transAxes, color='green')"
      ]
    },
    {
      "cell_type": "markdown",
      "metadata": {
        "deletable": true,
        "editable": true,
        "id": "_eM0MgiqTz4E"
      },
      "source": [
        "In order to work with this data within Scikit-Learn, we need a two-dimensional, ``[n_samples, n_features]`` representation.\n",
        "We can accomplish this by treating each pixel in the image as a feature: that is, by flattening out the pixel arrays so that we have a length-64 array of pixel values representing each digit.\n",
        "Additionally, we need the target array, which gives the previously determined label for each digit.\n",
        "These two quantities are built into the digits dataset under the ``data`` and ``target`` attributes, respectively:"
      ]
    },
    {
      "cell_type": "code",
      "execution_count": null,
      "metadata": {
        "deletable": true,
        "editable": true,
        "id": "7HQKy_QoTz4E"
      },
      "outputs": [],
      "source": [
        "X = digits.data\n",
        "X.shape"
      ]
    },
    {
      "cell_type": "code",
      "execution_count": null,
      "metadata": {
        "deletable": true,
        "editable": true,
        "id": "0xj2JJvVTz4E"
      },
      "outputs": [],
      "source": [
        "y = digits.target\n",
        "y.shape"
      ]
    },
    {
      "cell_type": "markdown",
      "metadata": {
        "deletable": true,
        "editable": true,
        "id": "Zj_x76pITz4E"
      },
      "source": [
        "We see here that there are 1,797 samples and 64 features."
      ]
    },
    {
      "cell_type": "markdown",
      "metadata": {
        "deletable": true,
        "editable": true,
        "id": "IDbBDn1xTz4F"
      },
      "source": [
        "### Unsupervised learning: Dimensionality reduction\n",
        "\n",
        "We'd like to visualize our points within the 64-dimensional parameter space, but it's difficult to effectively visualize points in such a high-dimensional space.\n",
        "Instead we'll reduce the dimensions to 2, using an unsupervised method.\n",
        "Here, we'll make use of a manifold learning algorithm called *Isomap* (see [In-Depth: Manifold Learning](05.10-Manifold-Learning.ipynb)), and transform the data to two dimensions:"
      ]
    },
    {
      "cell_type": "code",
      "execution_count": null,
      "metadata": {
        "deletable": true,
        "editable": true,
        "id": "yCccmphsTz4F"
      },
      "outputs": [],
      "source": [
        "from sklearn.manifold import Isomap\n",
        "iso = Isomap(n_components=2)\n",
        "iso.fit(digits.data)\n",
        "data_projected = iso.transform(digits.data)\n",
        "data_projected.shape"
      ]
    },
    {
      "cell_type": "markdown",
      "metadata": {
        "deletable": true,
        "editable": true,
        "id": "Mlbf5buQTz4F"
      },
      "source": [
        "We see that the projected data is now two-dimensional.\n",
        "Let's plot this data to see if we can learn anything from its structure:"
      ]
    },
    {
      "cell_type": "code",
      "execution_count": null,
      "metadata": {
        "deletable": true,
        "editable": true,
        "id": "ML4_PVTJTz4F"
      },
      "outputs": [],
      "source": [
        "plt.scatter(data_projected[:, 0], data_projected[:, 1], c=digits.target,\n",
        "            edgecolor='none', alpha=0.5,\n",
        "            cmap=plt.cm.get_cmap('Spectral_r', 10))\n",
        "plt.colorbar(label='digit label', ticks=range(10))\n",
        "plt.clim(-0.5, 9.5);"
      ]
    },
    {
      "cell_type": "markdown",
      "metadata": {
        "deletable": true,
        "editable": true,
        "id": "G1jBin0ITz4F"
      },
      "source": [
        "This plot gives us some good intuition into how well various numbers are separated in the larger 64-dimensional space. For example, zeros (in purple) and ones (in blue) have very little overlap in parameter space.\n",
        "Intuitively, this makes sense: a zero is empty in the middle of the image, while a one will generally have ink in the middle.\n",
        "On the other hand, there seems to be a more or less continuous spectrum between ones and fours: we can understand this by realizing that some people draw ones with \"hats\" on them, which cause them to look similar to fours.\n",
        "\n",
        "Overall, however, the different groups appear to be fairly well separated in the parameter space: this tells us that even a very straightforward supervised classification algorithm should perform suitably on this data.\n",
        "Let's give it a try."
      ]
    },
    {
      "cell_type": "markdown",
      "metadata": {
        "deletable": true,
        "editable": true,
        "id": "hQQ4UpALTz4F"
      },
      "source": [
        "### Classification on digits\n",
        "\n",
        "Let's apply a classification algorithm to the digits.\n",
        "As with the Iris data previously, we will split the data into a training and testing set, and fit a Gaussian naive Bayes model:"
      ]
    },
    {
      "cell_type": "code",
      "execution_count": null,
      "metadata": {
        "collapsed": true,
        "deletable": true,
        "editable": true,
        "id": "YcYnVuQyTz4F"
      },
      "outputs": [],
      "source": [
        "Xtrain, Xtest, ytrain, ytest = train_test_split(X, y, random_state=0)"
      ]
    },
    {
      "cell_type": "code",
      "execution_count": null,
      "metadata": {
        "collapsed": true,
        "deletable": true,
        "editable": true,
        "id": "ToNk8s29Tz4F"
      },
      "outputs": [],
      "source": [
        "from sklearn.naive_bayes import GaussianNB\n",
        "model = GaussianNB()\n",
        "model.fit(Xtrain, ytrain)\n",
        "y_model = model.predict(Xtest)"
      ]
    },
    {
      "cell_type": "markdown",
      "metadata": {
        "deletable": true,
        "editable": true,
        "id": "ByqUGoKCTz4F"
      },
      "source": [
        "Now that we have predicted our model, we can gauge its accuracy by comparing the true values of the test set to the predictions:"
      ]
    },
    {
      "cell_type": "code",
      "execution_count": null,
      "metadata": {
        "deletable": true,
        "editable": true,
        "id": "a2kzBYakTz4F"
      },
      "outputs": [],
      "source": [
        "from sklearn.metrics import accuracy_score\n",
        "accuracy_score(ytest, y_model)"
      ]
    },
    {
      "cell_type": "markdown",
      "metadata": {
        "deletable": true,
        "editable": true,
        "id": "KT-3iJrFTz4F"
      },
      "source": [
        "With even this extremely simple model, we find about 80% accuracy for classification of the digits!\n",
        "However, this single number doesn't tell us *where* we've gone wrong—one nice way to do this is to use the *confusion matrix*, which we can compute with Scikit-Learn and plot with Seaborn:"
      ]
    },
    {
      "cell_type": "code",
      "execution_count": null,
      "metadata": {
        "deletable": true,
        "editable": true,
        "id": "aqihb0j0Tz4F"
      },
      "outputs": [],
      "source": [
        "from sklearn.metrics import confusion_matrix\n",
        "\n",
        "mat = confusion_matrix(ytest, y_model)\n",
        "\n",
        "sns.heatmap(mat, square=True, annot=True, cbar=False)\n",
        "plt.xlabel('predicted value')\n",
        "plt.ylabel('true value');"
      ]
    },
    {
      "cell_type": "markdown",
      "metadata": {
        "deletable": true,
        "editable": true,
        "id": "oUT4yRvYTz4F"
      },
      "source": [
        "This shows us where the mis-labeled points tend to be: for example, a large number of twos here are mis-classified as either ones or eights.\n",
        "Another way to gain intuition into the characteristics of the model is to plot the inputs again, with their predicted labels.\n",
        "We'll use green for correct labels, and red for incorrect labels:"
      ]
    },
    {
      "cell_type": "code",
      "execution_count": null,
      "metadata": {
        "deletable": true,
        "editable": true,
        "id": "3Wmc9lyITz4G"
      },
      "outputs": [],
      "source": [
        "fig, axes = plt.subplots(10, 10, figsize=(8, 8),\n",
        "                         subplot_kw={'xticks':[], 'yticks':[]},\n",
        "                         gridspec_kw=dict(hspace=0.1, wspace=0.1))\n",
        "\n",
        "test_images = Xtest.reshape(-1, 8, 8)\n",
        "\n",
        "for i, ax in enumerate(axes.flat):\n",
        "    ax.imshow(test_images[i], cmap='binary', interpolation='nearest')\n",
        "    ax.text(0.05, 0.05, str(y_model[i]),\n",
        "            transform=ax.transAxes,\n",
        "            color='green' if (ytest[i] == y_model[i]) else 'red')"
      ]
    },
    {
      "cell_type": "markdown",
      "metadata": {
        "deletable": true,
        "editable": true,
        "id": "IH2-laSvTz4G"
      },
      "source": [
        "Examining this subset of the data, we can gain insight regarding where the algorithm might be not performing optimally.\n",
        "To go beyond our 80% classification rate, we might move to a more sophisticated algorithm such as support vector machines (see [In-Depth: Support Vector Machines](05.07-Support-Vector-Machines.ipynb)), random forests (see [In-Depth: Decision Trees and Random Forests](05.08-Random-Forests.ipynb)) or another classification approach."
      ]
    },
    {
      "cell_type": "markdown",
      "metadata": {
        "deletable": true,
        "editable": true,
        "id": "cL7kAkSYNOSh"
      },
      "source": [
        "## Model validation the right way: Holdout sets\n",
        "\n",
        "\n",
        "A better sense of a model's performance can be found using what's known as a *holdout set*: that is, we hold back some subset of the data from the training of the model, and then use this holdout set to check the model performance.\n",
        "This splitting can be done using the ``train_test_split`` utility in Scikit-Learn:"
      ]
    },
    {
      "cell_type": "code",
      "execution_count": null,
      "metadata": {
        "deletable": true,
        "editable": true,
        "id": "t4qKs6NTNOSh"
      },
      "outputs": [],
      "source": [
        "from sklearn.model_selection import train_test_split\n",
        "# split the data with 50% in each set\n",
        "X1, X2, y1, y2 = train_test_split(X, y, random_state=0,\n",
        "                                  train_size=0.5)\n",
        "\n",
        "# fit the model on one set of data\n",
        "model.fit(X1, y1)\n",
        "\n",
        "# evaluate the model on the second set of data\n",
        "y2_model = model.predict(X2)\n",
        "accuracy_score(y2, y2_model)"
      ]
    },
    {
      "cell_type": "markdown",
      "metadata": {
        "deletable": true,
        "editable": true,
        "id": "gBmd5OELNOSi"
      },
      "source": [
        "We see here a more reasonable result: the nearest-neighbor classifier is about 90% accurate on this hold-out set.\n",
        "The hold-out set is similar to unknown data, because the model has not \"seen\" it before."
      ]
    },
    {
      "cell_type": "markdown",
      "metadata": {
        "deletable": true,
        "editable": true,
        "id": "yBUbPuCeNOSi"
      },
      "source": [
        "## Model validation via cross-validation\n",
        "\n",
        "One disadvantage of using a holdout set for model validation is that we have lost a portion of our data to the model training.\n",
        "In the above case, half the dataset does not contribute to the training of the model!\n",
        "This is not optimal, and can cause problems – especially if the initial set of training data is small.\n",
        "\n",
        "One way to address this is to use *cross-validation*; that is, to do a sequence of fits where each subset of the data is used both as a training set and as a validation set.\n",
        "Visually, it might look something like this:\n",
        "\n",
        "![](https://github.com/jakevdp/PythonDataScienceHandbook/blob/master/notebooks/figures/05.03-2-fold-CV.png?raw=1)\n",
        "\n",
        "Here we do two validation trials, alternately using each half of the data as a holdout set.\n",
        "Using the split data from before, we could implement it like this:"
      ]
    },
    {
      "cell_type": "code",
      "execution_count": null,
      "metadata": {
        "deletable": true,
        "editable": true,
        "id": "TVxjCXfrNOSi"
      },
      "outputs": [],
      "source": [
        "y2_model = model.fit(X1, y1).predict(X2)\n",
        "y1_model = model.fit(X2, y2).predict(X1)\n",
        "accuracy_score(y1, y1_model), accuracy_score(y2, y2_model)"
      ]
    },
    {
      "cell_type": "markdown",
      "metadata": {
        "deletable": true,
        "editable": true,
        "id": "dy1UXLYLNOSi"
      },
      "source": [
        "What comes out are two accuracy scores, which we could combine (by, say, taking the mean) to get a better measure of the global model performance.\n",
        "This particular form of cross-validation is a *two-fold cross-validation*—that is, one in which we have split the data into two sets and used each in turn as a validation set.\n",
        "\n",
        "We could expand on this idea to use even more trials, and more folds in the data—for example, here is a visual depiction of five-fold cross-validation:\n",
        "\n",
        "![](https://github.com/jakevdp/PythonDataScienceHandbook/blob/master/notebooks/figures/05.03-5-fold-CV.png?raw=1)\n",
        "\n",
        "Here we split the data into five groups, and use each of them in turn to evaluate the model fit on the other 4/5 of the data.\n",
        "This would be rather tedious to do by hand, and so we can use Scikit-Learn's ``cross_val_score`` convenience routine to do it succinctly:"
      ]
    },
    {
      "cell_type": "code",
      "execution_count": null,
      "metadata": {
        "deletable": true,
        "editable": true,
        "id": "FRw7ENfsNOSj"
      },
      "outputs": [],
      "source": [
        "from sklearn.model_selection import cross_val_score\n",
        "cross_val_score(model, X, y, cv=5)"
      ]
    },
    {
      "cell_type": "markdown",
      "metadata": {
        "deletable": true,
        "editable": true,
        "id": "UsfckjZANOSj"
      },
      "source": [
        "Repeating the validation across different subsets of the data gives us an even better idea of the performance of the algorithm.\n",
        "\n",
        "Scikit-Learn implements a number of useful cross-validation schemes that are useful in particular situations; these are implemented via iterators in the ``cross_validation`` module.\n",
        "For example, we might wish to go to the extreme case in which our number of folds is equal to the number of data points: that is, we train on all points but one in each trial.\n",
        "This type of cross-validation is known as *leave-one-out* cross validation, and can be used as follows:"
      ]
    },
    {
      "cell_type": "code",
      "execution_count": null,
      "metadata": {
        "deletable": true,
        "editable": true,
        "id": "k8dD8vX8NOSj"
      },
      "outputs": [],
      "source": [
        "from sklearn.model_selection import LeaveOneOut\n",
        "scores = cross_val_score(model, X, y, cv=LeaveOneOut())\n",
        "scores"
      ]
    },
    {
      "cell_type": "markdown",
      "metadata": {
        "deletable": true,
        "editable": true,
        "id": "B4CwUK2pNOSj"
      },
      "source": [
        "Because we have 150 samples, the leave one out cross-validation yields scores for 150 trials, and the score indicates either successful (1.0) or unsuccessful (0.0) prediction.\n",
        "Taking the mean of these gives an estimate of the error rate:"
      ]
    },
    {
      "cell_type": "code",
      "execution_count": null,
      "metadata": {
        "deletable": true,
        "editable": true,
        "id": "BEJ9HBG8NOSj"
      },
      "outputs": [],
      "source": [
        "scores.mean()"
      ]
    },
    {
      "cell_type": "markdown",
      "metadata": {
        "deletable": true,
        "editable": true,
        "id": "Wa2o_HB0NOSj"
      },
      "source": [
        "Other cross-validation schemes can be used similarly.\n",
        "For a description of what is available in Scikit-Learn, use IPython to explore the ``sklearn.cross_validation`` submodule, or take a look at Scikit-Learn's online [cross-validation documentation](http://scikit-learn.org/stable/modules/cross_validation.html)."
      ]
    }
  ]
}