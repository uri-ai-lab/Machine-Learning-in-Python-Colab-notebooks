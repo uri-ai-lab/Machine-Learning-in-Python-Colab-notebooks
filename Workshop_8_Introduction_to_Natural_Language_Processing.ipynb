{
  "nbformat": 4,
  "nbformat_minor": 0,
  "metadata": {
    "colab": {
      "provenance": [],
      "include_colab_link": true
    },
    "kernelspec": {
      "name": "python3",
      "display_name": "Python 3"
    },
    "language_info": {
      "name": "python"
    }
  },
  "cells": [
    {
      "cell_type": "markdown",
      "metadata": {
        "id": "view-in-github",
        "colab_type": "text"
      },
      "source": [
        "<a href=\"https://colab.research.google.com/github/uri-ai-lab/Machine-Learning-in-Python-Colab-notebooks/blob/main/Workshop_8_Introduction_to_Natural_Language_Processing.ipynb\" target=\"_parent\"><img src=\"https://colab.research.google.com/assets/colab-badge.svg\" alt=\"Open In Colab\"/></a>"
      ]
    },
    {
      "cell_type": "markdown",
      "source": [
        "#Introduction to Natural Language Processing"
      ],
      "metadata": {
        "id": "YGSRnkkD2MvZ"
      }
    },
    {
      "cell_type": "markdown",
      "source": [
        "Look at the technologies around us:\n",
        "\n",
        "* Spellcheck and autocorrect\n",
        "* Auto-generated video captions\n",
        "* Virtual assistants like Amazon’s Alexa\n",
        "* Autocomplete\n",
        "* Your news site’s suggested articles\n",
        "\n",
        "What do they have in common?\n",
        "\n",
        "All of these handy technologies exist because of natural language processing! Also known as NLP, the field is at the intersection of linguistics, artificial intelligence, and computer science. The goal? Enabling computers to interpret, analyze, and approximate the generation of human languages (like English or Spanish).\n",
        "\n",
        "NLP got its start around 1950 with Alan Turing’s test for artificial intelligence evaluating whether a computer can use language to fool humans into believing it’s human.\n",
        "\n",
        "But approximating human speech is only one of a wide range of applications for NLP! Applications from detecting spam emails or bias in tweets to improving accessibility for people with disabilities all rely heavily on natural language processing techniques.\n",
        "\n",
        "NLP can be conducted in several programming languages. However, Python has some of the most extensive open-source NLP libraries, including the Natural Language Toolkit or NLTK."
      ],
      "metadata": {
        "id": "JyE92QYp2QEZ"
      }
    },
    {
      "cell_type": "markdown",
      "source": [
        "## Text Preprocessing"
      ],
      "metadata": {
        "id": "4YkFfbyL45kR"
      }
    },
    {
      "cell_type": "markdown",
      "source": [
        "Cleaning and preparation are crucial for many tasks, and NLP is no exception. Text preprocessing is usually the first step you’ll take when faced with an NLP task.\n",
        "\n",
        "Without preprocessing, your computer interprets \"the\", \"The\", and \"<p>The\" as entirely different words. There is a LOT you can do here, depending on the formatting you need. Lucky for you, Regex and NLTK will do most of it for you! Common tasks include:\n",
        "\n",
        "* Noise removal — stripping text of formatting (e.g., HTML tags).\n",
        "\n",
        "* Tokenization — breaking text into individual words.\n",
        "\n",
        "* Normalization — cleaning text data in any other way:\n",
        "\n",
        "  * Stemming is a blunt axe to chop off word prefixes and suffixes. “booing” and “booed” become “boo”, but “computer” may become “comput” and “are” would remain “are.”\n",
        "  * Lemmatization is a scalpel to bring words down to their root forms. For example, NLTK’s savvy lemmatizer knows “am” and “are” are related to “be.”\n",
        "  * Other common tasks include lowercasing, stopwords removal, spelling correction, etc.\n",
        "\n",
        "  The difference between stemming and lemmatization is, lemmatization considers the context and converts the word to its meaningful base form, whereas stemming just removes the last few characters, often leading to incorrect meanings and spelling errors.\n",
        "\n",
        "![img1](https://drive.google.com/uc?id=1J0AGAMt93z_1Cq_8fu7oVZJ-X_3816oa)\n"
      ],
      "metadata": {
        "id": "7LAmXjjX486T"
      }
    },
    {
      "cell_type": "code",
      "metadata": {
        "id": "GbZF2maQECDk"
      },
      "source": [
        "import numpy as np\n",
        "import re #regular expressions\n",
        "import matplotlib.pyplot as plt\n",
        "plt.style.use('seaborn-darkgrid')\n",
        "import seaborn as sns\n",
        "\n",
        "import pandas as pd\n",
        "from nltk import PorterStemmer\n",
        "from textblob import TextBlob #for nlp\n",
        "\n",
        "from nltk.corpus import stopwords\n",
        "from nltk.stem.wordnet import WordNetLemmatizer"
      ],
      "execution_count": null,
      "outputs": []
    },
    {
      "cell_type": "markdown",
      "source": [
        "### Importing data file\n",
        "\n",
        "[data file link](https://www.kaggle.com/datasets/gpreda/covid19-tweets)"
      ],
      "metadata": {
        "id": "zc_09B62ilNW"
      }
    },
    {
      "cell_type": "code",
      "metadata": {
        "id": "26ClYzyYEIWA",
        "colab": {
          "base_uri": "https://localhost:8080/"
        },
        "outputId": "df860881-6b7d-482b-dc65-94d747716260"
      },
      "source": [
        "from google.colab import drive\n",
        "drive.mount('/content/drive')"
      ],
      "execution_count": null,
      "outputs": [
        {
          "output_type": "stream",
          "name": "stdout",
          "text": [
            "Drive already mounted at /content/drive; to attempt to forcibly remount, call drive.mount(\"/content/drive\", force_remount=True).\n"
          ]
        }
      ]
    },
    {
      "cell_type": "code",
      "metadata": {
        "id": "45RqEhuHEY1J"
      },
      "source": [
        "tweets = pd.read_csv('/content/drive/MyDrive/AI lab workshops/Workshop notebooks/Python/Resources/covid19_tweets.csv')"
      ],
      "execution_count": null,
      "outputs": []
    },
    {
      "cell_type": "code",
      "metadata": {
        "colab": {
          "base_uri": "https://localhost:8080/",
          "height": 337
        },
        "id": "3xAAjTts5p06",
        "outputId": "af63d893-ed32-41ab-f6d3-62f50a2180f2"
      },
      "source": [
        "tweets.head()"
      ],
      "execution_count": null,
      "outputs": [
        {
          "output_type": "execute_result",
          "data": {
            "text/plain": [
              "         user_name         user_location  \\\n",
              "0           ᏉᎥ☻լꂅϮ            astroworld   \n",
              "1    Tom Basile 🇺🇸          New York, NY   \n",
              "2  Time4fisticuffs      Pewee Valley, KY   \n",
              "3      ethel mertz  Stuck in the Middle    \n",
              "4         DIPR-J&K     Jammu and Kashmir   \n",
              "\n",
              "                                    user_description         user_created  \\\n",
              "0  wednesday addams as a disney princess keepin i...  2017-05-26 05:46:42   \n",
              "1  Husband, Father, Columnist & Commentator. Auth...  2009-04-16 20:06:23   \n",
              "2  #Christian #Catholic #Conservative #Reagan #Re...  2009-02-28 18:57:41   \n",
              "3  #Browns #Indians #ClevelandProud #[]_[] #Cavs ...  2019-03-07 01:45:06   \n",
              "4  🖊️Official Twitter handle of Department of Inf...  2017-02-12 06:45:15   \n",
              "\n",
              "   user_followers  user_friends  user_favourites  user_verified  \\\n",
              "0             624           950            18775          False   \n",
              "1            2253          1677               24           True   \n",
              "2            9275          9525             7254          False   \n",
              "3             197           987             1488          False   \n",
              "4          101009           168              101          False   \n",
              "\n",
              "                  date                                               text  \\\n",
              "0  2020-07-25 12:27:21  If I smelled the scent of hand sanitizers toda...   \n",
              "1  2020-07-25 12:27:17  Hey @Yankees @YankeesPR and @MLB - wouldn't it...   \n",
              "2  2020-07-25 12:27:14  @diane3443 @wdunlap @realDonaldTrump Trump nev...   \n",
              "3  2020-07-25 12:27:10  @brookbanktv The one gift #COVID19 has give me...   \n",
              "4  2020-07-25 12:27:08  25 July : Media Bulletin on Novel #CoronaVirus...   \n",
              "\n",
              "                            hashtags               source  is_retweet  \n",
              "0                                NaN   Twitter for iPhone       False  \n",
              "1                                NaN  Twitter for Android       False  \n",
              "2                        ['COVID19']  Twitter for Android       False  \n",
              "3                        ['COVID19']   Twitter for iPhone       False  \n",
              "4  ['CoronaVirusUpdates', 'COVID19']  Twitter for Android       False  "
            ],
            "text/html": [
              "\n",
              "  <div id=\"df-6f502699-9a45-4802-af26-e8fbeeccbdda\">\n",
              "    <div class=\"colab-df-container\">\n",
              "      <div>\n",
              "<style scoped>\n",
              "    .dataframe tbody tr th:only-of-type {\n",
              "        vertical-align: middle;\n",
              "    }\n",
              "\n",
              "    .dataframe tbody tr th {\n",
              "        vertical-align: top;\n",
              "    }\n",
              "\n",
              "    .dataframe thead th {\n",
              "        text-align: right;\n",
              "    }\n",
              "</style>\n",
              "<table border=\"1\" class=\"dataframe\">\n",
              "  <thead>\n",
              "    <tr style=\"text-align: right;\">\n",
              "      <th></th>\n",
              "      <th>user_name</th>\n",
              "      <th>user_location</th>\n",
              "      <th>user_description</th>\n",
              "      <th>user_created</th>\n",
              "      <th>user_followers</th>\n",
              "      <th>user_friends</th>\n",
              "      <th>user_favourites</th>\n",
              "      <th>user_verified</th>\n",
              "      <th>date</th>\n",
              "      <th>text</th>\n",
              "      <th>hashtags</th>\n",
              "      <th>source</th>\n",
              "      <th>is_retweet</th>\n",
              "    </tr>\n",
              "  </thead>\n",
              "  <tbody>\n",
              "    <tr>\n",
              "      <th>0</th>\n",
              "      <td>ᏉᎥ☻լꂅϮ</td>\n",
              "      <td>astroworld</td>\n",
              "      <td>wednesday addams as a disney princess keepin i...</td>\n",
              "      <td>2017-05-26 05:46:42</td>\n",
              "      <td>624</td>\n",
              "      <td>950</td>\n",
              "      <td>18775</td>\n",
              "      <td>False</td>\n",
              "      <td>2020-07-25 12:27:21</td>\n",
              "      <td>If I smelled the scent of hand sanitizers toda...</td>\n",
              "      <td>NaN</td>\n",
              "      <td>Twitter for iPhone</td>\n",
              "      <td>False</td>\n",
              "    </tr>\n",
              "    <tr>\n",
              "      <th>1</th>\n",
              "      <td>Tom Basile 🇺🇸</td>\n",
              "      <td>New York, NY</td>\n",
              "      <td>Husband, Father, Columnist &amp; Commentator. Auth...</td>\n",
              "      <td>2009-04-16 20:06:23</td>\n",
              "      <td>2253</td>\n",
              "      <td>1677</td>\n",
              "      <td>24</td>\n",
              "      <td>True</td>\n",
              "      <td>2020-07-25 12:27:17</td>\n",
              "      <td>Hey @Yankees @YankeesPR and @MLB - wouldn't it...</td>\n",
              "      <td>NaN</td>\n",
              "      <td>Twitter for Android</td>\n",
              "      <td>False</td>\n",
              "    </tr>\n",
              "    <tr>\n",
              "      <th>2</th>\n",
              "      <td>Time4fisticuffs</td>\n",
              "      <td>Pewee Valley, KY</td>\n",
              "      <td>#Christian #Catholic #Conservative #Reagan #Re...</td>\n",
              "      <td>2009-02-28 18:57:41</td>\n",
              "      <td>9275</td>\n",
              "      <td>9525</td>\n",
              "      <td>7254</td>\n",
              "      <td>False</td>\n",
              "      <td>2020-07-25 12:27:14</td>\n",
              "      <td>@diane3443 @wdunlap @realDonaldTrump Trump nev...</td>\n",
              "      <td>['COVID19']</td>\n",
              "      <td>Twitter for Android</td>\n",
              "      <td>False</td>\n",
              "    </tr>\n",
              "    <tr>\n",
              "      <th>3</th>\n",
              "      <td>ethel mertz</td>\n",
              "      <td>Stuck in the Middle</td>\n",
              "      <td>#Browns #Indians #ClevelandProud #[]_[] #Cavs ...</td>\n",
              "      <td>2019-03-07 01:45:06</td>\n",
              "      <td>197</td>\n",
              "      <td>987</td>\n",
              "      <td>1488</td>\n",
              "      <td>False</td>\n",
              "      <td>2020-07-25 12:27:10</td>\n",
              "      <td>@brookbanktv The one gift #COVID19 has give me...</td>\n",
              "      <td>['COVID19']</td>\n",
              "      <td>Twitter for iPhone</td>\n",
              "      <td>False</td>\n",
              "    </tr>\n",
              "    <tr>\n",
              "      <th>4</th>\n",
              "      <td>DIPR-J&amp;K</td>\n",
              "      <td>Jammu and Kashmir</td>\n",
              "      <td>🖊️Official Twitter handle of Department of Inf...</td>\n",
              "      <td>2017-02-12 06:45:15</td>\n",
              "      <td>101009</td>\n",
              "      <td>168</td>\n",
              "      <td>101</td>\n",
              "      <td>False</td>\n",
              "      <td>2020-07-25 12:27:08</td>\n",
              "      <td>25 July : Media Bulletin on Novel #CoronaVirus...</td>\n",
              "      <td>['CoronaVirusUpdates', 'COVID19']</td>\n",
              "      <td>Twitter for Android</td>\n",
              "      <td>False</td>\n",
              "    </tr>\n",
              "  </tbody>\n",
              "</table>\n",
              "</div>\n",
              "      <button class=\"colab-df-convert\" onclick=\"convertToInteractive('df-6f502699-9a45-4802-af26-e8fbeeccbdda')\"\n",
              "              title=\"Convert this dataframe to an interactive table.\"\n",
              "              style=\"display:none;\">\n",
              "        \n",
              "  <svg xmlns=\"http://www.w3.org/2000/svg\" height=\"24px\"viewBox=\"0 0 24 24\"\n",
              "       width=\"24px\">\n",
              "    <path d=\"M0 0h24v24H0V0z\" fill=\"none\"/>\n",
              "    <path d=\"M18.56 5.44l.94 2.06.94-2.06 2.06-.94-2.06-.94-.94-2.06-.94 2.06-2.06.94zm-11 1L8.5 8.5l.94-2.06 2.06-.94-2.06-.94L8.5 2.5l-.94 2.06-2.06.94zm10 10l.94 2.06.94-2.06 2.06-.94-2.06-.94-.94-2.06-.94 2.06-2.06.94z\"/><path d=\"M17.41 7.96l-1.37-1.37c-.4-.4-.92-.59-1.43-.59-.52 0-1.04.2-1.43.59L10.3 9.45l-7.72 7.72c-.78.78-.78 2.05 0 2.83L4 21.41c.39.39.9.59 1.41.59.51 0 1.02-.2 1.41-.59l7.78-7.78 2.81-2.81c.8-.78.8-2.07 0-2.86zM5.41 20L4 18.59l7.72-7.72 1.47 1.35L5.41 20z\"/>\n",
              "  </svg>\n",
              "      </button>\n",
              "      \n",
              "  <style>\n",
              "    .colab-df-container {\n",
              "      display:flex;\n",
              "      flex-wrap:wrap;\n",
              "      gap: 12px;\n",
              "    }\n",
              "\n",
              "    .colab-df-convert {\n",
              "      background-color: #E8F0FE;\n",
              "      border: none;\n",
              "      border-radius: 50%;\n",
              "      cursor: pointer;\n",
              "      display: none;\n",
              "      fill: #1967D2;\n",
              "      height: 32px;\n",
              "      padding: 0 0 0 0;\n",
              "      width: 32px;\n",
              "    }\n",
              "\n",
              "    .colab-df-convert:hover {\n",
              "      background-color: #E2EBFA;\n",
              "      box-shadow: 0px 1px 2px rgba(60, 64, 67, 0.3), 0px 1px 3px 1px rgba(60, 64, 67, 0.15);\n",
              "      fill: #174EA6;\n",
              "    }\n",
              "\n",
              "    [theme=dark] .colab-df-convert {\n",
              "      background-color: #3B4455;\n",
              "      fill: #D2E3FC;\n",
              "    }\n",
              "\n",
              "    [theme=dark] .colab-df-convert:hover {\n",
              "      background-color: #434B5C;\n",
              "      box-shadow: 0px 1px 3px 1px rgba(0, 0, 0, 0.15);\n",
              "      filter: drop-shadow(0px 1px 2px rgba(0, 0, 0, 0.3));\n",
              "      fill: #FFFFFF;\n",
              "    }\n",
              "  </style>\n",
              "\n",
              "      <script>\n",
              "        const buttonEl =\n",
              "          document.querySelector('#df-6f502699-9a45-4802-af26-e8fbeeccbdda button.colab-df-convert');\n",
              "        buttonEl.style.display =\n",
              "          google.colab.kernel.accessAllowed ? 'block' : 'none';\n",
              "\n",
              "        async function convertToInteractive(key) {\n",
              "          const element = document.querySelector('#df-6f502699-9a45-4802-af26-e8fbeeccbdda');\n",
              "          const dataTable =\n",
              "            await google.colab.kernel.invokeFunction('convertToInteractive',\n",
              "                                                     [key], {});\n",
              "          if (!dataTable) return;\n",
              "\n",
              "          const docLinkHtml = 'Like what you see? Visit the ' +\n",
              "            '<a target=\"_blank\" href=https://colab.research.google.com/notebooks/data_table.ipynb>data table notebook</a>'\n",
              "            + ' to learn more about interactive tables.';\n",
              "          element.innerHTML = '';\n",
              "          dataTable['output_type'] = 'display_data';\n",
              "          await google.colab.output.renderOutput(dataTable, element);\n",
              "          const docLink = document.createElement('div');\n",
              "          docLink.innerHTML = docLinkHtml;\n",
              "          element.appendChild(docLink);\n",
              "        }\n",
              "      </script>\n",
              "    </div>\n",
              "  </div>\n",
              "  "
            ]
          },
          "metadata": {},
          "execution_count": 20
        }
      ]
    },
    {
      "cell_type": "markdown",
      "metadata": {
        "id": "PZMwHjheqKj0"
      },
      "source": [
        "### **Data Pre-processing**"
      ]
    },
    {
      "cell_type": "code",
      "metadata": {
        "id": "pSlXqyZ4mNh7"
      },
      "source": [
        "# function to replace a pattern\n",
        "def remove_pattern(text, pattern):\n",
        "    r = re.findall(pattern, text)\n",
        "    for i in r:\n",
        "        text = re.sub(i, \"\", text)\n",
        "    return text\n",
        ""
      ],
      "execution_count": null,
      "outputs": []
    },
    {
      "cell_type": "code",
      "metadata": {
        "colab": {
          "base_uri": "https://localhost:8080/",
          "height": 390
        },
        "id": "FOy30bV7mB8f",
        "outputId": "0d12886c-e4ed-4a55-cb1f-b3e25242dfd6"
      },
      "source": [
        "tweets['text'] = np.vectorize(remove_pattern)(tweets['text'], \"@[\\w]*\")\n",
        "tweets['text'] = np.vectorize(remove_pattern)(tweets['text'], \"#[\\w]*\")\n",
        "tweets['text'] = np.vectorize(remove_pattern)(tweets['text'], '[0-9]')\n",
        "tweets['text'] = tweets['text'].str.replace(\"[^a-zA-Z#]\", \" \") #remove non-alphabets\n",
        "tweets['text'] = tweets['text'].apply(lambda x: ' '.join([i for i in x.split() if len(i) > 3])) #remove words with less than 3 characters\n",
        "tweets.head()"
      ],
      "execution_count": null,
      "outputs": [
        {
          "output_type": "stream",
          "name": "stderr",
          "text": [
            "/usr/local/lib/python3.7/dist-packages/ipykernel_launcher.py:4: FutureWarning: The default value of regex will change from True to False in a future version.\n",
            "  after removing the cwd from sys.path.\n"
          ]
        },
        {
          "output_type": "execute_result",
          "data": {
            "text/plain": [
              "         user_name         user_location  \\\n",
              "0           ᏉᎥ☻լꂅϮ            astroworld   \n",
              "1    Tom Basile 🇺🇸          New York, NY   \n",
              "2  Time4fisticuffs      Pewee Valley, KY   \n",
              "3      ethel mertz  Stuck in the Middle    \n",
              "4         DIPR-J&K     Jammu and Kashmir   \n",
              "\n",
              "                                    user_description         user_created  \\\n",
              "0  wednesday addams as a disney princess keepin i...  2017-05-26 05:46:42   \n",
              "1  Husband, Father, Columnist & Commentator. Auth...  2009-04-16 20:06:23   \n",
              "2  #Christian #Catholic #Conservative #Reagan #Re...  2009-02-28 18:57:41   \n",
              "3  #Browns #Indians #ClevelandProud #[]_[] #Cavs ...  2019-03-07 01:45:06   \n",
              "4  🖊️Official Twitter handle of Department of Inf...  2017-02-12 06:45:15   \n",
              "\n",
              "   user_followers  user_friends  user_favourites  user_verified  \\\n",
              "0             624           950            18775          False   \n",
              "1            2253          1677               24           True   \n",
              "2            9275          9525             7254          False   \n",
              "3             197           987             1488          False   \n",
              "4          101009           168              101          False   \n",
              "\n",
              "                  date                                               text  \\\n",
              "0  2020-07-25 12:27:21  smelled scent hand sanitizers today someone pa...   \n",
              "1  2020-07-25 12:27:17  wouldn have made more sense have players their...   \n",
              "2  2020-07-25 12:27:14  Trump never once claimed hoax claim that this ...   \n",
              "3  2020-07-25 12:27:10  gift give appreciation simple things that were...   \n",
              "4  2020-07-25 12:27:08          July Media Bulletin Novel https MNEEcsJHh   \n",
              "\n",
              "                            hashtags               source  is_retweet  \n",
              "0                                NaN   Twitter for iPhone       False  \n",
              "1                                NaN  Twitter for Android       False  \n",
              "2                        ['COVID19']  Twitter for Android       False  \n",
              "3                        ['COVID19']   Twitter for iPhone       False  \n",
              "4  ['CoronaVirusUpdates', 'COVID19']  Twitter for Android       False  "
            ],
            "text/html": [
              "\n",
              "  <div id=\"df-d30cf3cd-ca68-4007-b598-8faa54edc27a\">\n",
              "    <div class=\"colab-df-container\">\n",
              "      <div>\n",
              "<style scoped>\n",
              "    .dataframe tbody tr th:only-of-type {\n",
              "        vertical-align: middle;\n",
              "    }\n",
              "\n",
              "    .dataframe tbody tr th {\n",
              "        vertical-align: top;\n",
              "    }\n",
              "\n",
              "    .dataframe thead th {\n",
              "        text-align: right;\n",
              "    }\n",
              "</style>\n",
              "<table border=\"1\" class=\"dataframe\">\n",
              "  <thead>\n",
              "    <tr style=\"text-align: right;\">\n",
              "      <th></th>\n",
              "      <th>user_name</th>\n",
              "      <th>user_location</th>\n",
              "      <th>user_description</th>\n",
              "      <th>user_created</th>\n",
              "      <th>user_followers</th>\n",
              "      <th>user_friends</th>\n",
              "      <th>user_favourites</th>\n",
              "      <th>user_verified</th>\n",
              "      <th>date</th>\n",
              "      <th>text</th>\n",
              "      <th>hashtags</th>\n",
              "      <th>source</th>\n",
              "      <th>is_retweet</th>\n",
              "    </tr>\n",
              "  </thead>\n",
              "  <tbody>\n",
              "    <tr>\n",
              "      <th>0</th>\n",
              "      <td>ᏉᎥ☻լꂅϮ</td>\n",
              "      <td>astroworld</td>\n",
              "      <td>wednesday addams as a disney princess keepin i...</td>\n",
              "      <td>2017-05-26 05:46:42</td>\n",
              "      <td>624</td>\n",
              "      <td>950</td>\n",
              "      <td>18775</td>\n",
              "      <td>False</td>\n",
              "      <td>2020-07-25 12:27:21</td>\n",
              "      <td>smelled scent hand sanitizers today someone pa...</td>\n",
              "      <td>NaN</td>\n",
              "      <td>Twitter for iPhone</td>\n",
              "      <td>False</td>\n",
              "    </tr>\n",
              "    <tr>\n",
              "      <th>1</th>\n",
              "      <td>Tom Basile 🇺🇸</td>\n",
              "      <td>New York, NY</td>\n",
              "      <td>Husband, Father, Columnist &amp; Commentator. Auth...</td>\n",
              "      <td>2009-04-16 20:06:23</td>\n",
              "      <td>2253</td>\n",
              "      <td>1677</td>\n",
              "      <td>24</td>\n",
              "      <td>True</td>\n",
              "      <td>2020-07-25 12:27:17</td>\n",
              "      <td>wouldn have made more sense have players their...</td>\n",
              "      <td>NaN</td>\n",
              "      <td>Twitter for Android</td>\n",
              "      <td>False</td>\n",
              "    </tr>\n",
              "    <tr>\n",
              "      <th>2</th>\n",
              "      <td>Time4fisticuffs</td>\n",
              "      <td>Pewee Valley, KY</td>\n",
              "      <td>#Christian #Catholic #Conservative #Reagan #Re...</td>\n",
              "      <td>2009-02-28 18:57:41</td>\n",
              "      <td>9275</td>\n",
              "      <td>9525</td>\n",
              "      <td>7254</td>\n",
              "      <td>False</td>\n",
              "      <td>2020-07-25 12:27:14</td>\n",
              "      <td>Trump never once claimed hoax claim that this ...</td>\n",
              "      <td>['COVID19']</td>\n",
              "      <td>Twitter for Android</td>\n",
              "      <td>False</td>\n",
              "    </tr>\n",
              "    <tr>\n",
              "      <th>3</th>\n",
              "      <td>ethel mertz</td>\n",
              "      <td>Stuck in the Middle</td>\n",
              "      <td>#Browns #Indians #ClevelandProud #[]_[] #Cavs ...</td>\n",
              "      <td>2019-03-07 01:45:06</td>\n",
              "      <td>197</td>\n",
              "      <td>987</td>\n",
              "      <td>1488</td>\n",
              "      <td>False</td>\n",
              "      <td>2020-07-25 12:27:10</td>\n",
              "      <td>gift give appreciation simple things that were...</td>\n",
              "      <td>['COVID19']</td>\n",
              "      <td>Twitter for iPhone</td>\n",
              "      <td>False</td>\n",
              "    </tr>\n",
              "    <tr>\n",
              "      <th>4</th>\n",
              "      <td>DIPR-J&amp;K</td>\n",
              "      <td>Jammu and Kashmir</td>\n",
              "      <td>🖊️Official Twitter handle of Department of Inf...</td>\n",
              "      <td>2017-02-12 06:45:15</td>\n",
              "      <td>101009</td>\n",
              "      <td>168</td>\n",
              "      <td>101</td>\n",
              "      <td>False</td>\n",
              "      <td>2020-07-25 12:27:08</td>\n",
              "      <td>July Media Bulletin Novel https MNEEcsJHh</td>\n",
              "      <td>['CoronaVirusUpdates', 'COVID19']</td>\n",
              "      <td>Twitter for Android</td>\n",
              "      <td>False</td>\n",
              "    </tr>\n",
              "  </tbody>\n",
              "</table>\n",
              "</div>\n",
              "      <button class=\"colab-df-convert\" onclick=\"convertToInteractive('df-d30cf3cd-ca68-4007-b598-8faa54edc27a')\"\n",
              "              title=\"Convert this dataframe to an interactive table.\"\n",
              "              style=\"display:none;\">\n",
              "        \n",
              "  <svg xmlns=\"http://www.w3.org/2000/svg\" height=\"24px\"viewBox=\"0 0 24 24\"\n",
              "       width=\"24px\">\n",
              "    <path d=\"M0 0h24v24H0V0z\" fill=\"none\"/>\n",
              "    <path d=\"M18.56 5.44l.94 2.06.94-2.06 2.06-.94-2.06-.94-.94-2.06-.94 2.06-2.06.94zm-11 1L8.5 8.5l.94-2.06 2.06-.94-2.06-.94L8.5 2.5l-.94 2.06-2.06.94zm10 10l.94 2.06.94-2.06 2.06-.94-2.06-.94-.94-2.06-.94 2.06-2.06.94z\"/><path d=\"M17.41 7.96l-1.37-1.37c-.4-.4-.92-.59-1.43-.59-.52 0-1.04.2-1.43.59L10.3 9.45l-7.72 7.72c-.78.78-.78 2.05 0 2.83L4 21.41c.39.39.9.59 1.41.59.51 0 1.02-.2 1.41-.59l7.78-7.78 2.81-2.81c.8-.78.8-2.07 0-2.86zM5.41 20L4 18.59l7.72-7.72 1.47 1.35L5.41 20z\"/>\n",
              "  </svg>\n",
              "      </button>\n",
              "      \n",
              "  <style>\n",
              "    .colab-df-container {\n",
              "      display:flex;\n",
              "      flex-wrap:wrap;\n",
              "      gap: 12px;\n",
              "    }\n",
              "\n",
              "    .colab-df-convert {\n",
              "      background-color: #E8F0FE;\n",
              "      border: none;\n",
              "      border-radius: 50%;\n",
              "      cursor: pointer;\n",
              "      display: none;\n",
              "      fill: #1967D2;\n",
              "      height: 32px;\n",
              "      padding: 0 0 0 0;\n",
              "      width: 32px;\n",
              "    }\n",
              "\n",
              "    .colab-df-convert:hover {\n",
              "      background-color: #E2EBFA;\n",
              "      box-shadow: 0px 1px 2px rgba(60, 64, 67, 0.3), 0px 1px 3px 1px rgba(60, 64, 67, 0.15);\n",
              "      fill: #174EA6;\n",
              "    }\n",
              "\n",
              "    [theme=dark] .colab-df-convert {\n",
              "      background-color: #3B4455;\n",
              "      fill: #D2E3FC;\n",
              "    }\n",
              "\n",
              "    [theme=dark] .colab-df-convert:hover {\n",
              "      background-color: #434B5C;\n",
              "      box-shadow: 0px 1px 3px 1px rgba(0, 0, 0, 0.15);\n",
              "      filter: drop-shadow(0px 1px 2px rgba(0, 0, 0, 0.3));\n",
              "      fill: #FFFFFF;\n",
              "    }\n",
              "  </style>\n",
              "\n",
              "      <script>\n",
              "        const buttonEl =\n",
              "          document.querySelector('#df-d30cf3cd-ca68-4007-b598-8faa54edc27a button.colab-df-convert');\n",
              "        buttonEl.style.display =\n",
              "          google.colab.kernel.accessAllowed ? 'block' : 'none';\n",
              "\n",
              "        async function convertToInteractive(key) {\n",
              "          const element = document.querySelector('#df-d30cf3cd-ca68-4007-b598-8faa54edc27a');\n",
              "          const dataTable =\n",
              "            await google.colab.kernel.invokeFunction('convertToInteractive',\n",
              "                                                     [key], {});\n",
              "          if (!dataTable) return;\n",
              "\n",
              "          const docLinkHtml = 'Like what you see? Visit the ' +\n",
              "            '<a target=\"_blank\" href=https://colab.research.google.com/notebooks/data_table.ipynb>data table notebook</a>'\n",
              "            + ' to learn more about interactive tables.';\n",
              "          element.innerHTML = '';\n",
              "          dataTable['output_type'] = 'display_data';\n",
              "          await google.colab.output.renderOutput(dataTable, element);\n",
              "          const docLink = document.createElement('div');\n",
              "          docLink.innerHTML = docLinkHtml;\n",
              "          element.appendChild(docLink);\n",
              "        }\n",
              "      </script>\n",
              "    </div>\n",
              "  </div>\n",
              "  "
            ]
          },
          "metadata": {},
          "execution_count": 22
        }
      ]
    },
    {
      "cell_type": "markdown",
      "metadata": {
        "id": "S-DkKyzfqWq6"
      },
      "source": [
        "### **Tokenization**"
      ]
    },
    {
      "cell_type": "code",
      "metadata": {
        "colab": {
          "base_uri": "https://localhost:8080/"
        },
        "id": "OHpx1O8xmn7w",
        "outputId": "c8deb5e3-f754-42b7-aebf-9a13d4b6bac9"
      },
      "source": [
        "from nltk.tokenize import TweetTokenizer\n",
        "tknzr = TweetTokenizer(strip_handles=True, reduce_len=True)\n",
        "tweets.text = [tknzr.tokenize(tweet) for tweet in tweets.text]\n",
        "tweets.text[0]"
      ],
      "execution_count": null,
      "outputs": [
        {
          "output_type": "execute_result",
          "data": {
            "text/plain": [
              "['smelled',\n",
              " 'scent',\n",
              " 'hand',\n",
              " 'sanitizers',\n",
              " 'today',\n",
              " 'someone',\n",
              " 'past',\n",
              " 'would',\n",
              " 'think',\n",
              " 'they',\n",
              " 'were',\n",
              " 'intoxicated',\n",
              " 'that',\n",
              " 'https',\n",
              " 'QZvYbrOgb']"
            ]
          },
          "metadata": {},
          "execution_count": 23
        }
      ]
    },
    {
      "cell_type": "markdown",
      "metadata": {
        "id": "U88NmGvYrUmG"
      },
      "source": [
        "### **Lemmatization using Wordnet**"
      ]
    },
    {
      "cell_type": "code",
      "metadata": {
        "colab": {
          "base_uri": "https://localhost:8080/"
        },
        "id": "U6_iOoEmoW4u",
        "outputId": "09876a4c-8d30-42c2-d620-f58b40e2524b"
      },
      "source": [
        "import nltk\n",
        "nltk.download('wordnet')\n",
        "nltk.download('omw-1.4') #Open Multilingual Wordnet"
      ],
      "execution_count": null,
      "outputs": [
        {
          "output_type": "stream",
          "name": "stderr",
          "text": [
            "[nltk_data] Downloading package wordnet to /root/nltk_data...\n",
            "[nltk_data]   Package wordnet is already up-to-date!\n",
            "[nltk_data] Downloading package omw-1.4 to /root/nltk_data...\n",
            "[nltk_data]   Package omw-1.4 is already up-to-date!\n"
          ]
        },
        {
          "output_type": "execute_result",
          "data": {
            "text/plain": [
              "True"
            ]
          },
          "metadata": {},
          "execution_count": 24
        }
      ]
    },
    {
      "cell_type": "markdown",
      "source": [
        "Word      +    Type (POS tag)     —>     Lemmatized Word\n",
        "\n",
        "driving    +    verb      ‘v’            —>     drive\n",
        "\n",
        "dogs       +    noun      ‘n’           —>     dog"
      ],
      "metadata": {
        "id": "1okziDok6im6"
      }
    },
    {
      "cell_type": "code",
      "metadata": {
        "colab": {
          "base_uri": "https://localhost:8080/"
        },
        "id": "0ii98slJos7C",
        "outputId": "93e92bc7-caa7-411e-94c4-da4cc0c806cf"
      },
      "source": [
        "le = WordNetLemmatizer()\n",
        "lemma_text = []\n",
        "for index in range(len(tweets.text)):\n",
        "  tweet = [le.lemmatize(word, pos = \"v\") for word in tweets.text[index]]\n",
        "  lemma_text.append(tweet)\n",
        "\n",
        "print(lemma_text[0:10])"
      ],
      "execution_count": null,
      "outputs": [
        {
          "output_type": "stream",
          "name": "stdout",
          "text": [
            "[['smell', 'scent', 'hand', 'sanitizers', 'today', 'someone', 'past', 'would', 'think', 'they', 'be', 'intoxicate', 'that', 'https', 'QZvYbrOgb'], ['wouldn', 'have', 'make', 'more', 'sense', 'have', 'players', 'their', 'respect', 'https', 'QvWzgyPu'], ['Trump', 'never', 'once', 'claim', 'hoax', 'claim', 'that', 'this', 'effort', 'https', 'JkkvHWHb'], ['gift', 'give', 'appreciation', 'simple', 'things', 'that', 'be', 'always', 'around', 'https', 'ZpOAlFXcW'], ['July', 'Media', 'Bulletin', 'Novel', 'https', 'MNEEcsJHh'], ['deaths', 'continue', 'rise', 'almost', 'ever', 'Politicians', 'businesses', 'want', 'https', 'hXMHooXXC'], ['Will', 'Change', 'Work', 'General', 'recruit', 'specifically', 'https', 'bjZxzGPMbK'], ['have', 'wear', 'face', 'cover', 'when', 'shop', 'this', 'include', 'visit', 'your', 'local', 'Community', 'Pharmacy', 'https', 'OSuQkdd'], ['Praying', 'good', 'health', 'recovery'], ['POPE', 'Prophet', 'Sadhu', 'Sundar', 'Selvaraj', 'Watch', 'here', 'https', 'XRTyKVji', 'https', 'dZcGUnwL']]\n"
          ]
        }
      ]
    },
    {
      "cell_type": "markdown",
      "metadata": {
        "id": "CZRBshAaibAE"
      },
      "source": [
        "### **Stop-word Elimination**"
      ]
    },
    {
      "cell_type": "markdown",
      "metadata": {
        "id": "GTCT3bwtjYdK"
      },
      "source": [
        "“Stop words” typically refers to the most common words in a language. Stop words typically need to be filtered out before or after the data (text) is processed. Stop words are a set of commonly used words in a language. Examples of stop words in English are “a”, “the”, “is”, “are” and etc."
      ]
    },
    {
      "cell_type": "code",
      "metadata": {
        "id": "3D8ILnuWy2tO",
        "colab": {
          "base_uri": "https://localhost:8080/"
        },
        "outputId": "9745bc10-7565-4a56-ddac-dd17fed67144"
      },
      "source": [
        "import nltk\n",
        "from nltk.corpus import stopwords\n",
        "nltk.download('stopwords')"
      ],
      "execution_count": null,
      "outputs": [
        {
          "output_type": "stream",
          "name": "stderr",
          "text": [
            "[nltk_data] Downloading package stopwords to /root/nltk_data...\n",
            "[nltk_data]   Package stopwords is already up-to-date!\n"
          ]
        },
        {
          "output_type": "execute_result",
          "data": {
            "text/plain": [
              "True"
            ]
          },
          "metadata": {},
          "execution_count": 26
        }
      ]
    },
    {
      "cell_type": "code",
      "source": [
        "print(stopwords.words('english'))"
      ],
      "metadata": {
        "colab": {
          "base_uri": "https://localhost:8080/"
        },
        "id": "WviOU2Zm_Glk",
        "outputId": "c053ce24-c57d-418f-c18c-9d1f5f0c9e25"
      },
      "execution_count": null,
      "outputs": [
        {
          "output_type": "stream",
          "name": "stdout",
          "text": [
            "['i', 'me', 'my', 'myself', 'we', 'our', 'ours', 'ourselves', 'you', \"you're\", \"you've\", \"you'll\", \"you'd\", 'your', 'yours', 'yourself', 'yourselves', 'he', 'him', 'his', 'himself', 'she', \"she's\", 'her', 'hers', 'herself', 'it', \"it's\", 'its', 'itself', 'they', 'them', 'their', 'theirs', 'themselves', 'what', 'which', 'who', 'whom', 'this', 'that', \"that'll\", 'these', 'those', 'am', 'is', 'are', 'was', 'were', 'be', 'been', 'being', 'have', 'has', 'had', 'having', 'do', 'does', 'did', 'doing', 'a', 'an', 'the', 'and', 'but', 'if', 'or', 'because', 'as', 'until', 'while', 'of', 'at', 'by', 'for', 'with', 'about', 'against', 'between', 'into', 'through', 'during', 'before', 'after', 'above', 'below', 'to', 'from', 'up', 'down', 'in', 'out', 'on', 'off', 'over', 'under', 'again', 'further', 'then', 'once', 'here', 'there', 'when', 'where', 'why', 'how', 'all', 'any', 'both', 'each', 'few', 'more', 'most', 'other', 'some', 'such', 'no', 'nor', 'not', 'only', 'own', 'same', 'so', 'than', 'too', 'very', 's', 't', 'can', 'will', 'just', 'don', \"don't\", 'should', \"should've\", 'now', 'd', 'll', 'm', 'o', 're', 've', 'y', 'ain', 'aren', \"aren't\", 'couldn', \"couldn't\", 'didn', \"didn't\", 'doesn', \"doesn't\", 'hadn', \"hadn't\", 'hasn', \"hasn't\", 'haven', \"haven't\", 'isn', \"isn't\", 'ma', 'mightn', \"mightn't\", 'mustn', \"mustn't\", 'needn', \"needn't\", 'shan', \"shan't\", 'shouldn', \"shouldn't\", 'wasn', \"wasn't\", 'weren', \"weren't\", 'won', \"won't\", 'wouldn', \"wouldn't\"]\n"
          ]
        }
      ]
    },
    {
      "cell_type": "code",
      "metadata": {
        "id": "6JNIYu-_72ZM"
      },
      "source": [
        "stop = set(stopwords.words('english'))\n",
        "all_stop =['https', 'say']"
      ],
      "execution_count": null,
      "outputs": []
    },
    {
      "cell_type": "code",
      "metadata": {
        "id": "oHC8CsxawJvl"
      },
      "source": [
        "tokens_without_sw =[]\n",
        "for index in range (len(lemma_text)):\n",
        "  tokens = [word for word in lemma_text[index] if not word in stop]\n",
        "  tokens_without_sw.append(tokens)"
      ],
      "execution_count": null,
      "outputs": []
    },
    {
      "cell_type": "code",
      "metadata": {
        "id": "HWuw5mU0xLEb",
        "colab": {
          "base_uri": "https://localhost:8080/"
        },
        "outputId": "843e78ae-0bf0-4ec0-d02a-b9eec31a4485"
      },
      "source": [
        "tokens_without_sw[:1]"
      ],
      "execution_count": null,
      "outputs": [
        {
          "output_type": "execute_result",
          "data": {
            "text/plain": [
              "[['smell',\n",
              "  'scent',\n",
              "  'hand',\n",
              "  'sanitizers',\n",
              "  'today',\n",
              "  'someone',\n",
              "  'past',\n",
              "  'would',\n",
              "  'think',\n",
              "  'intoxicate',\n",
              "  'https',\n",
              "  'QZvYbrOgb']]"
            ]
          },
          "metadata": {},
          "execution_count": 30
        }
      ]
    },
    {
      "cell_type": "code",
      "metadata": {
        "id": "2cSObGBn_Zu8"
      },
      "source": [
        "tokens_without_all_stop =[]\n",
        "for index in range (len(tokens_without_sw)):\n",
        "  tokens = [word for word in tokens_without_sw[index] if not word in all_stop]\n",
        "  tokens_without_all_stop.append(tokens)"
      ],
      "execution_count": null,
      "outputs": []
    },
    {
      "cell_type": "code",
      "metadata": {
        "id": "NAFusFL3yKcD",
        "colab": {
          "base_uri": "https://localhost:8080/"
        },
        "outputId": "d0871974-8081-4c2f-ed6a-324cc32e5641"
      },
      "source": [
        " tokens_without_all_stop[:1]"
      ],
      "execution_count": null,
      "outputs": [
        {
          "output_type": "execute_result",
          "data": {
            "text/plain": [
              "[['smell',\n",
              "  'scent',\n",
              "  'hand',\n",
              "  'sanitizers',\n",
              "  'today',\n",
              "  'someone',\n",
              "  'past',\n",
              "  'would',\n",
              "  'think',\n",
              "  'intoxicate',\n",
              "  'QZvYbrOgb']]"
            ]
          },
          "metadata": {},
          "execution_count": 32
        }
      ]
    },
    {
      "cell_type": "code",
      "metadata": {
        "id": "nxkMLOmKEV27",
        "colab": {
          "base_uri": "https://localhost:8080/"
        },
        "outputId": "6473d336-2756-42e4-eca6-d8dcade22c43"
      },
      "source": [
        "tokens_filtered =[]\n",
        "for index in range (len(tokens_without_all_stop)):\n",
        "  tokens = [token  for token in tokens_without_all_stop[index] if len(token)>3]\n",
        "  tokens_filtered.append(tokens)\n",
        "tokens_filtered[0]"
      ],
      "execution_count": null,
      "outputs": [
        {
          "output_type": "execute_result",
          "data": {
            "text/plain": [
              "['smell',\n",
              " 'scent',\n",
              " 'hand',\n",
              " 'sanitizers',\n",
              " 'today',\n",
              " 'someone',\n",
              " 'past',\n",
              " 'would',\n",
              " 'think',\n",
              " 'intoxicate',\n",
              " 'QZvYbrOgb']"
            ]
          },
          "metadata": {},
          "execution_count": 33
        }
      ]
    },
    {
      "cell_type": "code",
      "metadata": {
        "id": "HJGT4Xl8YQME",
        "colab": {
          "base_uri": "https://localhost:8080/",
          "height": 337
        },
        "outputId": "96fe2ae1-bef0-402b-9bd6-b5532416d51b"
      },
      "source": [
        "for i in range(len(tokens_filtered)):\n",
        "    tokens_filtered[i] = ' '.join(tokens_filtered[i])\n",
        "tweets['text'] = tokens_filtered\n",
        "tweets.head()"
      ],
      "execution_count": null,
      "outputs": [
        {
          "output_type": "execute_result",
          "data": {
            "text/plain": [
              "         user_name         user_location  \\\n",
              "0           ᏉᎥ☻լꂅϮ            astroworld   \n",
              "1    Tom Basile 🇺🇸          New York, NY   \n",
              "2  Time4fisticuffs      Pewee Valley, KY   \n",
              "3      ethel mertz  Stuck in the Middle    \n",
              "4         DIPR-J&K     Jammu and Kashmir   \n",
              "\n",
              "                                    user_description         user_created  \\\n",
              "0  wednesday addams as a disney princess keepin i...  2017-05-26 05:46:42   \n",
              "1  Husband, Father, Columnist & Commentator. Auth...  2009-04-16 20:06:23   \n",
              "2  #Christian #Catholic #Conservative #Reagan #Re...  2009-02-28 18:57:41   \n",
              "3  #Browns #Indians #ClevelandProud #[]_[] #Cavs ...  2019-03-07 01:45:06   \n",
              "4  🖊️Official Twitter handle of Department of Inf...  2017-02-12 06:45:15   \n",
              "\n",
              "   user_followers  user_friends  user_favourites  user_verified  \\\n",
              "0             624           950            18775          False   \n",
              "1            2253          1677               24           True   \n",
              "2            9275          9525             7254          False   \n",
              "3             197           987             1488          False   \n",
              "4          101009           168              101          False   \n",
              "\n",
              "                  date                                               text  \\\n",
              "0  2020-07-25 12:27:21  smell scent hand sanitizers today someone past...   \n",
              "1  2020-07-25 12:27:17                make sense players respect QvWzgyPu   \n",
              "2  2020-07-25 12:27:14       Trump never claim hoax claim effort JkkvHWHb   \n",
              "3  2020-07-25 12:27:10  gift give appreciation simple things always ar...   \n",
              "4  2020-07-25 12:27:08                July Media Bulletin Novel MNEEcsJHh   \n",
              "\n",
              "                            hashtags               source  is_retweet  \n",
              "0                                NaN   Twitter for iPhone       False  \n",
              "1                                NaN  Twitter for Android       False  \n",
              "2                        ['COVID19']  Twitter for Android       False  \n",
              "3                        ['COVID19']   Twitter for iPhone       False  \n",
              "4  ['CoronaVirusUpdates', 'COVID19']  Twitter for Android       False  "
            ],
            "text/html": [
              "\n",
              "  <div id=\"df-a1d6d9fa-d0ab-4559-aefb-3e8f056c42ae\">\n",
              "    <div class=\"colab-df-container\">\n",
              "      <div>\n",
              "<style scoped>\n",
              "    .dataframe tbody tr th:only-of-type {\n",
              "        vertical-align: middle;\n",
              "    }\n",
              "\n",
              "    .dataframe tbody tr th {\n",
              "        vertical-align: top;\n",
              "    }\n",
              "\n",
              "    .dataframe thead th {\n",
              "        text-align: right;\n",
              "    }\n",
              "</style>\n",
              "<table border=\"1\" class=\"dataframe\">\n",
              "  <thead>\n",
              "    <tr style=\"text-align: right;\">\n",
              "      <th></th>\n",
              "      <th>user_name</th>\n",
              "      <th>user_location</th>\n",
              "      <th>user_description</th>\n",
              "      <th>user_created</th>\n",
              "      <th>user_followers</th>\n",
              "      <th>user_friends</th>\n",
              "      <th>user_favourites</th>\n",
              "      <th>user_verified</th>\n",
              "      <th>date</th>\n",
              "      <th>text</th>\n",
              "      <th>hashtags</th>\n",
              "      <th>source</th>\n",
              "      <th>is_retweet</th>\n",
              "    </tr>\n",
              "  </thead>\n",
              "  <tbody>\n",
              "    <tr>\n",
              "      <th>0</th>\n",
              "      <td>ᏉᎥ☻լꂅϮ</td>\n",
              "      <td>astroworld</td>\n",
              "      <td>wednesday addams as a disney princess keepin i...</td>\n",
              "      <td>2017-05-26 05:46:42</td>\n",
              "      <td>624</td>\n",
              "      <td>950</td>\n",
              "      <td>18775</td>\n",
              "      <td>False</td>\n",
              "      <td>2020-07-25 12:27:21</td>\n",
              "      <td>smell scent hand sanitizers today someone past...</td>\n",
              "      <td>NaN</td>\n",
              "      <td>Twitter for iPhone</td>\n",
              "      <td>False</td>\n",
              "    </tr>\n",
              "    <tr>\n",
              "      <th>1</th>\n",
              "      <td>Tom Basile 🇺🇸</td>\n",
              "      <td>New York, NY</td>\n",
              "      <td>Husband, Father, Columnist &amp; Commentator. Auth...</td>\n",
              "      <td>2009-04-16 20:06:23</td>\n",
              "      <td>2253</td>\n",
              "      <td>1677</td>\n",
              "      <td>24</td>\n",
              "      <td>True</td>\n",
              "      <td>2020-07-25 12:27:17</td>\n",
              "      <td>make sense players respect QvWzgyPu</td>\n",
              "      <td>NaN</td>\n",
              "      <td>Twitter for Android</td>\n",
              "      <td>False</td>\n",
              "    </tr>\n",
              "    <tr>\n",
              "      <th>2</th>\n",
              "      <td>Time4fisticuffs</td>\n",
              "      <td>Pewee Valley, KY</td>\n",
              "      <td>#Christian #Catholic #Conservative #Reagan #Re...</td>\n",
              "      <td>2009-02-28 18:57:41</td>\n",
              "      <td>9275</td>\n",
              "      <td>9525</td>\n",
              "      <td>7254</td>\n",
              "      <td>False</td>\n",
              "      <td>2020-07-25 12:27:14</td>\n",
              "      <td>Trump never claim hoax claim effort JkkvHWHb</td>\n",
              "      <td>['COVID19']</td>\n",
              "      <td>Twitter for Android</td>\n",
              "      <td>False</td>\n",
              "    </tr>\n",
              "    <tr>\n",
              "      <th>3</th>\n",
              "      <td>ethel mertz</td>\n",
              "      <td>Stuck in the Middle</td>\n",
              "      <td>#Browns #Indians #ClevelandProud #[]_[] #Cavs ...</td>\n",
              "      <td>2019-03-07 01:45:06</td>\n",
              "      <td>197</td>\n",
              "      <td>987</td>\n",
              "      <td>1488</td>\n",
              "      <td>False</td>\n",
              "      <td>2020-07-25 12:27:10</td>\n",
              "      <td>gift give appreciation simple things always ar...</td>\n",
              "      <td>['COVID19']</td>\n",
              "      <td>Twitter for iPhone</td>\n",
              "      <td>False</td>\n",
              "    </tr>\n",
              "    <tr>\n",
              "      <th>4</th>\n",
              "      <td>DIPR-J&amp;K</td>\n",
              "      <td>Jammu and Kashmir</td>\n",
              "      <td>🖊️Official Twitter handle of Department of Inf...</td>\n",
              "      <td>2017-02-12 06:45:15</td>\n",
              "      <td>101009</td>\n",
              "      <td>168</td>\n",
              "      <td>101</td>\n",
              "      <td>False</td>\n",
              "      <td>2020-07-25 12:27:08</td>\n",
              "      <td>July Media Bulletin Novel MNEEcsJHh</td>\n",
              "      <td>['CoronaVirusUpdates', 'COVID19']</td>\n",
              "      <td>Twitter for Android</td>\n",
              "      <td>False</td>\n",
              "    </tr>\n",
              "  </tbody>\n",
              "</table>\n",
              "</div>\n",
              "      <button class=\"colab-df-convert\" onclick=\"convertToInteractive('df-a1d6d9fa-d0ab-4559-aefb-3e8f056c42ae')\"\n",
              "              title=\"Convert this dataframe to an interactive table.\"\n",
              "              style=\"display:none;\">\n",
              "        \n",
              "  <svg xmlns=\"http://www.w3.org/2000/svg\" height=\"24px\"viewBox=\"0 0 24 24\"\n",
              "       width=\"24px\">\n",
              "    <path d=\"M0 0h24v24H0V0z\" fill=\"none\"/>\n",
              "    <path d=\"M18.56 5.44l.94 2.06.94-2.06 2.06-.94-2.06-.94-.94-2.06-.94 2.06-2.06.94zm-11 1L8.5 8.5l.94-2.06 2.06-.94-2.06-.94L8.5 2.5l-.94 2.06-2.06.94zm10 10l.94 2.06.94-2.06 2.06-.94-2.06-.94-.94-2.06-.94 2.06-2.06.94z\"/><path d=\"M17.41 7.96l-1.37-1.37c-.4-.4-.92-.59-1.43-.59-.52 0-1.04.2-1.43.59L10.3 9.45l-7.72 7.72c-.78.78-.78 2.05 0 2.83L4 21.41c.39.39.9.59 1.41.59.51 0 1.02-.2 1.41-.59l7.78-7.78 2.81-2.81c.8-.78.8-2.07 0-2.86zM5.41 20L4 18.59l7.72-7.72 1.47 1.35L5.41 20z\"/>\n",
              "  </svg>\n",
              "      </button>\n",
              "      \n",
              "  <style>\n",
              "    .colab-df-container {\n",
              "      display:flex;\n",
              "      flex-wrap:wrap;\n",
              "      gap: 12px;\n",
              "    }\n",
              "\n",
              "    .colab-df-convert {\n",
              "      background-color: #E8F0FE;\n",
              "      border: none;\n",
              "      border-radius: 50%;\n",
              "      cursor: pointer;\n",
              "      display: none;\n",
              "      fill: #1967D2;\n",
              "      height: 32px;\n",
              "      padding: 0 0 0 0;\n",
              "      width: 32px;\n",
              "    }\n",
              "\n",
              "    .colab-df-convert:hover {\n",
              "      background-color: #E2EBFA;\n",
              "      box-shadow: 0px 1px 2px rgba(60, 64, 67, 0.3), 0px 1px 3px 1px rgba(60, 64, 67, 0.15);\n",
              "      fill: #174EA6;\n",
              "    }\n",
              "\n",
              "    [theme=dark] .colab-df-convert {\n",
              "      background-color: #3B4455;\n",
              "      fill: #D2E3FC;\n",
              "    }\n",
              "\n",
              "    [theme=dark] .colab-df-convert:hover {\n",
              "      background-color: #434B5C;\n",
              "      box-shadow: 0px 1px 3px 1px rgba(0, 0, 0, 0.15);\n",
              "      filter: drop-shadow(0px 1px 2px rgba(0, 0, 0, 0.3));\n",
              "      fill: #FFFFFF;\n",
              "    }\n",
              "  </style>\n",
              "\n",
              "      <script>\n",
              "        const buttonEl =\n",
              "          document.querySelector('#df-a1d6d9fa-d0ab-4559-aefb-3e8f056c42ae button.colab-df-convert');\n",
              "        buttonEl.style.display =\n",
              "          google.colab.kernel.accessAllowed ? 'block' : 'none';\n",
              "\n",
              "        async function convertToInteractive(key) {\n",
              "          const element = document.querySelector('#df-a1d6d9fa-d0ab-4559-aefb-3e8f056c42ae');\n",
              "          const dataTable =\n",
              "            await google.colab.kernel.invokeFunction('convertToInteractive',\n",
              "                                                     [key], {});\n",
              "          if (!dataTable) return;\n",
              "\n",
              "          const docLinkHtml = 'Like what you see? Visit the ' +\n",
              "            '<a target=\"_blank\" href=https://colab.research.google.com/notebooks/data_table.ipynb>data table notebook</a>'\n",
              "            + ' to learn more about interactive tables.';\n",
              "          element.innerHTML = '';\n",
              "          dataTable['output_type'] = 'display_data';\n",
              "          await google.colab.output.renderOutput(dataTable, element);\n",
              "          const docLink = document.createElement('div');\n",
              "          docLink.innerHTML = docLinkHtml;\n",
              "          element.appendChild(docLink);\n",
              "        }\n",
              "      </script>\n",
              "    </div>\n",
              "  </div>\n",
              "  "
            ]
          },
          "metadata": {},
          "execution_count": 34
        }
      ]
    },
    {
      "cell_type": "code",
      "metadata": {
        "id": "Hdb9MAixUgC8",
        "colab": {
          "base_uri": "https://localhost:8080/",
          "height": 35
        },
        "outputId": "b5c84c9a-1cc3-43cc-d55b-bb8b0ad70532"
      },
      "source": [
        "tweets.text[0]"
      ],
      "execution_count": null,
      "outputs": [
        {
          "output_type": "execute_result",
          "data": {
            "text/plain": [
              "'smell scent hand sanitizers today someone past would think intoxicate QZvYbrOgb'"
            ],
            "application/vnd.google.colaboratory.intrinsic+json": {
              "type": "string"
            }
          },
          "metadata": {},
          "execution_count": 35
        }
      ]
    },
    {
      "cell_type": "markdown",
      "metadata": {
        "id": "jDP-mIp24mJt"
      },
      "source": [
        "### **VADER**"
      ]
    },
    {
      "cell_type": "markdown",
      "metadata": {
        "id": "TdTfq3HayX6j"
      },
      "source": [
        "VADER (Valence Aware Dictionary for sEntiment Reasoning) is a sentiment analysis model that uses a set of rules to specify a mathematical model without explicitly coding it. VADER consumes fewer resources as compared to Machine Learning models as there is no need for vast amounts of training data. VADER has been included in the NLTK package."
      ]
    },
    {
      "cell_type": "code",
      "metadata": {
        "colab": {
          "base_uri": "https://localhost:8080/"
        },
        "id": "7Xu83Hsd4f51",
        "outputId": "348e008f-5eda-49ff-919b-a52dd2b4404b"
      },
      "source": [
        "import nltk\n",
        "nltk.download('vader_lexicon')\n",
        "from nltk.sentiment.vader import SentimentIntensityAnalyzer\n",
        "sia = SentimentIntensityAnalyzer()"
      ],
      "execution_count": null,
      "outputs": [
        {
          "output_type": "stream",
          "name": "stderr",
          "text": [
            "[nltk_data] Downloading package vader_lexicon to /root/nltk_data...\n"
          ]
        }
      ]
    },
    {
      "cell_type": "markdown",
      "metadata": {
        "id": "R42j_Tuu-fNC"
      },
      "source": [
        "We first create a column 'Sentiment_scores' for Polarity Score in the tweets dataframe.\n",
        "**Sentiment scoring** is enabled by algorithms that assess the tone of a transcript on a spectrum of positive to negative."
      ]
    },
    {
      "cell_type": "code",
      "metadata": {
        "colab": {
          "base_uri": "https://localhost:8080/"
        },
        "id": "jCTAWnN6-h3y",
        "outputId": "f694d5b0-5e70-4d89-ab29-a20cd774f619"
      },
      "source": [
        "tweets['Sentiment_scores'] = tweets['text'].apply(lambda tweet: sia.polarity_scores(tweet))\n",
        "tweets['Sentiment_scores'][0:10]"
      ],
      "execution_count": null,
      "outputs": [
        {
          "output_type": "execute_result",
          "data": {
            "text/plain": [
              "0    {'neg': 0.0, 'neu': 0.758, 'pos': 0.242, 'comp...\n",
              "1    {'neg': 0.0, 'neu': 0.563, 'pos': 0.437, 'comp...\n",
              "2    {'neg': 0.0, 'neu': 0.768, 'pos': 0.232, 'comp...\n",
              "3    {'neg': 0.0, 'neu': 0.492, 'pos': 0.508, 'comp...\n",
              "4    {'neg': 0.0, 'neu': 0.635, 'pos': 0.365, 'comp...\n",
              "5    {'neg': 0.0, 'neu': 0.86, 'pos': 0.14, 'compou...\n",
              "6    {'neg': 0.0, 'neu': 1.0, 'pos': 0.0, 'compound...\n",
              "7    {'neg': 0.0, 'neu': 1.0, 'pos': 0.0, 'compound...\n",
              "8    {'neg': 0.0, 'neu': 0.27, 'pos': 0.73, 'compou...\n",
              "9    {'neg': 0.0, 'neu': 1.0, 'pos': 0.0, 'compound...\n",
              "Name: Sentiment_scores, dtype: object"
            ]
          },
          "metadata": {},
          "execution_count": 37
        }
      ]
    },
    {
      "cell_type": "markdown",
      "metadata": {
        "id": "i9tk9UJL-kPi"
      },
      "source": [
        "We create another column 'compound' in the tweets dataframe to store the compound Sentiment Analysis Score.\n",
        "The **compound score** is computed by summing the scores of each word in the lexicon, adjusted according to the rules, and then normalized to be between -1 (most extreme negative) and +1 (most extreme positive). This is a very useful metric if we want a single unidimensional measure of sentiment for a given sentence."
      ]
    },
    {
      "cell_type": "code",
      "metadata": {
        "id": "aHUbXEfm-mKy"
      },
      "source": [
        "tweets['compound'] = tweets['Sentiment_scores'].apply(lambda x:x['compound'])"
      ],
      "execution_count": null,
      "outputs": []
    },
    {
      "cell_type": "markdown",
      "metadata": {
        "id": "oYx_6xyN-n5J"
      },
      "source": [
        "**Differentiating Positive and Negative Scores**\n",
        "\n",
        "The compound_result column is used to store the polarity of the tweet (whether it is positive, neutral or negative).\n"
      ]
    },
    {
      "cell_type": "code",
      "metadata": {
        "id": "gpMGeAmr9yBj"
      },
      "source": [
        "tweets['compound_result'] = tweets['compound'].apply(lambda score: 'pos' if score > 0 else ('neg' if score < 0 else 'neu'))"
      ],
      "execution_count": null,
      "outputs": []
    },
    {
      "cell_type": "code",
      "metadata": {
        "id": "LSMhCxjDZVdc",
        "colab": {
          "base_uri": "https://localhost:8080/"
        },
        "outputId": "d59f7d22-2211-4cc1-c34d-e63136f72e17"
      },
      "source": [
        "tweets['compound_result'][0:10]"
      ],
      "execution_count": null,
      "outputs": [
        {
          "output_type": "execute_result",
          "data": {
            "text/plain": [
              "0    pos\n",
              "1    pos\n",
              "2    pos\n",
              "3    pos\n",
              "4    pos\n",
              "5    pos\n",
              "6    neu\n",
              "7    neu\n",
              "8    pos\n",
              "9    neu\n",
              "Name: compound_result, dtype: object"
            ]
          },
          "metadata": {},
          "execution_count": 40
        }
      ]
    },
    {
      "cell_type": "markdown",
      "metadata": {
        "id": "jgMcUTFW-xEq"
      },
      "source": [
        "**Plotting the Sentiment Scores**"
      ]
    },
    {
      "cell_type": "code",
      "metadata": {
        "id": "LdxSBPba-FTk",
        "colab": {
          "base_uri": "https://localhost:8080/",
          "height": 456
        },
        "outputId": "ba95b9d2-06c2-43ad-e3b5-684c94c99ec8"
      },
      "source": [
        "plt.figure(figsize=(10,6))\n",
        "sns.countplot(tweets['compound_result'])\n",
        "plt.title('Tweets Sentiment score');"
      ],
      "execution_count": null,
      "outputs": [
        {
          "output_type": "stream",
          "name": "stderr",
          "text": [
            "/usr/local/lib/python3.7/dist-packages/seaborn/_decorators.py:43: FutureWarning: Pass the following variable as a keyword arg: x. From version 0.12, the only valid positional argument will be `data`, and passing other arguments without an explicit keyword will result in an error or misinterpretation.\n",
            "  FutureWarning\n"
          ]
        },
        {
          "output_type": "display_data",
          "data": {
            "text/plain": [
              "<Figure size 720x432 with 1 Axes>"
            ],
            "image/png": "[encoded data removed]"
          },
          "metadata": {}
        }
      ]
    },
    {
      "cell_type": "code",
      "metadata": {
        "id": "UD-lp4vI5GpV",
        "colab": {
          "base_uri": "https://localhost:8080/"
        },
        "outputId": "99e5bc09-f3e6-47d9-970a-1c90fb78b395"
      },
      "source": [
        "pip install nrclex"
      ],
      "execution_count": null,
      "outputs": [
        {
          "output_type": "stream",
          "name": "stdout",
          "text": [
            "Looking in indexes: https://pypi.org/simple, https://us-python.pkg.dev/colab-wheels/public/simple/\n",
            "Collecting nrclex\n",
            "  Downloading NRCLex-3.0.0.tar.gz (396 kB)\n",
            "\u001b[K     |████████████████████████████████| 396 kB 25.4 MB/s \n",
            "\u001b[?25hRequirement already satisfied: textblob in /usr/local/lib/python3.7/dist-packages (from nrclex) (0.15.3)\n",
            "Requirement already satisfied: nltk>=3.1 in /usr/local/lib/python3.7/dist-packages (from textblob->nrclex) (3.7)\n",
            "Requirement already satisfied: regex>=2021.8.3 in /usr/local/lib/python3.7/dist-packages (from nltk>=3.1->textblob->nrclex) (2022.6.2)\n",
            "Requirement already satisfied: joblib in /usr/local/lib/python3.7/dist-packages (from nltk>=3.1->textblob->nrclex) (1.1.0)\n",
            "Requirement already satisfied: click in /usr/local/lib/python3.7/dist-packages (from nltk>=3.1->textblob->nrclex) (7.1.2)\n",
            "Requirement already satisfied: tqdm in /usr/local/lib/python3.7/dist-packages (from nltk>=3.1->textblob->nrclex) (4.64.0)\n",
            "Building wheels for collected packages: nrclex\n",
            "  Building wheel for nrclex (setup.py) ... \u001b[?25l\u001b[?25hdone\n",
            "  Created wheel for nrclex: filename=NRCLex-3.0.0-py3-none-any.whl size=43329 sha256=a0a10bfbbf1eaafedbce16f7d959d959e79682c95ebfae3403368317aceb2c58\n",
            "  Stored in directory: /root/.cache/pip/wheels/af/2c/9c/dfa19d1b65326c520b32850a9311f6d4eda679ac04dba26081\n",
            "Successfully built nrclex\n",
            "Installing collected packages: nrclex\n",
            "Successfully installed nrclex-3.0.0\n"
          ]
        }
      ]
    },
    {
      "cell_type": "markdown",
      "metadata": {
        "id": "vwiGNgBa-2tj"
      },
      "source": [
        "### **Measuring Emotions within Tweets**"
      ]
    },
    {
      "cell_type": "markdown",
      "metadata": {
        "id": "iCfyEHo76qLv"
      },
      "source": [
        "We can use the NRCLex package to measure various emotions such as joy, anger, anticipation and trust from within a body of text."
      ]
    },
    {
      "cell_type": "code",
      "metadata": {
        "id": "KdNn2qSL1Sts",
        "colab": {
          "base_uri": "https://localhost:8080/"
        },
        "outputId": "d5169946-fd42-4504-b60d-ca6f5ab234c1"
      },
      "source": [
        "import nltk\n",
        "from nrclex import NRCLex\n",
        "nltk.download('punkt')"
      ],
      "execution_count": null,
      "outputs": [
        {
          "output_type": "stream",
          "name": "stderr",
          "text": [
            "[nltk_data] Downloading package punkt to /root/nltk_data...\n",
            "[nltk_data]   Unzipping tokenizers/punkt.zip.\n"
          ]
        },
        {
          "output_type": "execute_result",
          "data": {
            "text/plain": [
              "True"
            ]
          },
          "metadata": {},
          "execution_count": 45
        }
      ]
    },
    {
      "cell_type": "code",
      "metadata": {
        "id": "S_NWjdxj-QNJ",
        "colab": {
          "base_uri": "https://localhost:8080/"
        },
        "outputId": "3593c818-cc4d-42aa-bd28-2adb6bf10424"
      },
      "source": [
        "tweets['text'] = tweets['text'].str.strip()\n",
        "tweets['text'].head()"
      ],
      "execution_count": null,
      "outputs": [
        {
          "output_type": "execute_result",
          "data": {
            "text/plain": [
              "0    smell scent hand sanitizers today someone past...\n",
              "1                  make sense players respect QvWzgyPu\n",
              "2         Trump never claim hoax claim effort JkkvHWHb\n",
              "3    gift give appreciation simple things always ar...\n",
              "4                  July Media Bulletin Novel MNEEcsJHh\n",
              "Name: text, dtype: object"
            ]
          },
          "metadata": {},
          "execution_count": 46
        }
      ]
    },
    {
      "cell_type": "code",
      "metadata": {
        "id": "uxpIUHlv_W5X",
        "colab": {
          "base_uri": "https://localhost:8080/",
          "height": 107
        },
        "outputId": "d1011791-9323-47c6-f6b4-d18bf8e61b73"
      },
      "source": [
        "word_US = tweets[tweets['user_location'].str.contains('United States',na=False)]['text'] # tweets with user location USA\n",
        "word_US = str([cell.encode('utf-8') for cell in word_US]) # converts the text into utf-8 unicode as for best results when using NRCLex, 'text' should be unicode\n",
        "word_US"
      ],
      "execution_count": null,
      "outputs": [
        {
          "output_type": "execute_result",
          "data": {
            "text/plain": [
              "\"[b'acknowledge lack rebuild home hospital survive PLXqKcKd', b'everyone spread Another study accurate hOCAzYq', b'epidemic give person look might able round BfXCbWF', b'National state impact elder population This societal loss wisdom history gaIfWiDcB', b'Three term hear Good advice ykSvJbILKP', b'Great yesterday XSiCvTSga', b'Late Baby Sister leave behind three sons eldest right diagnose bnCpoWCMI', b'Children affect infect Florida Covid XZPMnez', b'progress point joke That good could sort AKDfTtpsFY', b'school reopen spread biblical scale', b'area major spread full hospitals This need nLfpYvEvZ DulqthAtyT', b'Green fault Next time foot heck Quarantine mean quarantine JPlbrLqXE', b'Resources help departments identify report counterfeit KDksIiDft', b'Year United States fail control fail keep cities peacefull Donald BiKeRgTnO', b'preprint COVID Data Driven Mean Field Type Game Perspective DEVLHehga', b'preprint Country distance reveal effectiveness travel restrictions COVID vxMCaEjs', b'preprint Anxiety perceive risk COVID outbreak erGzbLmgp', b'preprint analysis mortality Ontario cremation data Rise cremations COVI DrWxijRn', b'preprint Epidemiological cohort study find association COVID Guillain Barre VfibNzL', b'Updated preprint Role Hydroxychloroquine COVID Periodic Systematic Review lymFSphH', b'normal hard work patriotic Republican require abide insan JZPmPwqhz', b'preprint Infectivity susceptibility risk factor associate SARS transmission fXlXQEmyj', b'Updated preprint Impact Hypertension Progression Prognosis Patients COVID Retrosp NijLIEqGz', b'preprint Mathematical model dynamics containment COVID Ukraine mVyxkGxeu', b'America shithole country Trump OVUaDjD', b'preprint SARS serosurvey Health Care Workers Veneto Region ZIzMbHvmqX', b'Updated preprint Prevalence antibodies SARS among clinic staff patients vJQHmzop', b'preprint Decreased incidence virus transmission capacity severity COVID altitude PFIFlwhV', b'preprint Sentiment Informed Timeseries Analyzing SITALA curb spread COVID Houston jUTzJvBKtx', b'preprint Concerns quality life access care productivity general population ILcqSuim', b'preprint Cell type specific immune dysregulation severely COVID patients jJPUknK', b'preprint Severe COVID associate elevate serum antiphospholipid antibodies ZoBVyIVu', b'preprint Reducing COVID hospitalization risk behavior change wyIKFhmZD', b'preprint Comparative Evaluation Reverse Transcription Loop Mediated Isothermal Amplification XqoLJXX', b'preprint COVID Vulnerability Transgender Women With Without Infection Eastern hbItYGWSaT', b'preprint Development quantum lateral flow immunoassay strip base portable fluorescence smar JvuDCAJX', b'preprint Presence SARS Coronavirus sewage fvYbyCcfs', b'Updated preprint Virus Receptor Interactions Glycosylated SARS Spike Human Receptor CQFvzQxYAI', b'preprint Tissue specific interferon inducible expression functional endogenou hpXHgnCotq', b'Updated preprint Relevance SARS relate factor TMPRSS expressions gastrointestinal pNDXtQxKQ', b'Updated preprint Integrin Binding Peptide Novel Therapy SARS Infection iLldXbhji', b'must children free Education Automation learn whatever want learn IegNghgV', b'preprint expression Mitochondrial Genes Cornea Involved COVID Infection FHcymkZa', b'Updated preprint Potent Neutralizing Antibodies Directed Multiple Epitopes SARS Spike OCCMAbeI', b'Stop spread misinformation sick study suggest every story factual information vUXcTOHIbV', b'force believe whole scam logical school openin VNbxFaNDL', b'understand suffer standard delay class ttdixd', b'forget openly admit intentionally misconstrue number right iHIRwJLa', b'symptoms coronavirus last three weeks test positive Follow wHrOqlNfJ', b'Australia welcome Vietnam wildlife import market amid health fear pWxpblL', b'Depopulation Agenda Melinda Gates want deliver coronavirus vaccine base racial group black zUAkftaY', b'toward equitable future YiiXMEo', b'Tell patients truth stop families small amount time uHSsBVC', b'Robert Cicco What word could cost covid fight LJNxBaEa', b'EZhDQcsjtc bxLakkkT', b'THEY PULLED PANDEMIC ANIMATED FILM EXPLANATION DAVID ICKE fund back Bill Gate EMcZWlk', b'labs medical facilities private report erroneous FqgqNrT', b'People register take test decide call later tell positive ahIJMRTP', b'choose concert bash Does group somehow spread differently ndaOFwuT', b'SwgLwwmEh', b'infection children know robust study nearly South Korea show BqzQHy', b'year Florida Keys hospitalize illness cause COVID FuLJVsa', b'WAKE According shop restaurants church school PYSloDIm', b'Most number fake surprise come outlets FvPrYnIN', b'Raise hand plan vote loser totally drop ball XuHEIGFOk', b'Biden unveil billion plan fund universal child care home elder care CKfiOKlq', b'FREE Kindle limit time also available Paperback Deyake ncwJrxfGka', b'WeeklyReviewer Quarantine Time Episode Black Lives Matter Protests Police Brutality gsSbOpTPh', b'dangerous local totally safe back school YuZlIGaKt', b'study suggest mother unlikely infect baby childbirth especially precautionary measur GXZNdLRp', b'course throw ball like make sure catch anything UtGQbr', b'Remember moments like What QRoJFw', b'Could please explain tell difference chicken wing chicken breast', b'This well thos know contract remain frontline medical lRPGvEvzg', b'caveat November Trump admin first KNEW deadliness pandemic around moPnpej', b'agree stop person church service Follow Please retweet BvKoKMzhUn', b'Children likely contract spread COVID previously think YerhIpybY', b'Twitter family look like bankrupt Sinclair since endanger America SwIGsCza', b'Birx discuss Indiana COVID response LzYlAZQ WeDsoiHlT', b'understand peaceful protest crowd concern Obviously TnITRnYvb', b'Life Will Begin Take Shape When Give Much Energy Your Dreams Your LifFZBvCKY', b'Should Trump send police medical American Cities Follow Please retw FbpnIBDBG', b'Trump perspective coronavirus change Follow Please retweet opVLIyvf', b'keep post YouTube consistently', b'coverage IcfgNfNGI', b'When physicians instruct list Covid death certificate primary TWMbRZlE', b'Healthcare Business fail report staff case give Walmart authority takkqRLd', b'understand peaceful protest crowd concern Obviously socially FosfuqUPC', b'school guidelines call COVID risk BoCxvKGH', b'Correction Jacksonville cancel Trump convention Trump want HDrqdFmd', b'boil decision church want open balance XcvzEEllA', b'With around dqYPILTmd', b'still understand Judge Roberts wrong want slow spread wwoqXnqQGK', b'delay incompetence Saying vEZzorOcGv', b'astonish kZnmvxEleL', b'surprise hold long really tremendous amount ULCzCiFHkS', b'Listen Linda mask Save life stop spread Linda TTtEVgPsJ', b'Here look like Wearing mask cesspool spread KHhHBeE', b'This super cool excite since share uvqbcSM gWkqSi', b'Someone scar vote billion hospitals like Elmhurst help NoTwIr', b'Mass Traffic Blueprint Leads Digital Marketing syxOtj bGFYYJhs', b'Current count deaths additional deaths weeks GtwiPwWC', b'Parents concern fall behind COVID keep school shutter POLL YVXzBwL', b'Fauci even trust genius anything trust HsKrwJue', b'Said back April would extend dead body SRiLNaxO', b'Millers Grandmother', b'What threaten wellbeing sfXXQPw', b'What insurance policy', b'Watch live truth link QEYrxo', b'personally know people This come', b'also extremely well much better expect doom gloom media LSpUABTmE', b'moron', b'What Science Says About Children COVID School Reopenings AaBkEFvuP', b'Aqualung Therapeutics Corporation award FASTRACK AWARD Phase support stage ident OMBbtXPpvR', b'stop test people mean away', b'Nothing Just positive case deaths report United States today', b'five state confirm case today Democratic Republican Newsom igSCILeD', b'fact More Americans kill entire Vietnam Pandemic', b'call Bullshit Mask might stop droplet viruses quote Fauci prevent xEJrbZXDG', b'According third patients hospitalize long term illness OveZlZRM', b'Lots people close together mask None political Concerts protest church RhIyXhVn', b'playoff college football happen power conference winners Larges AIZtHD', b'understand social distance', b'Younger children appear transmit COVID easily experts PegZeynn', b'Delta Dental Colorado Foudnation COVID Responsive Community Relief Fund roll SykjhdOj', b'need worth every republican want unemployment break ShaiMIqWM', b'discuss inequities ravage minority health California face storm JskhOGqI', b'believe THIS right', b'turn America fascists country distractio UOsvzmOGt', b'forget others JRZOrOw', b'They scar apparently either outta Kate Time entir eAjLNS', b'become numb nEtuktjd', b'many already look post COVID world enforce move remote UqPhUtwrS', b'Stop Spread Because Click link ewtfSJlSG', b'dUlZIXiQ bank tell excuse cover branch closure Does anyone else obqKaksRpQ', b'joke tell VACCINE available', b'Beef Stroganoff pWEAsyhi', b'Only million That reach next week elNehwBjM', b'Almost Americans lose save income find NORC COVID Response Tracking TkPBvAJg', b'many people realize ugly things Virus NvCiAwQi', b'Looks like season', b'goodness better think black live matter GjcNdVEA', b'hospital overwhelm send home tPkJvBGli', b'Florida Republicans favor send back school grandkids DHSazGxMf', b'bunch supporters child torture treason tUtEuHKg', b'tweet Alll along never ever fill National Stockpile nfTyoYZIjk', b'SENDING SICK PATIENTS HOME TODAY WHILE WERE PAYING MLAJKBEoF', b'This Cases today EsZOcDjIkw', b'INDIA report case total deaths Covid trend analy teZwEs', b'HANNA MAKE LANDFALL NEAR Corpus Christi Texas Sick patients VDZTOfMrdq', b'Anthony Fauci Reveals Serious Threats Himself Family This America come Even member dBKfin', b'Today GOLFING DIME report SICK patients SENT CoWgoWIks', b'Trump maybe Americans would hoax hWnoJDfx', b'report case Every disaster IquHPGx', b'Contact order cyZiaJcCY', b'commit political crime century every bounties sell CCftbOU', b'Trump Made America Schools Moral Medical Catastrophe With Rampant lSMaMeeHF', b'World FOUR World intense skip World Alex Jones dumbass cuVydsPG', b'something', b'Mitch McConnell leave town today LEAVING COUNTRY HANGING unemployed evict patients kRygKOYZtc', b'kinda laugh people know First yell Disney need close feel kClJCeiiUc', b'stop spread need play part Help protect need Introd wMiUgkbh', b'What heck talk tone change What GwlBzHXWJ', b'Omaha doctor office issue controversial letter children COVID ohpxVTaM', b'Interesting concept mask check valve fresh cool less rebreathing cool EWoLPsUJ', b'EVERY MINUTES KILLS SOMEONE EVERYTHING JUST FINE AUETkhMQ', b'rally wear mask feel shit hope Every minutes Floridian AyyxzzbSg', b'every minutes Floridian NAesNHrsT', b'Take Center Stage fashion retail brand ready harness true potential EFptohDJ', b'spell Donald wrong Also whole drop knees OGQnDmHJ', b'County daily hospitalizations higher peak April addition IFknhHx', b'Shocked Dude ones vote trump People sLaiJJaDD', b'exactly obama cause pandemic Trump epUkZBuC', b'quarantine joke soon', b'July Hospitalizations HfpwZpOL increase hospitalizations since yesterd bWdmMVdtGb', b'July Coronavirus Live Infections Deaths Updates PuleHeOSpm Total waXETLOl', b'Like live real nightmare hospital talk OmmdS', b'July Real time nCoV Global Cases Confirmed Cases GJEHfonw', b'Tucker Carlson States Obvious Matt Drudge Turned Against Trump cAjHrwE', b'sure need really cheap drug ntWBHajO', b'indeed greatest mistake history people alone BHTJeAK', b'That BEFORE BEFORE Millions lose healthcare lose YkGBVBlpo', b'Digital Healthcare Interventions Address Secondary Health Effects Related Socia iMJQeMvpu', b'businesses mask require refuse anything people wear lick taint', b'happen real make qGLJSLoMK', b'This useful dome brand football stadium XlITAXVGjH', b'bore smoke good ZZcNpmVBz dJGPxjER', b'doctor survive COVID reunite family month battle lbHrvMrd', b'tell useless dome Raiders stadium mistake', b'search Biden know quantity Susan Rice HfMdulMYv', b'foreign students class fully online fall term hdVzNKuF', b'Fauci completely honest either', b'Republican hospital COVID suggest virus hoax preach maskless church servic XhvBSnUCOU', b'Michigan State football entire football team quarantine isolate next days ZXyaAWjrR', b'Anchorage Alaska begin year online class Xvhrgn', b'Trump Will Returning School Fall Despite Wishes jMbytujw', b'Pentagon want mobile coronavirus hospitals outbreak worsen GIpnTjqcio', b'coronavirus case governor state move better direction ARiGlyKgbq', b'Health anxiety time COVID MynStyJ', b'Workers anew across program pSpmekMeW', b'require mask restaurant locations MjiuSShH', b'deaths convents nuns confront pandemic bHNuUuHC', b'Nearly percent young healthy coronavirus patients recover weeks sWHJIlNYdq', b'Virus Travel Feet dbbJrulL', b'Even mild coronavirus symptoms persist weeks ujBeGgcyAa', b'Bleak Trump Great American Comeback Dumpster Fire hXVaaiuzI', b'Extra unemployment expire virus threaten state CIDTxHKb', b'wear mask wait return classroom come', b'Chris Wallace Hits Republicans White House Getting Their Together Covid Relief They Over dJhugiv', b'Pandemic spread poll prompt Trump retreat GdWKVcYV', b'million Americans next month rent BncUsYRYA', b'Imagine Office President weight behind dialogue focus positive change face mass prot JQbOxceU', b'CLEAN HELL CLEAN MESS HAVE MADE RESPONSE DITVOtVRX', b'Schools OPEN Unable test teachers children money install proper VQxiHvqeBr', b'delude American Trump publican voters still believe Trump cXHlbUM', b'infections underage youth party events many place across coun rfiWgyIP', b'rise case Your civic example important right Your country need OPbLlYChH', b'arrive MCyeggXpyF', b'watch video Recognize truth also recognize STILL LfnQpfFc', b'live Risking live children families Just week year girl bkOfjcamV', b'case aware machine also RaMyyKxrg', b'safe ahead sacrifice children That pretty disgus EfGJgCAMr', b'opportunity join vaccine trial high risk frontline healthcare worker Hhmmm', b'Without access affordable accessible capital underserved disenfranchise communities impact JPQsubex', b'Maybe help FJOswuhoe', b'know someone read UDIHicsJe', b'want kill children profit safe hold xwXdXV', b'Americans dead talk patrol Dead Americans Does anyone white house care', b'surely hope think Children Teachers AzbwzzhGM', b'Give month every American Sign Petition vJmwTXkj', b'Pushing report deaths United States Coronavirus ALUGYgwZSJ', b'Biscuits Sausage Gravy QKtvVtjr', b'NOBODY send back DEATH TRAP SCHOOLS high', b'Interesting wozQnsaQ', b'government across political spectrum decide work poor work class ObiITZZXkL', b'promote foot health healthy lifestyles underserved happy help need BvymoJZDQU', b'brown shirt case camouflage arrive SVYefOYXJ', b'Give month every American Sign Petition dHTestFP', b'excite vote wait test come NiEHUfqE', b'COVID Risks Nutritional outcomes Children Women Eastern Southern CQORizqL', b'After Trump rerouted data report hospitals directly instead suspiciously fZtLttmal', b'COVID Risks Nutritional outcomes Children Women Eastern Southern Africa World MCayhPynD', b'number Americans COVID entire population Bellevue GtZhLfj', b'Cook County COVID Center Asks former COVIDE Patient nheFEHV', b'Where call people keTaqm', b'Trump Fauci would like close Years Reality Fauci want save live Trump KyZHaiLS', b'moop hand many gloves mask around place Please hbDoHvVyr', b'Podcast Vasquez Starr County COVID patients send away jUBHBivnP', b'interview number epidemiologists DQohTjq', b'Dear Massachusetts vote real conservative Governor commie BMbkbFo', b'need information JwjHDJik', b'Where ACLU governors lock strip people businesses gSjXwHdlgB', b'weak lapdog tweet anything give trum XuEzunPzn', b'Nikki universe live dead Trump uoVhxxpypg', b'Frost Sullivan provide industry analysis post pandemic predictions olcliUWJZP', b'Please stop tweet consider career leave Iowa teachers alone rBPcxznK', b'cruise ship safely start sail Follow Please retweet like ElgfwTb', b'segment emotional dual reminder love Vince necessity gMNmsaKTwb', b'Exactly jCfhHkUFV', b'sake high risk patients sake parent grandparents sake unemployed StNeUv', b'Greg Abbott issue order reopen state override local contr faiSODAMmG', b'Walked Pueblo store three employees cashier handle cart wearin ecOOprxYZ', b'keep house screen windows keep doors close Because people afte JLglnoPgz', b'know several false positives among friends What really xrCKydRK', b'This remind remove video make make conspiracy theorists clearly gxyKdQRKI', b'Texas coronavirus deaths overwhelm funeral home South Texas Texas Tribune AfKrWxyJF', b'Coronavirus Prevention Worse Than Disease oKQUUggux', b'latest Health News Direct vJsyidAMAN Thanks', b'proclamation extend mitigation measure require restaurants businesses cQGoCoLg', b'Facts Fear FTHxGVCn', b'Here Sweden health agency report share interest data compare case SZjlcDOHl', b'There Cure Wear mask From kpCzSWx', b'Woodland Park outbreak Church share contact information endanger people spreadin IsogLwy', b'take trump years something prescription drug price right KsRlcrzsKY', b'COVID Minnesota brief State health leaders address mask mandate medical supply update hhoMaOUJ', b'outbreak Colorado Womack ministries Woodland Park hold several events people aztIeYPF', b'Will COVID Deaths Double Number Vietnam Deaths Fall ZxurOsjPLt ZqIjmHF', b'What COVID Means College Sports Recruiting wcCOOCDSH talk sport XVsEEOvd', b'epidemic give persons look might able around cKwTDorhhf', b'offer free order wing within guidelines', b'McConnell stimulus deal could take weeks millions people expire jobless limbo cqzLxwOm', b'grateful colleagues recognize force pivot support venture gOQgyRWmj', b'enable spread false share article health agency data QaJJXNJfZS', b'RESTORING HOPE Millions Americans lose health insurance Pharmaceutical manufacturers healthcar dkaFJgVvMv', b'girl something like steal post Funny school cant make zSPtzdgBQ', b'angry priest wait result feKQLVoGt', b'California Wonder UfNKNcpttF', b'Herman Cain hospital three weeks fight Trumps rally Tulsa cUONeigWs', b'company like Church Dwight knock park every Maybe company efFIFYuJ', b'time message live keep distance mznhvwb', b'Mountain gorillas must protect cost', b'change release rrALSIRZ', b'Without name city know', b'thing need hear SCIENCE fluid always perfect first especially gMgkle', b'Most disgust incompetent handle RjwaOIU', b'almost like Little Shop Horrors Feeding could ZyHWqvZBW', b'Mountain gorillas must protect cost WPzJEGdtFf', b'Gilead Sciences Update Company Ongoing Response COVID ZDQyfaxa GILD', b'realDonaldTrump follower vaccine simply trust fyIwTaiTg', b'Actually ophthalmologists practice facilitate exams right people QPNbeSX', b'make repost There Cure Wear mask From stuff mark NIlrRiEY', b'believe North Korea case coronavirus Follow Please retw QVuonkeaU', b'believe Covid less deadly Follow Please retweet EWithx', b'Strategies Retain Your Customers During Outbreak jOxGOBkeA', b'creativity Maya Angelou bwVaDsV', b'plan vacation soon Follow Please retweet like GfPDLUuF', b'wear mask everytime public Follow Please retweet like gOThpbHPpa', b'would remain side caution cardiac arrhythmias know complication Until exdZtcBkf', b'Trump moment time create involve visible enemy attack unlik XsnWUcdog', b'Parents concern fall behind COVID keep school shutter POLL QQCPjIBFu', b'Thread compare administrative prowess effectiveness steadfast approach worship Mahant cphLrvMzZ', b'Will coronavirus Florida improve soon Follow Please retweet nwTwYSEA', b'worry school fall Follow Please retweet XolrPPzpzF', b'With IXeYjAUHIg', b'think test harvest world', b'While ration healthcare high number pound gQzEsBzM', b'useless Stupid things tough whole world lesson acquire dual DkmYCWqpEL', b'What tell ZenYErkw', b'That amount', b'Trumps high power state like Florida force state gestapo RWbhYqjlpC', b'know right single mask video TjXYYjDEI', b'regis really give wife warmest condolences QUxDxqcjR', b'fairly virus When individuals talk herd immunity regard virus whose long term impact IsmtFJz', b'COVID Updates cWSefNCwP', b'support people whose livelihoods depend coastal resources recover FIVE sugge rAfPyCTz', b'People DYING POOR EXCUSE human Where test hoard SDCRYXcyLq', b'Other losses cause lockdowns compensate education loss irreparable class KaudKNZ', b'Check MUST wear mask make feel safe like paysezOS', b'Members Petition Union Leaders Stronger Protocols nKbGxDkSA', b'COVID Counter Intuitive Implications Small Business Employment iKvFo xcmHwDxe', b'North Korea near Korean border lockdown suspect case wzhPUjBjf', b'Delta Dental Colorado Foudnation COVID Responsive Community Relief Fund roll nUlPxtvcy', b'teachers scar death catch spread participate ZysxsZup', b'Read comment This control open school JttezkqPzz', b'without question biggest douchebags ever occupy Congress Your defense PgXsIiFMP', b'problems catch spread UHmbWGaD', b'Death Dead Americans incompetence', b'like America Over dead Terrible Imagine ruckus would create cshSjtBuP', b'sore throat wanna', b'KOkMhDOuc still learn lesson time rOwRCmGl', b'return baseball family devastate coronavirus feel conflict pMsOBvDf', b'Socialize Safely During COVID Pandemic cqhHMMuuD', b'need proof life Some folks think kill Tulsa Trump rally Trump UPQUyXVEt', b'Money deem important live hard discern point TBOzKpec', b'next relief package fast track Social Security Medicare KMugWrzpCm', b'amaze Republicans stupid realize vote Trump cost live pszwc', b'deaths today fuvOaij', b'percent Americans believe conspiracy theory COVID pandemic intentionally plan LMyMUbzk', b'INDIA report case total deaths Covid trend analy wwavvsYT', b'response drive POLITICS fkYWbzJ', b'Fire Putin Free still alive contract', b'please airlift patients hospitals send iamqDtV', b'sick woman pepper spray couple wear mask This madness need stop yLGoUJRt', b'make back school expose quarantine yAJhJfikd', b'relative newcomer global local worldviews outstanding health HyvbuAzY', b'Dating During Covid Part qMLzbovto', b'Testing rural counties also long line long wait periods result Indiana need uliMymwn', b'DrGJackBrown Trump golf Brett Favre deaths near crux tQeZSqF', b'Cloth mask ineffective years Spanish wear today hTMaxJvoj', b'Open letter sign doctor shut stop PLEASE SIGN RETWEET Shut SClVnTk', b'understand family members want comfort love ones perso ekgPcyxN', b'Coronavirus update deaths consecutive days More Americans ZvzYcgNByo', b'warn labs high risk medical company test DiluqepkS', b'virus spread control decision make become increasingly shape politics divorce HFLGCgi', b'FALSE POSITIVE TEST RESULTS sneaky devil sneaky even infiltrate xhHNmSCpl', b'eather famously vote Republican whole life voti NqVNksV', b'deaths high around percent adult population obese correlate fFVPQTasi', b'After finally professional sport focus African American Owners Coaches Question Facebook', b'Early pilot study train detect patient control sample scent FAVcEREU', b'Raise hand black want Bill Gates guinea Anyone VFNMFbnE', b'cannot deny away Please please Start work fixin ZjnAHwJ', b'Collaboration work overcome challenge pandemic That excite receive QYaQfrBh', b'half country celebrate shockingly dumb narcissistic sociopath claim qgBbLAl', b'confident administration bang deal natur rZixLeB', b'legacy This picture history book caption Trump play uMSukiDiD', b'really think safe send back school people catch summer GFRztWH', b'Good news REAL PRyxJjW', b'Hand sanitizer poison More indirect deaths cause irrational fear deaths dozens jkwVqwqzna', b'July Coronavirus Live Infections Deaths Updates PuleHeOSpm Total EMuyYTQS', b'travel China Europe Ramped focus GOWaLjxr', b'Grandma Stephen Miller death certificate cause death uncle', b'July Real time nCoV Global Cases Confirmed Cases sXqFtPFnC', b'Digital Healthcare Interventions Address Secondary Health Effects Related Socia LFzANekpdv', b'Fauci cause part doomsday conspiracy neither Bill Gates Fauci EhzjyXaa', b'last cough pattern repeat next test come back positive', b'Please wear mask DiFsqFm', b'Darren Till would credit card customer service work thank fYWYLSeZ', b'Most doctor agree mindset deploy lifesaving drug early cost thousands live FCIwzAb', b'visual testimony ArgsSctWQy', b'mask sight social distance today Grundy picnic spend week urge sQavIjE', b'They federal agents dumb They work years tomor skwVPy', b'Would evil wish thier nose', b'Making Money economy Sign invite others earn AOLcFhYv', b'need vaccine sooner later', b'idea back find already work xpiEFyFCSs', b'BROTHERS DEATH GAME OVER SNIPPET UMDJYSpn', b'Very Make sure medical examiner list cause death though', b'Diagnostic test give false negtives false positives number lower UxrzyNhrF', b'must watch video Freelancers Subscribe YouTube channel useful Videos come vLhHzZSmer', b'third patients hospitalize long term illness News SyFAvdhXNi', b'Rapid Antigen Tests slow spread India Nearly four Covid test diagnose eSkjBEr', b'Evidence emerge suggest spread equally minority infect individuals seem joDOujBSrg', b'think need kind hazard receptacle mask gloves zeTXIgiWeQ', b'What disgrace Murdoch propaganda media network eHcPNUTBms', b'EFFECTIVE SANITIZATION WvonCZFVN sRWRosRSG', b'Somehow point could give dollar economy What wrong country mLLfCavjuN', b'well deserve relate point rename', b'Study identify different type News xwogGzSxu', b'Chairwoman previous President would ever approve Trump UxQNHTlb', b'WHAT gJcTrIG', b'These frighten cowardly members modern behind feign respons XmGjJzNuI', b'Please support GoFundMe campaign help medications doctor bill like millions American pXNBKCox', b'today complex complete tower approach rfPsbdOu', b'Reopening school challenge school board LezwKre', b'little late concern many UmMIfhjV', b'Every person criminally charge purposely endanger live cAQBVwb', b'cash patient wife hours need help medicati NpsOBgvKR', b'danger hospital system face lockdowns since healthcare alre KDwTXDmqB', b'These folks need TAXPAYERS wealthy wealthier WITH DOLLARS Public life dyBnqJLk', b'Vitamin Should take supplement kAoXdLHjYG EQKteYrM', b'anyone want call find help This woman lose foun kvHQiNRn', b'Fundraise provision Indian bank pandemic disruption kWLQnfye', b'SHOULD JUST DROP THIS FREESTYLE LGdLRyKjXY', b'Delta Dental Colorado Foudnation COVID Responsive Community Relief Fund roll JuMEbUIyO', b'physical precious metal coin highs today WTFFF UFazzMWS', b'shoot JUSTICE middle Avenue sWRMDvlIF', b'Wearing Face Masks Help Liver Disease Patients ckrOtwodT QhuaphLOXR', b'report kicker plan distribution market fund next dUzntu', b'sQuoPYea bank tell excuse cover branch closure Does anyone else nwXNEsbWHl', b'Black Americans Have Been Hardest Here iqihVyQZ', b'Spoke friend nurse Harlingen month floor VBMC patients JBPGFxaUF', b'sweet Another must watch video prove massiv MuHeHkWuf', b'Kills Germs Viruses Bacteria WvonCZFVN xMawdvje', b'This retard lose handgun Lmfao pretty pathetic element surprise Anti KmeJjavd', b'What rate today HjJbgIuph', b'orange maggot would work hard nation time play golf GtdvlKVQG', b'Wear face cover Where hear YcfMTy', b'Since nation family navigate wear mask distance handwash sanitizin klKxZnVImR', b'OPTIMIZE YOUR CRYPTO EXCHANGE STUNNING PROFIT EVER OSfUHNjOv', b'know country world live right right RIGHT TijJybuOH', b'Read entire thread WORTH INTUFoHiv', b'What part UNITED state understand', b'ZERO LEADERSHIP know prior xoeBAHMGs', b'Wake people want fight Covid About mask close church JZMOnoVjl', b'Will come time teachers expect martyr oFOvzvx', b'Barron Trump School Resuming Classes Like Normal This Fall Despite Trump kRuHzFTk', b'always time work unless want play front cardboard cutouts iGdzJmBLx', b'inside perspective knowledge recommend follow understand VqdULmJhgS', b'LIHDO LESSON SUCCESS SELF PRESERVATION soldier walk much decorate senior officer army mGXkIGsyw', b'Cases Deaths qlwfKKq', b'Outstanding Best song Donald Trump KUNG REMIX WTFBRAHH aWLVGJcT', b'Diaries ification Everywhere RaIbKH ZWaqceM', b'Diaries ification Everywhere iekhKKSM JgSZCglZ', b'July Coronavirus Live Infections Deaths Updates PuleHeOSpm Total ZNErPSeC', b'ijqiuBXbh infection rate less', b'July Real time nCoV Global Cases Confirmed Cases ywKvHRwyDY', b'Read antibody test Cure iIiqYCvd', b'Beautiful abstract paint sale cMMPXn', b'absolute JOKE They still give test result back days SefBkLrwO', b'mortality rate retirement less', b'mIthKjqd', b'America could lead Failure duQwxcaws', b'Last week Mart first time since March scroll many picture iSzNIAxOOM', b'start thread Coraline black Izzy gray Post JeJSOheR', b'would never vote Democrat fETZMbORPO', b'Donald Trump prove DISASTER Thanks take chance Biden hhQNGFZs', b'need somewhere mother wife shotgun ipboQFQj', b'Treasury Secretary Steven Mnuchin bill taxpayer money people zncHkfxB', b'Listen contract overcome Available podcast platforms YgTrUuIiB', b'Hill Republican power struggle possible post Trump world begin GPxqZBU', b'Trump extend weekly unemployment boost dfdjZfJi', b'Senate Republicans grow weary White House stimulus bill uhJDyTIW', b'Creditors across board offer relief program mortgage payment forbearance people GXEOcAQCV', b'White House negotiators push scale back next coronavirus legislation Gicacenox', b'Trump blast weak small call veterans anarchists hate country urlnyQsvsp', b'coronavirus fatalities days jBTPutM', b'blow past York virus case tSopvpphev', b'COVID test universities threaten strain nationwide capacity uDvWDCmcC', b'Overwhelmed system lead coronavirus test mishandle delay iywlbUfJWW', b'America stand world point pandemic make worse mFYUWjYTde', b'Absolutely important empower educate public understand mask important empa XtYLILkCX', b'What COVID Means College Sports Recruiting wcCOOCDSH talk sport YrkgSpW', b'Medical misinformation kill need open discussions emphasize science force nature mkItPE', b'Ambassador Monique eloquently rock cross neck dress bMwbnqK', b'facts XZLyDgDmQ', b'scam OTsJlchEy', b'case trend This line wrong What RStoOqq', b'cancel Collinsville Illinois', b'Strong focus virus tweet personal responsibilit MGCzmhgKi', b'Breaking News finally decide focus July America vuFGlJOBFt', b'Listen latest Special Edition Podcast Godfather Discusses Race Protect Against LqZuTCBau', b'Strong focus virus tweet jMUQlQY', b'grocery shop need pick cucumbers usually English cucumbers already wrap aqknlJt', b'tweet personal responsibility visit tcKNPKoq', b'judge people treat another Animals right idea This unacceptable AakjswlL', b'Standardization critical understand data universally Lack uniformity hinder data analysis subsequ PiZKVXP', b'comment steal mill EBaRrDXLz', b'Teenagers World wRHEYBUM', b'dotgram This everyone freak This Inslee campaign base rkLNBYu', b'Nine crazy fruit RqvbFUdaI', b'want people', b'Local News COVID update face cover BLVPmFFtD', b'Screenshots personally take website show interest paper publ XjCmkyRR', b'Even want', b'reasonable close personal srmBfKms', b'India Country Director join panel discussion South Asia Virtual Regional Summ MIiTuowHV', b'sure Primary Tuesday August nothing rule Sarcasm pNgYcmmRO', b'want believe restaurants sticker approval safe Crowded BjMNuTE', b'Looks like really COVID', b'What wrong Fighting hard wait FZVwNNqJG', b'back work Americans Sounds good boss sick vpTKbhTp', b'work level patients intubation', b'Utopia Playlist clip WiANwpkHv', b'doctor disease affect survivors change structure heart mDCNiRKQtv', b'bother listen Falchi please listen doctor ipuhlsHUG really kXPuNFId', b'Thank look guardsmen work weekend KLWMOaXt', b'educate Karen Jihad', b'Just know Your president Brazilian leader LYING rECRrDWX', b'Remember Educators longer Rest Peace XBGJhLtWr', b'They guardsmen full time military Many insurance TJRLoewWe', b'Responses COVID Africa Lessons Ethiopia feature Arkebe Oqubay Senior Minister Special CeAQDdzhTJ', b'xuvgEwPDW Bless FRONT LINE DOCTORS', b'Because America find political gain dems LnMCMho', b'Look lovely volunteer cough food Maybe someth IySaOSspwF', b'come expect negligence Negligence handle push peopl FuGezYfwM', b'Doctors treat actual patients know', b'doctor refuse give another doctor Right love ones zxxZNHNqw', b'Florida child COVID hospitalizations jump school prepare reopen VeWZRwz', b'Sooo much longer sick kill Breonna Taylor convict FuUuAaWmaZ', b'refuse chain fake science successfully treat patients sjHBEHu', b'Fintech market boost whoopingly ydptzpPHD', b'Haha funny OOjZnqB', b'weird pandemic', b'SAVE DATE JULY Central America Mexico Colombia Chile jTXUCHHS', b'truly hate vile evil nasty excuse president eSRFnoeo', b'America LETTING virus spread social media make stop choose LosssjH', b'Facebook Google YouTube Twitter Censor Viral Video Doctors Capitol Hill Coronavirus Press Conference zaQUnQrGDA', b'threaten players violate social distance guidelines doctor nurse jEtpaj', b'Vegan print steaks launch restaurants year huwiqelQij BolqBpZe', b'Black Votes Matter Democrat party scheme fund fbFrXi', b'things seem grow number right slowly take away American citizens Censorship SZpFrlp', b'Whining Twitter DeathTollK nnMXjtkQR', b'found lead organization develop software often become welcome olKLXQtl', b'would organization want donate plasma help others fight covid fact covid life long gKDApNHaM', b'July STILL adequate Reliable Standardized vYVOHpWU', b'third phase world biggest COVID vaccine study confirm MKvivdnIQg', b'Masks side effect know This original dedicate children UbnHuvrPk', b'wait post disappear censor right dissent opinions around waqGzXRzmj', b'tRUMP roll snake miracle cure freak Brix remembe bMFaerCQ', b'Earlier today someone lecture able follow Nitwitters Timelines sometimes oBjgNk', b'WHOPPING TENTHS Total active case population ONLY populatio eoayRdtWu', b'Google ready long haul drDWTNvvSk', b'Every make every warship launch every rocket fire signify final sense theft NreHlZrrm', b'With severely impact economies around world tell Development Podcast byIEotKBb', b'PRESIDENT TRUMP RIGHT Pass', b'Have trust economy SXSnOMHA', b'PLEASE Please leave comment able case UoSpSK', b'nckuCXrDF This doctor speak cure floMuCpa', b'From word Chilling reality continue dismiss ignore fFbyILMDQn', b'Those motherfukers evil', b'know read screenshots hOOujdfDvw', b'Husband Doctor Died COVID Says Angry People Refuse Wear Masks uXLgOdU ucJSzEJP', b'Twitter want people cure', b'supporters peddle different hoax supposedly CsbmoydXQe', b'Women health care capacities higher risk stress burnout depression amid COVID pandemic study show ZKqFtxBj', b'Dallas County Health Officials Report More Than Children Test COVID Positive July Dallas Fort Wort qMZbtLsLju', b'wage service workers face emotional hazard workplace COVID AHiDYZsB qjDqalNI', b'Incredible thread gqieRgIIY', b'ZFuSCHyeI', b'lovely report deaths still number several time higher AhvrCW', b'President Trump right Hydroxychloroquine work COVID VmefkXos', b'Just Where sentence citizens months DsreTK', b'simple patients infect options available They sdAkJcOtp', b'CwoUnKZx still learn lesson time ntOgKEbz', b'Censorship quite today video today find many miss HrZqJyN', b'late work together however vaccine save live know mutatin zHWyiCIh', b'students work retirement home They tell mask ZMmxvnik', b'Just check NOWHERE FUCKING PANDEMIC Maybe AxPKwFQRSM', b'hell person manage mess things many level almost unbelievable', b'label solution live customers Clinical Trials ZjdPcjGCb', b'American drug dealer pVMWkJ', b'hope', b'Please share This truly time need nation This press conference cxJgybzZe', b'Here NZoysIjJU', b'Players turn need', b'This simply bullshit discredit Fauci This nothing Each KHomKTtoc', b'LATE NIGHT STREAM Mimesis Imitating Life UTOPIA WATCH ALONG dtKKdRn zPjHvKcJ', b'Delta Dental Colorado Foudnation COVID Responsive Community Relief Fund roll zXSRTNPhxh', b'Brazil Bolsonaro Accused Crime Against Humanity Over Coronavirus Neglect QXjFrrBRO', b'Obviously still think joke hope LAST term ghoul serve Texas IZoKKaQc', b'find gUejmeLH', b'sweetheart wait gift deliver movie room KTxsrYWf', b'tell pduRlwk', b'still pandemic factually Democrats want halt illegal immi cVFFvteq', b'Which scariest', b'Kills Germs Viruses Bacteria WvonCZFVN sjDwoeNTVs', b'Quick quick click link Twitter take away real doctor tell truth uNytMsycw', b'elect office permit xTQnplo', b'Just really happy photo Glassy Skin Balm turn Have smaller QcdXxiFhAi', b'read VxyOPbdr', b'Detroit summer school students test positive COVID MSlDwqfNUT', b'BLOG Rising Sophomore Vivian look forward fall come school initiall EFdBUEIhKr', b'mask available stop ecommerce store vfCztLHbrf', b'America Frontline doctor message BKcuGvh', b'This video censor Left Coast viOmZQWEo', b'cash patient wife hours need help VGcRKkK', b'Today tons corpses accumulate ixxBlX', b'curable patients count recover xFjzCu', b'long segment population still think real spread thrive entangle everyone yrOtGk', b'TONIGHT bring tWeeAdpIg', b'study identify symptoms could help predict severe patient case gmQRiCzHa', b'Great recap info Makes skeptical cruise resume year SJMwrWKuYZ', b'Hospital Emergency Rooms strict protocols place Covid include Podcast RWxlokuhQ', b'foundations move think action midst great uncertainty Explore Deloitt DYtgOVtI', b'Contact protect income precious things life family CnvBuY', b'This destroy lefts entire narrative unless look much AfGqzueh', b'Gene convince Paul record least single enti OdNAkkO', b'Caring everyone involve education children HEvNdPNmhL', b'Shit sound like Trump conspiracy doctor', b'last days learn three people close Thankfully JjyXxSAa', b'Parked vehicles amid COVID death risk fNxixHbf', b'Daniel Tiger Neighborhood Episode About Helping Kids Understand Coronavirus Pandemic znxLdqQby', b'Goober Gohmert test positive personification ignorant Republican Nice Irresp gMalIoMxG', b'many people expose', b'Crush Boat Buyers Seek Recreation Safety During Growing number people turn amid nmbjqVGuN', b'Translation update fiZsadU', b'direct indirect Keep America pharmaceuticals IFzSYWTBD', b'build stuff relate WGEkVSXI', b'hill QZlsjkdJ', b'severe case life danger would take', b'release data update outcomes claim COVID mncTEae', b'With pandemic cause economic havoc countries around globe leverage QLhYsK', b'Such huge opportunity right clip They bring supply chain back JWYmULppuE', b'They Censor America Frontline Covid Doctors Defiance Science Live Liberty Report huCSdyVEY', b'longest time think governmental censorship universally evil breach upon freedom speech ITvwMofF', b'ignore fact FREEDOM SPEECH country tell MTbELE', b'POLITICO refuse wear mask test More State Idiots HHegMWj', b'InIndia Playing DqURHoZ', b'today shift condition organizations turn intelligence action navigate disruptions drive ytwGzzzj', b'Tremors back Watch PERFECTION hbnkcNdu IXTlgQGUg', b'Just comment Covid fire Laid different Read PAfjOEeqJ', b'mask test positive smart anymore', b'More patients Imperial County transport hospitals around since March WqHNJPWhYt', b'Diane Foley James Foley sure want hole isis court bMfGtkGv', b'Americans sure appearances well neglect QnQCkhDbz', b'Explore critically important help industry maintain growth drive rQIehxOla', b'Sweeden recommend people maintain safe distance gather OlKDYtoEX', b'Would Block HBOT Avoid Intubation COVID Pneumonia Read yeQflRIHK', b'Hope Follow bSXPZOWv ofinstagram forsale FOztHDtlR', b'Join tomorrow episode Health Live host conversation SPjzjpmxdD', b'recent survey general counsel workload increase latest article expla UhgxZvHKb', b'Husband Doctor Died COVID Says Angry People Refuse Wear Masks uXLgOdU hMYSOBoY', b'series take closer look financial implications financial service industry EnBoYJR', b'Watch censor Wake America truth really happen Frontline UeMgIGSik', b'spread like oSxzFQvw', b'Nice tweet Herman come OKLAHOMA rally catch VUjRYRKSf', b'What Back School Might Look Like CdMrpvEK', b'word like uncontrolled problem real consequences wonder could convin aTwzmZJFq', b'cancer free last years Trump victim xkpMfmuFS', b'KiikQaPG pick steam claim live thank incompetent jPvWWaJjZh', b'take life COVID hoax take life wear mask TOOK LIFE push OydwrzTFw', b'Jong could crisis develop doomsday weapon hlFjVhQaRO', b'DEMOCRATS AGAINST TRUMP COMPLICIT WITH MURDER CHILDREN UNBORN AMERICAN POPULATION QCpUVXxsr', b'make everyone JppMKNbXLT', b'OpEd Aside extremely important current pandemic Does zsthlwkqS', b'think Indians come clap Sonu sood also help help', b'shrink annual rate accord Bureau Economic Analysis agency publ HDggQnnmM', b'Many center family child care home stay open amidst meet families need program aeXGPSZh', b'complicate Laura ever last name understand ulBrMqdXd', b'Well administrations response anti everyone They literally care emaUFYtmWq', b'accelerate learn amid member school must ensure students access jpoLkpX', b'Seriously What heck decisions proceed school year feyUWpLFGB', b'When Trump lose people fire America finally breathe Trump literally kill ndxdlAWgE', b'Fears second wave Europe cause caution panic skjCBFzo', b'murder tRump biggest contraction economy EVER protect pUtowCKw', b'Anyone attend hold YfXsfrVTC', b'Working Together Post World Companies need shift focus find ways bSdppjTSrQ', b'Republicans leave immigrants relief repeatedly enough Join Thursday YZcnWdesS', b'CHOP Researchers Identify Profiles Differentiate COVID Children IEGbrupDap', b'Read someone explain help HLWQdhv', b'awful death catch ENRAGING RDvMrYpCK', b'Thanks plasma trace antibodies That data base take qpiOmUzHl', b'time strengthen efforts advance access especially gcTVVhgSx', b'Clarke County Hospital Expanding Services Into Home Monitoring Patients fIYycVVi', b'Buddy first test positive COVID Miam PpBmbdFs', b'Imagine progress WjGxYPFjZl', b'There really nothing approve past April meaningful measure fight NqDkgGCUK', b'could predict toll would take communities That consumers face XEXOzFAbU', b'need help however UqOoqKszC', b'Additional free hour course Measuring Maximizing Impact jOhPNMmYH', b'octogenarian star store didnt mask Said brother Covid express akvZbob', b'WINNER NOSES PACKED genetic material Ding Ding KIDS UNDER Every XiwOLOGjL', b'Just Orlando peep Curry Ford near Crystal Lake employees MASKS walk ATOaodKwy', b'LPwqAUG', b'piece work choose live life free fear submissiveness live VAdzRcImNb', b'Field experts experience years innovation next months JZvfkqCry', b'America effective pandemic response team scientists best world protocols chain comm OsFqveggU', b'ravage Grande Valley Texas Right leaders area pLxBHa', b'world population world deaths know ARROuhfVC', b'What afford college right xiTQwgMRg talk bind wqaKtgZc', b'necessarily want exercise face mask work RqyNoxEu', b'Looking Light Tunnel book compan zEJKamkD', b'Monica Yulieth Hinestroza Jordan discuss medical exacerbate kOgEovBBx', b'Struggling submission reimbursement process Learn loss ZEeDdjxi', b'CASA member Raul support campaign cancel rent pandemic many people PlHQEVpLqy', b'Iranian authorities must stop deny health crisis prisons take urgent step protect mHpnTYlIYF', b'Unless Congress take action millions fall deeper debt loan shark exploit induce economic HGdITplDE', b'Million confirm infections deaths expec TSTwJKUdB', b'xoRzcJfEe need furlough pilot originally plan Bryan yxQGgUWsfJ', b'govt criminally inept problem half country make criminally unintelli ZnBsYgr', b'This would funny true tRlknXuHsb', b'volunteer ieiBSqp', b'already touch', b'Exactly nepotism terrible idea GLDhmYxC', b'know hard still gonna xZdJaovKW', b'UCZEhYRmh communicate several months expect smaller airline moZJiyTDOA', b'More HALF everyone incarcerate Mississippi prison test positive This LARG TDtldrxd', b'another hoax coup keep make rich RzixxjoTRl', b'Knowingly infect others infectious disease assault battery deaths eJwWzYg', b'There right IZWVXtMKn', b'What status international travel Which state mask mandate vaccines progress Read UyVLanFJP', b'humane thing abolish illegal immigration instead cheerlead every form anarchism HOFTwwgK', b'right Thanks supply throwaway gloves pump days ruwTbLha', b'straight Cain virus Trump Rally wear mask Mother fuck JTtizucVD', b'window opportunity take measure reduce infections deaths That window close AKCWGME', b'call city report plan mass gather tomorrow tell anything fDohJtYBy', b'global industry rise activity June still long road recovery fkwvcKFzj', b'weed approve treat must line klmiuvWMW', b'Fauci roundabout protest could lead spread pXDMTgoffE', b'Keep Houston Harris County Strong pEKAgrujG', b'want know would help Governors state throw ydXYyZrQ', b'They plan virus find anyway Schools review plan accordingly vTvruRGK', b'millions untested still leave plenty room play spike number CCutREYGW', b'FACT More jobless claim file consecutive weeks FACT Trump appr EPSiPdcOL', b'develop implement national plan defeat Other countries BECoKjVo', b'Looking nutritional solutions help protect Coronavirus COVID Influenza Avian Swine mgdCDg', b'Fauci Yeah large gather lead spread Jordan Should limit protest Fauc vnTeCdbL', b'think finally right stuffer verbally mentally focus normal vdujQWcG', b'DEAD AMERICANS Individual Care bullshit fSiLEEu', b'tweet Bottom line susceptible QoVfniqHw', b'This never leave administration trust break aNWtQBIkN', b'focus normal vaccine normal wVHtqkW', b'focus normal vaccine normal vaccine RgVEG', b'Distractor hear critical save live peddle political kFtXAMv', b'summer nothing change possible total cumulative number case worldwi ThaajIid', b'Meanwhile take spot bump respectively XoRTyu', b'Although slow surge case could still take spot next pZHlKueluD', b'Even close Reminding still yhwvKWmwB', b'shorten season work sadly pace anyhow throw season away', b'idiot Stop discredit', b'administration deprive Americans much need ventilators squander Million UmGFNwNDf', b'case population need take action bIhwCNKhn', b'stress affect mental health Find work help someone trust Check OIlBpXDYp', b'What treasurers know program support credit availability disruption cause PqaDarGX', b'Biggest deal government gxVgnQwyR', b'Dude Group crowd realize test contact trace countr sUKlEbYO', b'Experts need tighten access test bottleneck supply chain front EtQYMKaQq', b'What would call full throated defense Williams leave bubble potentially infect hLXIJLN', b'With restrictions social distance school look creative ways address need cBZvumTCaY', b'Gross know debt collectors believe crisis golden opportunity reap benefit kxYOxInm', b'Jordan stellar Fauci whether protest increase spread Fauci zNCHaoHa', b'There support agriculture latest stimulus package wait mtQDSZITm', b'increase need mobile solution become increase kLbsHdVztS', b'From Journal Inflammation Severe COVID High risk Groups Plasma Therapy Only Right IICRNFQv', b'House pass appoint activist judge hijack GHOeivtJ', b'reassure unfortunately Potential implications school fall oJOFFrsKBa', b'Population vice india grave danger fresh case increase recovery rate improve find fWZYiWGCPP', b'patient facility respond mean EkbdAuVGu', b'recent conversation board member Erickson Blackney speak Mississippi State Sena EDLltUJdk', b'Black people time rate white Americans need address racial dispa AzFsPzuR', b'HACK', b'Friends prayor warriors please pray mama sick wait test result cCNMLHhSi', b'time Jared Kushner arrest crimes humanity', b'HERMAN CAIN FORMER REPUBLICAN PRESIDENT PASSES AWAY AFTER CONTRACTING COVID qoPvkJGGki', b'trouble time return name brand Explore brand power NnNEIVFcI', b'Your lack leadership kill friends Covid kung Chinese Virus pZOONQls', b'latest Global Investment Innovation Incentive Update learn Indonesia incentives IyachwHF', b'impact insurance investment management industries series take clos RvWkB', b'glad send overnight camp Georgia camp mask ZVoIbPeJxY', b'drive lockdown record level unemployment impact many cardholders ability eJAILHCCf', b'pandemic long term disruptive force strong influence chemicals industry xISuOzv', b'vote Trump vote Biden exactly opinion Neither CIkLFqNUSS', b'could catalyst transformation finance organizations share perspecti IAdHPjOz', b'Negligent homicide still homicide Jared Kushner target thousands Democrats COVID politic iHdvqieKd', b'Have recover Your plasma contain antibodies help others fight disease BzUIEKXR', b'Serious survive External guidelines absolutely necessary must also CMsTEduHI', b'WATCH Lincoln Project drop rebuke Trump delay election tweet past line QcahjNZWpB', b'call Cardinals Brewers game positive coronavirus test JuYIflkpHa', b'Florida Sets Single Record Coronavirus Deaths Straight tRLWuwvJKD', b'Guys super protective Italian style mask Venetian MASK Protects perfectly Nobody vHBfWHo', b'Study find higher viral load young children gLHHPVBYo', b'Fauci Europe better manage coronavirus widespread lockdown uZVuhPJy', b'Fauci respond Trump test tweet state reopen quickly without follow mask social distance hKNSwYeNTz', b'Fauci children immune COVID sign waiver protect hydroxy cure WpOsNR', b'WATCH Fauci debunk Trump COVID claim LnXbAMfuQ', b'Trump Worried Enough Want Election Delay Devoting Resources Protect Vote LFXsGNyH', b'Rigged election Trump complaint campaign strategy GdGiyaEg', b'time like play role improve health communities power yaupPqGHr', b'improve symptoms adverse effect considerable randomize trial outpati NARMzlV', b'ECOR Would please summarize help patients oDtoJM', b'except AZYGoi', b'finally start recognize well Sweden handle vKSqSBYjx', b'ITServe Alliance Florida Chapter Virtual meet schedule July WlKtBuP', b'think respiratory virus involvement explain LYHRxduRqw BcIxRSoYz', b'Dems paint corner basement fcxhEvAYl', b'Lack internet access affect farmers communities nationwide This problem even acute amid dcpKIizVik', b'LuMind IDSC national consortium UPDATED COVID Down Syndrome Abbreviated English Spanish HaVvcrJg', b'Please read child teacher driver cafeteria worker sibling parent AfHsVVmR', b'Manage Mental During Outbreak mOyVkICqYT', b'speak Micheal Johnson Association work AvTSMGtnYT', b'tomorrow', b'Pence worry Space Force horrors force country utfitEwPch', b'Chief Bitch offer fairy dust Relief Bill Afraid AGmpQn', b'Management solve hard problem find someone MDZRrRYW', b'next days Colombia take spot bump countrie QacglJyC', b'Taryn Buntin Clinical Supervisor Intrepid Bowling Green speak WBKO Television FALKzrbCO', b'Survived Stage colon cancer spread liver years Cain', b'Another Covid bite dust Another bite dust another another AHCUUQ', b'give mean pile paper make plan uiMWfsHXJG', b'Predatory lenders disproportionately target people loan sJMshzx', b'Women leaders around world shin examples effective successful management pandemic lGvPXOQD', b'push back support mask fPMBEoFm', b'Testing Free folks Check time locations Ventura MPdsgpRGBM', b'next webinar Join Preventing Transforming Career Burnout Opportunity VLKvQPEfs', b'PISSED stop make fool start They want NveBUecE', b'feel Join movement report symptoms QkYpvDEM help track fhXLSWQPL', b'Virginia First State Enact Workplace Safety Standard standard take effect July expir KgsbrTMvc', b'Excellent question Proof political American right work gather worship limit RXvdpxBfh', b'exacerbate mental health crisis among face barriers access mental health care Heal FHVzcSH', b'people infect test would infect regard DDLOLHXBBy', b'driver test positive miss least race NQlPnkQ', b'postpone elections fear XqNRqMrdOq', b'think need postpone elections safe wildly contagious mass killer', b'Truth myth Holding breath second without cough mean Myth Find xOnUZez', b'sigh There without staunch community spread ZGkLFCrV', b'worth note horrible ever since become commissioner RfuIsgb', b'CALIFORNIA Yesterday record half confirm report positive case previous nZutryHCU', b'Representation matter Lack inclusion vaccine trials would negatively impact health KkZtclaOUA', b'Same true cancer leukemia prostate breast Abortions stop track SbgtoQLit', b'nurse take survey impact reopen Most trouble test dfYCoRupP', b'case test Donald Trump YgieczBzw', b'Florida best make sure highest number people possible spread NGkeFqiu', b'Senior officials Department Health Human Services adamant test turnaround obyjZJkMWk', b'daughter appeal father contact JxwDQUvL', b'Florida fuck hard result panic flee state cause massive ViyBZgMx', b'Nobody censor foolishly take warn ineffectiv cUGYvDup', b'thing take fragile life Shopping coffee music BHUtrtDj', b'case still argue mask months pandemic', b'Again test test Coronaviruses general cold test positi DeaaH', b'anyone ever contact Magic Johnson blood make cure Dude beat qFlyHPcfDn', b'Using Republican logic test mean nobody plan work', b'Louder naysayers back iTMgrA', b'Absolutely Misinformation ability annihilate society measure take ensure quality xnRmYUqfb', b'With Trump Administration family guilty countless crimes corruption tMToyUEN', b'This true selflessness This mean healthcare worker DHsfLsucO', b'Hill question KKKushner fail thousands continue WIuIaUA', b'school sure today hate school break cough HezRTfNxv', b'warn drive hunger food insecurity desperate level drought TvryMJGoZ', b'Many health systems days expand overhaul patient data report practice accord BsaaNBQPl', b'Hydroxychloroquine effective treatment accord sdsNWcfgu', b'Right Fauci right wrong Almost every country handle better LFjrUCHk', b'Enjoying disapproval record lose nearly voter appro ghOLDAa', b'What actual SCIENCE show young PyOuCQuWGd', b'hate AppJvne KiwRqsw', b'This perfect LcGxhVBwA', b'They really party bailout KKEuPKRns', b'accelerate timeline couple look move together This quick timeframe xlrbvRIgF', b'Passing house emaDFD', b'Manage Mental During Outbreak flIWuHoY', b'Sports bubble trouble lSrVRkOQTQ', b'withdraw offer need applicant start immediately individual fpTzCjb', b'come supreme zJiIlMhx', b'test This leader party treat yWJPONXdyW', b'Well stream today finally class sick Yeah Here NHZTwddp', b'What protect patients ideologues quack discount increase body TZatMSmen', b'idea suspend players break protocol whole season want players DJFciBQf', b'virtual lockdown gross reac riBzHlRpC', b'head another Russian foreign interference misinformation suppression cheat orgBfDVr', b'SUBPOENAA REQUESTS appear Committee regard TESTING PLAN allegedly scrapp eQMEAUlJ', b'Tennessee rise COVID infections among school children rSLVBpL', b'Look Hypocrite dictionary picture McCarthy right yPIeEhgyb', b'Toto China anymore', b'Your thoughts AppJvEOSz KreKaxksg', b'tell evacuate Hurricane delay leave quickly Check local officials avai iwmIKqss', b'keep Marylanders safe strict state plan reop rhuqVZm', b'know season last since league even enforce spit', b'Struggling Give College Admissions Tests During Pandemic ZXgjiROS sTonCWwk', b'experience blIBhMlyoB', b'When Rashida frontlines start feel like politicians actually BRaGICSOB', b'tweet Wilbur want proof life RTNrYuZAI', b'Along positive case number Monday OGitcia', b'single mother mNNAGA', b'anyone sick pass trace expect charge SEtRqamRA', b'While ready await test result wonder dXepLFHRU', b'Watch take home test tube pVlUsyCGc', b'This look like publicly attack highly respect gXPrjSHhT', b'afraid people like turn Hotspot Thats abxjlUoWV', b'Year Here Vast Majority College Students Planning Return School Fall eYIOsUIVp', b'Same watch Russia help Trump Same watch throw cage Same dLYVlyKxO', b'hypocrisy much bXKZZn', b'School Safety Kids WOpxRrjIa This video help prepare back school SJLmpjW', b'reach case become first state report CQxeAGBA', b'SecurityNow fake network gear CVfAitIX', b'cute make laugh Well shut everything ladies XacWfdVd', b'course many come back positive many deaths', b'Keep date latest news VfVzqpQJV', b'sniffle much iOGyacaYhG', b'sham educational system rebuild Everything OCkTyllkk', b'Donald Trump continue distract failure lead crisis Sign QdPHRkBY', b'COVID DNGpvaiOg', b'Daniel Tiger Neighborhood Episode About Helping Kids Understand Coronavirus Pandemic QlZqOCnll', b'things currently Wouldn surprise baseball announce inning tripleheaders', b'politician Trump pleaser show media public IAwHjCb', b'stupid long like bunker', b'ISIS kill many months like task farce saids still tKAJnlEnU', b'Only THIRD deaths cause report', b'Week Read full newsletter VXiYAxdbeD NLgelewa', b'know people work people kill shark attack year gNKUxhxBA', b'Profiles That Differentiate From COVID Children Identified wiLyDtkmv', b'Shouldn municipalities institute AGAINST SPITTING Typhoid Mary time COVID kFKhWyjUQ', b'admit experiment childre qSNjTeNs', b'THIS THIS THIS dOheutNd', b'learn word today antiherder noun someone view herd immunity sowvNIky', b'need figure control spread live back tXsuyph', b'charge keep children safe order anything comfortable SplFGctmaN', b'Simple YrDxHBvmDg', b'people know town positive last days This wave Missouri need xmXqUoejz', b'take Seriously apparently ZlCGzcsH', b'REAL grant school businesses employers blanket immunity Legal Liab PgrLXhqIGU', b'What afford college right xiTQwynIO talk bind crTOVfVbP', b'Michigan Whitmer veto bill would keep patients nurse home This veto FEFRLtsx', b'Hear spend efforts combat virus unite front instead vrdBbpyT', b'conservative youth group delete tweet Nicolas Cage meme mock people wearin ldQfdTReG', b'GREAT LAKES UPDATE case PICU admissions Deaths NvLQSuWe', b'Emojis place watch inclusion Christi lqKJZbJkVK', b'PRIORITY CHILD SAFETY PRIORITY LEARNING This size uKXghcYr', b'long time employee family lose morning Last year stroke prior heart fpvvjAlsxB', b'feel Join movement report symptoms KsSkS help track vFppeeZb', b'Gohmert return Capitol Hill indetermined amount time BguKBHTDwQ', b'Florida evacuate ASAP safety first forget', b'kill people help tVWewfyUFs', b'today think anything cLYWGQAYH', b'Russian media quote Mikhail Murashko doctor teachers would first receive vaccine lVPYAXXJp', b'start hospitalize kill close family members already When happen', b'George Bush warn nothing Donald Trump warn nothing cPHSDyqVN', b'They also short term deal another deal make later hear aIbZnAZf', b'Nation test framework think colleges test students every ZdHTDCcB', b'MIDEAST UPDATE case PICU admissions Deaths ncsVeHZbb', b'Weekly update Next update August World decrease rate transmission pxxqtFbzf', b'Jared Kushner decide need national test program felt HiFMClZgKl', b'exactly sharlatans rOtZwXuA', b'bang high wind Rain wind head Florida eraRRrK', b'China helper years Feinstein Chinese connection sWDobq', b'wait headline weeks later jrViBe', b'true GTbfNwJPKE', b'PgPTjZxq', b'Perspective Right applicable COVID battle SqUIiKE LcAegp', b'leave last think hard enough entire population aBWqXlXWa', b'REAL care Senate House npuaJxLOBN', b'spend decades measure report model forecast predict time series data Although WINwIo', b'Time series data show exponential growth small enough period This misrepresentation freak many mkkeWkH', b'standard versus take seriou tkaLDjKn', b'Republicans admit plan block unemployment benefit Americans KNgiwAnT', b'forget mention deaths well attach tgPQdGSRiK', b'Question Birx Fauci take medication prophylactically covid treatment would nNJwQdfi', b'Quarantined Stevens move unique view half increase overall VqGxiHLAPl', b'silver line spend much time together family nvMSBbvGb', b'ENGLAND UPDATE Cases PICU admissions Deaths ZOBZJcbh', b'Children young people call increase support wake COVID World kDEOAosa', b'honest whole virus Until federally mandate plan place economy cann dtGwY', b'need HUGE turnout white lightly educate', b'racist anti Semitic everyday bigot probably vote Republican', b'Hyperbole fear monger reality Americans dead IMPOTUS qyQflX', b'Many calculate estimate total percent infect sBviKbxQUt', b'Philippines extend lockdowns quarantine shutdowns capital region country total cumul gzvzFFp', b'team send first people like retweet pyQBemXE', b'People longer accept unscientific measure want live irrational fear nHLgzYQNJ', b'sOffice Chicken kill ritual face JfPpEzSngE', b'ICYMI editor With virus surge largest state likely cBzgAANM', b'exactly need tutorial state live zdVkseu', b'Hear powerfully describe challenge raise worki XmENDrGx', b'proud Emerald Travelers brave frontlines FIRST assignments Supporting nurse jzUIIFY', b'THIS FUCKING STUPID COUNTRY GOVERNMENT ngcqRfX', b'Again happen home town jGbMUksBY', b'important handcuff year factor Which handcuff sure draft', b'deaths unrelated COVID mark COVID almost absolute What compensation mpCsNtWb', b'Over million case Over deaths months average deaths JoKhdqOTPx', b'discuss future post world zwwZGgvw', b'blame something STATE GOVERNOR responsible nUkrilhNB', b'Doctor Representative break blood plasma therapy treat JrOwKXJPDu', b'need Hope alot grief counselors deck TzTZZUm', b'Very interest analysis risk reopen school WRLTDvGY', b'There things control things control control CtFgmpyMXQ', b'While COVID continue pose global threat healthcare organizations must begin plan recovery yBQoeMnnZb', b'impact daily live Listen discuss cadACbPXP', b'This Florida couple behind break quarantine test positive They NXmJGWMmZ', b'real open control bbbWHAWZ', b'change almost everything include businesses business company thrive aYQdznhLT', b'many people either directly affect close friend fami FBXMVyfQ', b'sign waiver taxpayers people look children KtnZBrSv', b'serious implications Hear Ross Camidge answer quest DelZgOvV', b'UNITED STATES report case total deaths Covi HwauXfy', b'TikTok nonsense Distraction THOUSAND DEAD', b'Take listen discuss affect AOJQEoXp', b'think situation whereby people think open school priority health wellbe AzxDFNWZ', b'safest FedEx another delivery service vote life depend wpxOIqw', b'attention science bQazwPbWp', b'Awfully selective choose Want ignore Tennessee KzyVvQCY', b'Retweet think time hospital employers step provide test frontline heal iDqoXDqZc', b'antibodies remain whether level antibodies shield reinfection fact sffiWagtN', b'Well nothing hate disrespect class traitor sell HkrkUzwI', b'Perfect test locations Gallatin attendees XWDvOJkJ', b'EFFECTIVE SANITIZATION WvonDhgNl nBfMLRqj', b'Hard time believe Casey Mize make debut week season BLQkScctV', b'Should children skip back school checkups vaccinations year BuabtgMsQ', b'truth everywhere richest poorest countries people need work open rUcwjRsDX', b'Covid create lockdown test Marshal vaccine uiMxGxjNE', b'compare Sweden Swedes live alone Americans live bDatdEAHFF', b'This unprecedented global pandemic call agySObUXI', b'neurological disease already last vaccine never wsJwULbb', b'Year Here Vast Majority College Students Planning Return School Fall gkMJMUDskF', b'dream lqWUZtwR', b'August start stats EhrJYDQAh', b'share KSscJaERZ', b'Kids need wear mask school person parent help hang Kiowa ouRVlwenR', b'Didn think politically specific many wish MQygxPNx', b'Ohio Withdraws Accused Misinformation Campaign Zero Hedge XmgOhltHF', b'tire take emotional physical toll Houston health care workers Painful read NqTMMkldk', b'Exception always elitists EvsPyZw', b'would stop anti mask social distanc neJCzwea', b'wSKIfEfvh', b'Exactly Just like common cold everyone eventually', b'cactus fcking vaccine While military enough vaccines jvsIasaW', b'hate political strategies drive response Citizens need stop nonsense', b'Painful quandary gDnaZrnD', b'Interesting XDOHwMuW', b'distribute Response qjmJHNPZSE', b'Doctors Chicago everything order COVID patients feel healthy Thank GaHfFVsfA', b'care particularly complex panelists July National Academ mWcCgkIz', b'Trump malevolent sadistic want take away healthcare Americans replacement yLOKApAE', b'Good gosh People still cruise Stupid Stupid Stupid Just like send fKqFVhnpfb', b'Cigna health insurer profit hour hours', b'tourists home Leave Northeastern plan visit want toTXVfmFya', b'lockdown make everything worse They implement right Wait feel McubXHlgS', b'many hours spend work DhoFMBCsT', b'Really Bribing countries EXTREME LOCKDOWNS Round come right agQVxzkz', b'prepare land virtual career fair yaidDSvM gEGmbRaT', b'Also weird Republicans like worry cover peop GAEnxp', b'Bill Gates Fauci Going Prison Says Bigtree BpbDxMBZv', b'What silly thing guess people kill pretend dead', b'appeal college financial decisions coronavirus hRJiZU talk vXAAsOMtU', b'Bill Gates Software Developer fail Eliminate Viruses windows allow speak JSfYkFK', b'People choose vote stay safe Senate must provide state Expa dByXDKMtx', b'feel like play Marco Polo point', b'Turns Trump regime BRUTAL REGIME WITHHOLD Americans IDOZEwFND', b'fact increase positive vpQlUaSGDV', b'Raise hand think Clyburn American Civil Rights icon tradition John Lewis bQOuBVutm', b'Americans diagnose XhZnklep', b'lovely Bohemian Gradient Asymmetrical Green Maxi Dress VWCJWuRE', b'Member Dawn Ireland feature CBSN raise awareness Covid fVUKJTjA', b'healthcare like plan economics depression zawwuVUd', b'Republicans target virus They KILLED PURPOSE Republicans llpEPsiyx', b'Review COVID spread offer comfort school reopen prof vpQlmkvt', b'Taking serious hNXVCIMXi', b'Republicans ATTACKED citizens Americans virus ifAgiuhdpu', b'responsible reasonable adult select face mask grocery store kmzaqvSucT', b'Their primary goal covid vaccine alter explain point UGySYhnR', b'term VBZJypFbm', b'Welcome back land stay safe', b'case MITCH MCCONNELL WITHHOLDING', b'spend whole year house August like freak', b'This look like hospice care visit granddaughters recently QijtRkKwZ', b'Masks make smarter alive mask smarter maskless infect kill selves others ePOcITsEV', b'Question recommendations help minimize spread shut iDEYxKv', b'last word love love love love love never imagine IqVYECRBS', b'DEADLY PANDEMIC disincentive back work Republicans targ UeSsLv', b'news bore back OobZaJmr', b'school begin amid virus parent good options qySXPina', b'With loan money restaurants mercy coronvirus ZrhwMlLHG', b'Virus Outbreak Annual motorcycle rally expect Busflxmcm', b'Insulin groceries reduce unemployment affect struggle Americans California Mississippi bLlQmdL', b'WATCH Lincoln Project flatten Trump send violent abusive troop protest moms GhhXSLEUAj', b'Thanks public service announcement regard stay safe However forget LJeWR', b'saddle company debt store months worth expense good time ReTUMxng', b'COVID Changing Families Save College Costs vAijjtaPF talk JHsRYDaxD', b'evacuees suppose turn away shelter Matthew', b'Take note During crises like decisive action protect risk MfpekWHy', b'NASA astronauts splash journey home aboard SpaceX capsule tcdfZcxGD hGwlfEdPf', b'wake global pandemic business operations home offer IlrSxo', b'rather rest life Biden president', b'China create', b'guess Republicans hang public square TREASON leas saZzhl', b'live area minutes fromurban areas semi rural case last week tell HvytJACZ', b'worry cause Dispensaries available helpi otSoZsz', b'Scientists always want eavesdrop conversation able FNxjhWByl', b'Wrong control make uUjiysvNQ', b'Young Kids Could Spread COVID Much Older Children Adults NvphVQWD', b'attendance John Lewis funeral ivACtcKIc', b'live week people stay home decrease VahMiGbiv', b'Today report release state GOMPqBjgF', b'love would want treat Fauci team medical exper NyNZvfQO', b'Spread like NOaVYnWBD', b'Republicans intentionally WITHHOLDING Americans deadly pandemic discover dkmmVlRif', b'discover Republicans intentionally KILLED PEOPLE BLUE STATES political reason pandemic', b'American minute golf every weekend', b'This pandemic care immigration status safer everyone country immigra dxoLLUuuB', b'HOUSTON Westbury There appointments still available today kszDNkAOr schedule appointment GtGvfbVI', b'late save country since hang public SDFbhUo', b'July stimulus package proposal propose Second payment week nAlbnawT', b'teachers need strike protect children community spread Gove RczgSDetP', b'Barrier Carrier Please wear mask Stop track dDJmkHOam ePnaZIfR', b'tell stay lane Tells need know virus VlDQnlkzsv', b'school open They experiment people live This OeghFLajF', b'School Superintendent Story xjCfRvZS', b'Cloth mask test nurse faculty show promise rQyGpsAgg', b'influenza deadlier children deny science relate data', b'Long Stay Different Surfaces qPXhECqd', b'Kills Germs Viruses Bacteria WvonDhgNl sTXCwqztpb', b'know pandemic face mask become fashion accessories', b'Recently driver deliver package would lecture friend hoax bring liberals CsCzLPPz', b'together great handouts mask hygiene hNSFsuhC', b'Mark Meadows WITHHOLDING Americans suffer DEADLY PANDEMIC', b'Struggling Give College Admissions Tests During Pandemic ZXgjiROS JAjBSrrmDG', b'Sending children back school DURING DEADLY PANDEMIC like child yMZYVYrI', b'Look mindless journalism They actually believe trust vaccine effectiveness yooaLiPaOu', b'Trump NEGLECTED plus days maybe Lying Court Jester fTZiuEiaF', b'Pandemic Created Youth Unemployment Crisis oFscsEwe', b'honor heroes result They leave behind families love ones xAoMcsGk', b'Whats risk COVID lifelong damage exist condition QsvjrVLpLv', b'recently pleasure speak Healthcare Innovation John Halamka President Mayo Clinic rBZewclr', b'Prayers love ones KeNLzGjdjL', b'COVID Kids anxious back school doctor Canada News SBuoytfCN', b'Unlike many countries world United States currently course control epidemic QznLOyIXP', b'respiratory disease moderate severe increase risk SPzoGjccBN', b'respiratory disease moderate severe increase risk AKfcQmzbe', b'respiratory disease moderate severe increase risk keSomtjYqP', b'respiratory disease moderate severe increase risk OWflCTa', b'Year Here Vast Majority College Students Planning Return School Fall WbNllhM', b'Insightful thread gFUPskBVL', b'truer word TheFraud eIjvHYTq', b'push REOPEN ECONOMY priority rather HUMAN LIFE THERE UpbRwtz', b'complicate season begin pNBmYJLWHm', b'During pandemic hospitals South East Asia advantage medical institutions part JZtDSJmG', b'waste trillions dollars fake They Agenda governance zjhkXVUZb', b'team survey users understand COVID impact consumer behavior Read report OgCmqZmR', b'compare virus Obama term million case Panic level ZERO close TkIyLaIVRR', b'mAsepYBR', b'America want vote unemployment justification unfounded Trump already lFHCQVI', b'That JZakxafgYM', b'media outlet report facts Virus mutate variants media keep cJOxKmv', b'This murder oversee tragic ward Veterans Walter Reed purposely give vaccines dwUjDxzDo', b'With good knowledge Testament history understand Revelation Read part dmBycKQKr', b'Telling school district XhEHtmHqL', b'summer dominate protest racial injustice grow demand drugmakers mdFUckaLX', b'Manage Mental During Outbreak mOyVkIkQl', b'wonder enforcement like police look like actually care communities ftsNDEoYl', b'This carefully word statements suppress hope evidence early treatment Covid could chan YAIrjTD', b'Mainstream media silent Director admit COVID death count inflation fyGpONBV qmuYNsZoi', b'pitcher Rodriguez season COVID relate heart issue sure ltJdTTdN', b'Solid Sunday Morning Read Check Administration kill spree zPOayiLJx', b'make less healthy weaken immune system ability fight lockdown period SrtEawPn', b'Preschool During Pandemic Insight Professionals AmPaYysub', b'want sport fall better COVID kKoUCTTp', b'case oversight limit audit hmmm wonder want cure PttjsZjBg', b'disincentive work DEADLY PANDEMIC Republicans COUNTRY WITHHOLDING', b'Anchorage Press recently feature food program work Check collaboration Food Fleet xXCMtFCOJ', b'send first people like retweet throu ZTzLAJaWh', b'Which zoqobsiH', b'point bunker grow pair Shut EASE back lPGAXUtSd', b'Americans across death toll rise hospitals lack vOnJRV', b'Biden stay basement away dumbfck campaign PgEBGLhK', b'SAVE AMERICA CHILDREN KEEP SCHOOLS CLOSED till longer threat aCXgUxDd', b'Something think LcyZMrTM nyTUSHgX', b'Something think qXHPiIBgs', b'researchers work hard improve test part maintain good ghXPRSGw', b'LIVE WEBINAR Sometimes life need know achieve This high time know cure LoYndl', b'Best Keto Mexican Recipes Carb vMIuobt', b'Poll percent voters support national face mask mandate qnIHYihd', b'Barron public school first rest Americans children ZrFiV', b'Another Health Problem Linked Pollution Disease MzdRNyTs', b'Spike COVID case link grad party Oakland County oQLuoQcu', b'epidemic give person look might able round QKXjemoxEV', b'INDIA report case total deaths Covid trend analy zlFfkxOcGq', b'This zaeJoZP', b'Yakima Cities majority Washington case huge margin Trump hide FuRcevdWrW', b'Delta Dental Colorado Foudnation COVID Responsive Community Relief Fund roll MFLrIWXAO', b'Covid accelerate remote work automation call center industry PCfDVBL dQhShi', b'safe everyone safe Will commit ensure UdWxvqh', b'This interview Trump GCYrmLVFek', b'anyone else catch Trump admit rally cancel rona QIXqXRNcs', b'FtKDtPxD', b'Just watch interview Embarrassing Most case deaths tota OkWXuyRgf', b'time introduce speakers webinar today Children safe school Here BXWIkesu', b'reel millions infect minister dead many minister admit Thousands daily ByFFHWOjo', b'Just wear fuck mask hard could possibly Fucking baby', b'brother Chaim Moishe come hospital thank Miracle Here WCXayiNOJ', b'safer give infant formula milk baby confirm suspect COVID QMvoMjv', b'What Know Children COVID Risks Schools oUjlPyE', b'FELLOW AMERICANS Watch segment interview edIPkCbXj', b'Axios Time read Pandemic Defeated America Story drop today Trump skew AXDXsfLcr', b'Coming soon debate dangerous covid fake videos hide dement gjmDvmt', b'pathetic hard fool Americ RkNrNyMx', b'economy need rescue Federal Reserve hezvUdOI', b'today officials pair residential tower call VqSSyCsv', b'pathetic hard fool American TFEWzH', b'dedicate fund HEALS people disabilities access service CMwuzwjq', b'give anxiety suppose leader screw WigbWYMtip OyMdaFiMt', b'Those graph simplify color chart There word gssIIKRfUJ', b'When back candidat lOSrfDXy', b'Face mask necessary harm fight scientists BVKsche', b'After pandemic industry good growth migration migra olgUToWS', b'Past prove future Sound familiar Proof Fauci know hoax This must watch UtlxhXdoC', b'Need Facial Fauci Anthony Fauci talk LaPook JKdOzwDUN', b'FUND SCHOOLS PROPERLY protect children teachers KXzvDQMkl', b'Donna need stop silly health freedom support vTLxGxgGWK', b'check supervisors Dept Abuse happen speak RgYYiFPyVM', b'Philippines jump less case June case start August ZFvBto', b'STEP ukHeahXSB', b'months infection still wake bone ache want infect LDxGRDvA', b'parent prepare children drastically school year URrZfKjQVo', b'Come would Barron crowd school increase chance zzVMxcAlJA', b'Technology Pandemic Recreate Office Repurpose fHKyZTWbN', b'limit test Kllhpspx', b'time Damn worthless right away SDbaaMdDHI', b'LEAD EXAMPLE Send JnQuoYXESS', b'Before week could overtake total number case pKiBKkmK', b'need know Autonomous Testing nology wzIoHIkU', b'What know King matter suck PoiwoFTk', b'THIS Parents please OPEN SHARE really concern tXwhDfOT', b'Axios Jonathan Swan grill Donald Trump president mindset around Covid test death number duri xoXDyhIMT', b'entire rest world VOTE CALL PRESIDENT NOTHING FRAU aUqBeLWj', b'Thank Nurse Eagens serve communities difficult time eaHMuDHe', b'Biohacking Village August MiniCTF Thurs WHwUFGos', b'CONTROL SPREAD', b'Store Claims COVID Hoax Oust Trump LGBT Spread Deadly Diseases PBlfTZNqS fAUqgn', b'think team violate lockdown rule kick season like ahfjQlQ', b'gate help Trump elect Focus possible treatywith akfNweVmD', b'Good thing Biden sure vote think reckless TUXmJqcSj', b'Praying everyone safety still middle pandemic sICQqeo', b'Fuck Stop minimize like absolutely incapable president OVER TICltcAVwk', b'BRAVO Superintendent Bass proud District health safety IEwTEWwjF', b'High School College Students need HVVlRPdAo', b'Muting JUST Here permission Seriously probably take XctKEVeJ', b'AFTRA President Gabrielle Carteris invite members attend tomorrow livestream updat NhHhYta', b'patient Surely Republicans accidentally right mean know rHrcRMbH', b'diabetes Pray family iBfxOyNQp', b'Same story THAT happen', b'suspect number deaths report countries throughout world underestimat XpQRlOC', b'listen interview Yong fail citizens gBrgQjM', b'Barron private daily test tutor since April escort rZdniUlKCL', b'Should bypass phase trials COVID vaccine Steve Salzberg propose essence bypass phase mzjAHyNw', b'Steve Salzberg propose essence bypass phase trials vaccine idea ipkZEPZ', b'OPEN SCHOOLS parent support every American parent committe NkRGozDDx', b'Home school okay relax Children CANNOT back school DEADLY pandemic', b'Trump Lied Constantly About Mail Voting During Briefing oReJJiUxGg', b'CHILDREN STAFF FROM oBbSxNeQ', b'much believe come tomorrow xfAoRAYS', b'really think happen children simply care UgIIRKhYG', b'Young Children Spread COVID More Easily Earlier Thought eorlwTIX', b'Trump want believe crime democrat cities fault mayors governors States uelaDDFxeG', b'This tweet exactly happen insane state governor talk drama every DEkBWeEug', b'Whete vNoFGTmdu', b'indict ForPrison qYcSGwZr', b'Just Stop Trump parables sound like Liking Liking xietERG', b'Awesome video virus test even know sick bullshit Tell AGbETdHyr', b'During mostly self quarantine time host weekly arts culture continue travel XznWEkwPP', b'Derek Jeter still OMYXwBzn', b'They fuck spread Many permanently crush', b'underlie many time HAVE vaccine BTkeTyZbx', b'They fuck spread', b'Just admit NEED public school open site poll place pand dUKlkIFYb', b'Face mask along preventative measure show help stop jObewOBJe', b'Absolutely look small businesses support Trump reopen push zspIXS', b'Lemon juice hair salon', b'reuse wear mask clean hand reuse clothe clean clothe shower everytime come home prepar lceGkLmS', b'Catastrophic failure sycophantic Republican enablers spread zRwAqIYT', b'Exploiting animals cause pandemics Stupidity prolong', b'Sweden success story require hardly ever mention lzobkweMY', b'really cannot believe still home months start many shithea dibwFhqa', b'Yeah This right bless family KxmxDHwr', b'people gamble build stadium Shame JvLgYhowM', b'Found last week year grandmother believe fake refuse wear mask laugh OALROgnr', b'Saving Lives Delivery Time DENVER BUSINESS WIRE With devastation COVID America oWEuVDpKl', b'Where stop dangerous super spreaders kill UXnoKU', b'true covid women REALLY invent virus China women MYNqcemGy', b'like think people dead DOESN look like peaceful protest Republicans Mitch jshvxwla', b'COVID Kits provide convenience busy schedule Each come plastic dispose equipm pLmoEjlEF', b'BREAKING OHIO GOVERNOR MIKE DeWINE relate story trump Ohio PCIrPufhGZ', b'When look mirror take action murderi VYIZxuSi', b'COVID Cases Rise Hotel Workers Union Offers Meeting Planners Resources Book Events Safely UNITE CdzUmAjZT', b'DECN could game changer accurate result less second That oxGtWcWo', b'wonder take cure', b'disappoint country state There science peer review mask prevent anything tQgSgjOuP', b'doubt This push reopen school choice', b'This data work pandemic wZHPXCOeL', b'COVID Kits provide convenience busy schedule Each come plastic dispose equipme IQjKzKuxT', b'Thank opportunity share work amaze team partner look forward support bRizIEXZB', b'ICYMI change everything secure workforce More vUPEQnOz', b'Home Front Command roll task force They start assist fight agai ERvwstIK', b'plenary discuss major question panel What data wish epidemic Answe HpqilPoa', b'Trump prattle lead beautiful life Trump mind seem AepGSTjDb', b'Larry Merlo work create plan pivot ETjLfkg', b'lCYobLwyZJ', b'challenge time things resources help OcuuUme', b'Since pandemic start coronavirus claim live Americans month ylyFGpLFeO', b'tweet actual vermin Walking emmisaries behalf UGgtHQS', b'disposal everywhere sooo perf PxKluQbZe', b'Diversity Equity Inclusion Roles Spike After Racial Justice Protests BKyQZFIBvj XbEmyTksV', b'think vaccine solution plan people UArFnFvcp', b'Looking forward partner help community ZVmRIuVPsK', b'death every second grim toll America OlQwMhDIjN', b'This school year gonna teach', b'school district announce first semester fully online start entire dZvpqPqal', b'Tobacco smoke increase spite global COVID pandemic study suggest MROjLEUQs YLNijK', b'Azar speak government government support wear mask tell state inst BpJOrjo', b'actually interest persuade willful eEAtsy', b'WHEN VACCINE ready October November expect RoqqCTRNi', b'know answer question really wine vodka JRhdNSsJ', b'take care take care business JBrzIxbui', b'wont patients applaud want protect vcUubld', b'people Trump dictator fascist people vote mayor VJrFdPCG', b'frustrate people like wiLL oVeR cost know urwisJOxY', b'Thousands nurse organize action state yesterday must value people teINxfyIJ', b'Socioeconomic disparities determinants affect acute lifelong wellness kSfLRIsT', b'What workplace right pandemic Check latest article AaRUsIAX', b'expert share personal experience vaPZYHIYR FubnbuDa', b'Tweet QqyFPlqn', b'What HbIyCjx', b'coronavirus level Election November Fauci Guess Guess WEAR YOUR UybzHNUt', b'many time fail Follow bSXPZOWv ofinstagram poBZHvMvcF', b'Sooo Birthday last week stop stop celebrations XqSzfsSK', b'What thing miss life wish would come back pronto', b'Concerned Citizens Ohio call Covid Hotline express concern lack timely testin LNiqOKKzPO', b'million seek jobless federal check foQAxthfYy', b'million jobless claim straight week JvmVLool', b'Toddler Chief erBJNTfdpR', b'fear disaster November IsYcenQzU', b'maybe start burn refuse wear start take back right zIvHoiny', b'Trump mail vote falsehoods part wide campaign discredit election kbqktNTuyI', b'governments make science base decisions disregard science AuBTmJEsO', b'remove Trump coronavirus post interview almost immune EwIXAmr', b'miss Trump viewer GsuJuci', b'virus never eradicate contradict Trump YLAMexzMMl', b'Technical issue lead report COVID case phzhLZlzXL', b'pandemic fuel private tutor industry UziuVysb', b'Students school tout Pence reopen must quarantine COVID yKArXf', b'There enough timely Covid test available Ohio safely open school TmpwlgWfPR', b'Lack school child care could mean lose generation work parent LUHlMjSODE', b'teachers concern return class fall poll mpSQARVm', b'University Texas anticipate test several hundred symptomatic people every RxYwQcLst', b'days slow spread together Just listen tell ybrGjpDJsc', b'dead coronavirus Texas nurse home staffers infect NSkKSp', b'Coronavirus task force examine aerosolize spread ndWMRtC', b'Prepare restrictions Government health dDhTwy', b'family threaten completely crazy backlash science LpyAHSZfQ', b'Together build contact trace program root communi scbhgJcA', b'Boxed Into Corner Residents Brace Attend Motorcycle Rally YgPREJSv', b'highlight need rural hospitals struggle survive UgsqLycF', b'Repeating please cough please cough FcWCndRB', b'followers tire Trump supporters bots claim listen uqUNWRlZ', b'Children virtually immune Covid Trump call school reopen Read article visit cHzym', b'Several months back scientific data support wear mask WGuBLjC would like jzjBebw', b'Similar Phoenix disrupt mark ldBma', b'best writers follow Yong read stuff miss upCETdNZf', b'people person COVID ruin VTLohLJgV', b'Feeling frustrate turn girl summer internless bummer Here take jobless LrHGEJwyyd', b'boil water soften potatoes harden Life happen react oBtbDkdcG', b'Keto Sweet Sour Pork Sheet Meal gwuZvoQo', b'latest edition Podcast George Everly Johns Hopkins University discuss fbyiEnFEVh', b'Coronavirus Choctaw tribe Almost tribe roughly members test QxusCaOXZ', b'State local governments across country create grant fund program help businesses zJhoQGyJr', b'Facebook remove Trump post falsely claim children almost immune Covid oilgClomUB', b'careful break case Russian Election Interference STILL sittin hojBws', b'podcast enforcement wake program must pivot mitigate SkKJmBEwz', b'Seven days Family member Covid symptoms days take test week GzqLqZwk', b'sure love spread much fear panic possible gain vote control people GSvSGAeUI', b'Children almost immune Chinese Virus anti body expose Covid Virus NYJxtpMZi', b'Homelessness increase city Angeles people unable return work LlwIVMLiR', b'Amazing switch Yates testimony care COVID Well play', b'Anyone praise response people best interest xaDhLhZw', b'Turning Island Museum Inside aGKiGKu', b'Alexa Gaffney battle health issue every multiple front infectious disease doctor Stony Brook iExiETCh', b'There need progress stop person support cancel Vertava Health around pcIHedFZ', b'affect', b'Ways Keep Your Employees Safe Through COVID addict gjiGIiyBN', b'incredibly proud dedicate team Mercy They recognize several time help trans hwtBUCOP', b'responsible deaths citizens mishandle yWoYSdMjp', b'Also unique failure control Donald Trump Letitia James qJxtiIprOi', b'little fact people personally know test positive actually give birth bless AxAnjpUNg', b'President Obama give thrive economy Trump give thrive pandemic runaway debt TDyHktp', b'settle trump everyone associate relate test live teevee', b'mask work would mandate mask activities back normal FULL OPEN KfhMwgf', b'kinder gentler make easier resolve audit pandemic Learn SygsdCPZ', b'Evidence proof asymptomatic people definitely spread YJDeHVVOq', b'Download Episode qAafmISXg AyOHtxwgAl', b'Cramer warn deal Capitol Hill could lead sell stock MhjLWwFfOR LezgilRXD', b'Judicial Watch everything interfere Election amaze OcxktHWBC', b'wake daily developments continue lockdown economic uncertainty amid coronavirus pandemic tpvUnrkg', b'Retail Coronavirus Protection Shield Essential Services Take extra vqVpPAxosn', b'Explaining Those COVID Drivers YZvBENLjdM', b'country Except', b'want story folks towatch YloFqdSPv', b'Says yearn college experience want find peopl KPVKlzQi', b'impact More importantly miss opportunities unable WqEZPPLdn', b'epidemic give person look might able round GOEfVxPMa', b'look forward even bigger better SEMA show behind zFVjQdvL ZeaXTDVwqu', b'also Millennials party evPJMicUw', b'Despite increase test case Naturally state MsxYXyoEj', b'Adjusting COVID Surcharges YuQJlDMHRu', b'Unique Failure Control Virus summarize approach really poor dBqMTQquiF', b'know disproportionately impact women influx moms raise hand bNkkJbXuz', b'ctjrKm', b'Sign today LUGPA After Storm Webinar Series feature minute interactive episodes DYAQiCAS', b'While experts still study virus spread many believe condition WBozllzBF', b'Addressing Important Role Recent epidemiological data reveal uxVNLXG', b'Birther kill enough Americans spread misinfo Covid help speed Dead', b'People keep Trump enough without give examples either hindsight talk whic YdslMOhhP', b'raise alarm stagger drop routine childhood vaccinations amid lQsIBumTHp', b'AMBD dRqkIgAj', b'virus Human failure disease owlvfIk', b'Cutting edge technologies could help commute safely CKLyYnjUwb svFdqaKn', b'know currently authorize test EUAs nUzfEWxXW', b'good explain collect information case bette WrxuXuWjo', b'natural cure illness QKoAJTnLdi', b'opti Otech products insure safter school restaurants airports txEANyLw', b'benefit critical many like member Daniella work three fYFcFo', b'options Johnson Johnson REALLY', b'Again Barron Trump return private school Maryland want school PMfqLTDqh', b'Outbreak NQxyDBamI', b'mask social distance work EVERYWHERE open', b'years find donate hundreds millions anti lobby jukfyyXZck', b'report OSHA provide detail violation detail incidents regard lack social distance Eayuzj', b'Aside major investor create products provide many URffSpEj', b'case miss first weeks Rebuilding Together Frontline Insights COVID Reality uAvyxXcHuj', b'Please pray mBhwbpNT', b'direct Trump order Improving Rural Telehealth Access take step extend GVPtSctFg', b'July jobless rate fall IiJTtJLy EQGCMFPl', b'session Well Work Breathe Healthy offer lessons best practice stra OyVBDXHX', b'Friendly reminder please join webinar today recommendations guid KbkIGGs', b'Need Pandemic Risk Sharing ORRfQ Management Insurance', b'What primary role chief risk officer crisis CROs City nFdTQFw', b'TrJGmTGI Habits change even expense love ones hibswjjf', b'Sustained Would owners agree price sustain guess read mKbCFfYn', b'Center Public Integrity quote Cohen Milstein Michael Hancock report find hundreds busi REyFbRce', b'Businesses apply AKCares start idtUEkFND', b'test innacurate Something people awhile imagine xdgJAQIR', b'world begin open back many people dilemma safe date bring person eCTFrN', b'Resisters Help Support Small Businesses RTing shop hope find something aiaFsARxH', b'unique relatable Principle Quentin teach school responsibilities regard hYFcwrpx', b'kiddo fish first time catch fish excite Best escape JKnXNZvBH', b'really need deaths accelerate Matt already enough', b'DISCOVERY FOUND COVID wuhPxkCV', b'SOCIALIST WANT DEFUND ENFORCEMENT Must mean want disorder ivbVczPcX', b'really appreciate unvarnished view frustrate sure need NCTGwl', b'miss series Check Facebook Lives xNyPFrY', b'healthcare workers frontliners currently help COVID situation applaud sacr WrdcTNGsi', b'There million Covid case There case last alone ArWGWRfdW', b'take first That front', b'Since answer question would able grandmother ssmqrTnWzL', b'History quest survive remote learn sqScjEnC talk gLCSPZqE', b'please sign high risk', b'Prudent caution Thanks rwJTvxzp', b'Camus Inoculation Against Hate puBOsfsupg', b'quiet terror envelop life grow louder every heartbeat hGgSbO', b'call science denier many others insist best defense YOUR BUILT IMMUNE SYSTEM', b'SHOCKER months arrest beach sunlight stim JySATxqEL', b'Find CIOs CISOs need know enable secure remote work Covid crisis ADZJaqzx', b'dont care well spread Every last fuck FgNtGaowj', b'think pick wrong first Black President course Malik appreciate ZcIPzAIV', b'cdcgov Masks help prevent spread widely public settings Wear sqFKLGj', b'believe behind notice vVZUtTnZ', b'Believe Fauci Birx SHOULD Share WORLD cgtNHNUg', b'face infection death rate axis shenanigans xUNrjWnu', b'spread nose mouth Probably want tell contractors employees wear bZqWclZKs', b'Journals Related COVID Many publish house dDNckXy', b'survive work week strategies qsnDTsAq jZwYDbBq', b'know people watch game', b'really start think never fully control many people give IWbnoSJSpJ', b'next weeks anyone search word UFmefHm', b'Advantages Community Colleges During COVID yQMHznSat talk vmeAJrjis', b'When life offer flower take cause certainly thorns escape trials tribulations life nYLggRdTp', b'many anyone learn projections rehIXnCOoI', b'greatest news year make forget btdcffgYC', b'dress things tell want hear believe proverbial yzKOtMou', b'With weaken poor leadership doom conflict statements jFDvWHvTV', b'Since pandemic start claim American live month perspective WWII claim gucHMf', b'ignorant dear treatable Hydroxychloroquine reduce lVRCRiLxPu', b'Healthcare public health sectors need continue close collaborations enhance equitable access care xTGHcjRwl', b'helpful base site CHxDijKr', b'start shebang like pretty good wear mask need issu hcPgrkjI', b'What mayor responsibilities mention ignore issue BtcNMAHLR', b'Licypriya Kangujam eight years hold sign Juhu beach clean drive rEllnfwHr', b'failure Congress reach agreement another relief package hurt immigrant families shDgsMtPm', b'church literacy camp summer amid Check recent article dliEDSnnDs', b'What challenge face CIOs manage COVID impact Four Deloitte leaders explore LVoSpEePz', b'turn funerals rally draw applause satanic OEBasnAt', b'Thank years serve Naples Collier county TjAIdMWp', b'Click link They begi vvhcCiHKT', b'purifiers work versus indoors kill coronavirus Safer environment employe WmlysbDggU', b'Racial disparities coronavirus epidemic spread children sober government report publ hiXJMqIwz', b'Have different perspective problem also open doors UuEoCZJeC WuiFbyfOB', b'someone alone wear mask congratulations discover spectrum beyond negative', b'Trump children immune mWyLTO', b'platform create help seniors deal social isolation virtually connect peer WXJwlpuMaU', b'Preparing Launch Phase Trial news release Revive Therapeutics XLNNUMCfQp', b'dearth African American representation vaccine trials contribute PIyUUagV', b'tweet account explain false information spread draw EDykHVTGpQ', b'Since pandemic start claim American live month perspective WWII claim ufdIhMsa', b'inside scoop Chef competitor plantbased butcher Lauren Marshall aRtSe', b'spread especially give fuck attitude DOxEmgcNVO', b'save album Moment Time Spotify QMCejyh power QCUkfBBXQ', b'Lost hundreds followers What syzhsfMRZ', b'Actually prediction March deaths sooo reach goal SYbekC', b'rate protest course hgbMIcR', b'muzzle Trump spread misinformation overly cautious bureaucratic yUHIVmcq', b'Princeton case TOTAL Princeton days case Princeto IcwQwirXC', b'think reach spectrum GgHVDcza', b'Canadian Arctic shelf collapse remind global climate change pandemi MrutzPJlh', b'Updated preprint Role Vitamin COVID Systematic Review Meta Analysis Alon JrpMYVw', b'Updated preprint Association SSRI Antidepressant Reduced Risk Intubation Death sBufKjbP', b'preprint Performance assessment commercial serological test SARS hospitalize DrkwYzmgVA', b'preprint Association mental disorder SARS infection severe health outcomes nati mCCXVRkwU', b'preprint Specificity Performance Nucleocapsid Spike base SARS Serologic Assays QgWxDkrweH', b'preprint Performance automate anti SARS immunoassay prepandemic cohorts JzshJob', b'preprint SARS outbreak around Amazon rainforest relevance airborne transmis aNxdcTIxb', b'preprint Long Lasting Sanitizing Skin Protectant base CAGE Choline Geranic Acid Eutectic jzaVVFuBS', b'preprint Quickly Simply Detection Coronavirus Including SARS Mobile Real Time OIBUxQK', b'Good like childish leader refuse wear mask oVHNXgB', b'preprint Generation tonsil organoids vivo model SARS infection ZuOKAVYI', b'preprint SARS infection neuropathogenesis transmission among deer mice Implications IoaDAqUMKZ', b'Updated preprint Insights Codon Usage Bias Severe Acute Respiratory Syndrome Coronavirus idKAqTImN', b'Updated preprint vector base COVID vaccine encode prefusion stabilize SARS Spike immu EZDntmtS', b'Updated preprint Multi Phenotype System Discover Therapies Related Dysregulation Immu CiSNlPfuNw', b'something people sell products ridiculous price cruel people VnjmsBKRES', b'Good morning everybody custom design face mask create like today Stay Safe aqBgcDQlYb', b'epidemic give person look might able round LQcZcbX', b'family Turkey careful since March dinner together gNKVCYtQN', b'anti vaxxer anti vaccine Sidenote JOST jGYqoUELDH', b'think next logical step administration response embrace qCVlpFX', b'hear concern protest OyXLMuaf', b'Jersey follow fail lead waste tons money worthless zVkZVpbIB', b'Teenager feel COVID LUFXlV', b'Good Morning kind Tryouts game Ending trip beach vZHJujop', b'Teenager feel aMpnKNoEj', b'quieter streets America Sturgis', b'Server outages expire certificate result significant report delay hvJhBbn', b'STATE PICU UPDATE Critically admit intensive care YIiPyJF', b'PICU DATA UPDATE Admissions critically intensive care Undercount NnYyD', b'COVID pandemic economic slowdown greatly food security Disruption food systems tYpDyfzn', b'oObaBMwh', b'Isolation Gowns Protect Yourself From Virus NggDGKT', b'advise take extra moment time course give kJxCumz', b'This call Order seizure continue GCGaIEvKgb', b'COVID chronic disease short trip Measure success healthy return normal func nUNwsRHaD', b'Triage best remote care technology light coronavirus pandemic YyjvtB', b'mark deaths mishandle unimaginable Other countries bHeOzYEN', b'Brazil grim milestone deaths News XOveNrZPek', b'Sanjay Gupta answer child Covid question civerOhez', b'Atleast people everyday Gujarat Rupani report deaths YPixMoaqS', b'Atleast deaths India everyday Government highly Underrepporting deaths Even John AgakDZiWu', b'call next Just restart Think zjWaZrfU', b'Releasing part online give gallery show cancel tvLgrZHmzj', b'Congratulations people Zealand keep country days What bqtydncBhD', b'neglect neighbor', b'Didn Australia confiscate citizen Melbourne stats Population million deaths txPexQzWrk', b'Fibre enough flSdWiLXi XDnljPGovu', b'Staying Safe Home Kids School During COVID giaprtlcB', b'Read obituary ylZOlFxOvF', b'good time commit deliver pizzas mgCaTsLfy', b'wont thank buddies China instead blame', b'expose cfCAXu', b'Time Consider Different Plan Your Child Education XHKjPycOFQ', b'ONLY actually SOMETHING someone FAMILY lbGrPFsK', b'ONLY actually SOMETHING someone FAMILY DIES That xPsuOgW', b'awesome quirm jHdvOLk', b'Soba Noodles Portobello Mushrooms Kale RCRWDWLQLX', b'students right endanger bright future nation rush precipitately hold UrCcCVKtI', b'What learn Covid Science BnJOjcHky', b'Many Students find give examination thousands students quarantine hKeGaKqIp', b'treatment exist fast track vaccine Fauci want remdesivir fast track PoYbyRZfAJ', b'Holy shit thread sEQMRMvqUM', b'Public school ready safe brief fall short actual Contact Tracing families jCEZhaCns', b'enter station require face mask want Gatorade forget mask hone ioUfuaJFn', b'wreckage forever many days allow Trump create tbCRdNR', b'VJYJgriM', b'PREVENT PROTECT RESPOND pZLwUlnu', b'sadly many remain members Greatest Generation needlessly idiot Boomer chil imgfSft', b'modern world specifically prepare pandemic inconvenient llRAaDJYu', b'Sanjay Gupta answer coronavirus question DhAOELYSsD', b'social security still work benefit mine hAkWiWCn', b'Took much need drive yesterday head towards smoke fill near kLNMznSNp', b'friend tell They IEQctPh', b'', b'Sign share please pandemic Tell shift course protect public agcXUIiu', b'America simply reveal long forsake crisis unfold anot EIilXt', b'whole world watch continue plan stand DacOoAeUAP', b'Deal BSwvODjxZa', b'report case mainland earlier wTMrkWOHiF', b'water vital health safety right people ksBGWvbqT', b'guess Trump fault like right gaxEtTyO', b'China already control pneumonia epidemic COVID United States still increase tens qxoJQStFl', b'Advantages Community Colleges During COVID WEDfuyvHxH talk yzQhszDI', b'VegfestUK host free online event August EuOpdKosK lKzoyVjE', b'Democrats Help spread awareness Support Small Businesses RTing shop hope find CoQkCmRs', b'Democrats Help Support Small Businesses RTing shop hope find something enjoy qCeCmzUi', b'Bill Gates give Vaccine children first anyone else give chil zmLIjruPd', b'Rare Syndrome Strikes Hispanic Black Children State Death Toll Reaches Small Gyms Fight Survival AVBpyBlm', b'youngest grand daughter turn recently never miss birthday year hate', b'Democrats Help Support Small Businesses awareness RTing shop hope find jEEdFyvec', b'Schools open talk HUMAN distance learn ideal SUPERIO LUTddMcI', b'INDIA report case total deaths Covid trend analy VHyZScafFd', b'enter Freshman Junior VERY wealthy suburb agree VOGDSdy', b'Overeat rKTlTYcWxd', b'Nothing wishy washy Steve mTAHooG', b'Asking friend What child suicides school interact SflSpJ', b'Researchers create test determine mask least effective evUpPiEU', b'timeline confirm case sick sick dead YMrHtTMJQa', b'nNiMStfmM', b'thing make nation much much CxmMVFY', b'What miss since pandemic meet friends dinner dress votfLyuEH', b'maybe actually start behave disaster jqHcUWkNVd', b'Dude literally lose ignore almost every data available rest dMgkWWcaNQ', b'Bravo Hannah show outrageous picture depict health violations every There AvAkAGwL', b'Herd immunity dangerous myth warn wait achieve herd immunity coronavirus kill rurWruwmQN', b'Planned Years Advance CqteOeh', b'Forcing open Seniors risk Cutting payroll defunds Medicare OrxafBRIz', b'Trump sign executive order extend federal COVID dxipjrN', b'escape Wuhan save', b'shock Disgraceful School worth child What wrong people PjosGOb', b'Sympathy Publicity Higher emotional support Left first liberal claim victim status', b'That flat Kids teachers guinea Just wait season PHwpPDQorg', b'Roasted Cherry Tomato Pasta Garlic Cashew Cream Sauce ZcXIHvCP', b'children reportedly test positive coronavirus weeks school gear instruction KGEUYYIUmb', b'would Dang ZCCWgVyoQ', b'Similar Phoenix disrupt market consider many lobbyists attemp aaxrA', b'Fucking Believable Hard ignore kind idiocy', b'Guys', b'show insist double force school reopen midst TWrPHioG', b'Also kind relevant personally affect little late start care KJVhUoflp', b'vastly accelerate unfortunate trend predate pandemic jCRZmHfJA', b'president read intelligence report busy golf tweet watch mqQYg', b'many gonna', b'Call even head office mailbox full', b'Authoritarianism deadly Horrifying stats nWcBAaoOY', b'take extra measure protect staff clients continue work safely', b'like miracle qXiImytyao', b'world live PUJpUxjS', b'could football baseball school open Trump take pandemic oPUXUfQcB', b'THERE IMMUNITY catch million DPyxDWEhen', b'Even local retailers work build environment businesses TsYiGdzddv', b'Lame stream drive Antifa poison Hydroxychloroquine', b'Imagine Senator profit pandemic insider train pontificate EIGCcGNfLx', b'Perhaps crematoriums mass burial crew supply reliable data local SEJQDLBN', b'parallel universe work online back school shop wonder shLUgPY', b'devastate Thoughts prayers dead Covid sufferers Front pKLrKdsihm', b'America need plan control', b'call million plus case success American bPlMuklWq', b'worst part move hook dryer hose', b'While school grapple reopen children contract last weeks xujzUdrg', b'almost week everyone stan twitter discuss contract point talk dIaPvQKnH', b'Protect employees facilities THROUGHOUT work Porters ensure health safety ZhCHPUiJoT', b'Anyone else livid children test positive Trump allo ZOZYSjRJ', b'Want latest Read weekly Development Digest provide insights guidance KCxBgsCzR', b'America shortage could last years without strategic plan experts warn Hospital officials prepare autum plyOmpDk', b'household employment industry pandemic crystallize importance legally worke KQXFClcKTQ', b'Weekly Unemployment Your state expect provide fund Remainder come qoVWLiif', b'Heartbreaking least people behind Florida eligible parole hVyysfjH', b'react teammates lungs damage life qsbyVabHZ', b'They dumb darn proud', b'Base Rock Takes VzcioxSdMp wear mask everywhere', b'People make Investment join stop contemplate real trust work UNttztLJN', b'scarier Period', b'London hospital staff antibody high direct patient btGGdqdJQ', b'ZEALAND BEAT COVID yRMBDtxcW', b'Rain shine Wyoming fair must report corps member BhvQUBsbr', b'Baylor College Medicine Dean Tropical Medicine author DtQwnzYln', b'ICYMI research take ongoing pandemic jEdyuCMq', b'Bring Manhattan Braniac Superman think disappoint LePsAOs', b'fear redeem call name Mine This amaze promise BgUOGRRcZv', b'Medical fraternity challenge scarify overcome covid free soon Insha HpFgvrd', b'mistake make initial response send thousands college back home ziYIWdAEz', b'clear phase trial assess favipiravir outbreak prevention IIlpRtUJ', b'Proud grantee Solutions Fund member UIutxPC', b'workforce analytics vendor discuss chaos workplace need visibility ktGExrJS', b'Like save money first order FNWIySMJ Follow bSXPZOWv NALNmmRrW', b'Thank International Association Crime Analysts sponsor Annual Symposium August jqxNhudHz', b'Thank Universities control academics athletic directors dQniTvTu', b'people deserve better Tell fight robust VMTSbAtY', b'Trump waste months fight protect election chance instead fight protect CmhrLyRiL', b'week Update Wyden introduce legislation prevent vaccine manufacturers hike WVJPwTqxi', b'chicks chirp travel industry expert challenge travel Vacation Nowhere Sponsored EhKfAYJY', b'light turn college football close time dkNchYv', b'Between July July children test positive increase case children UIFQeHnI', b'need college football What actually need comprehensive plan stop spread', b'Perhaps could college football clown Oval Office take serious QAISVtdP', b'Coronavirus More children test positive Covid last weeks July report UuAGjKMD', b'Rockwood Tennes RXvAuZRB', b'Delta passengers take flight list refuse wear mask hFqedKclod', b'Even system crisis Find forward think company qOCcTRnVSH', b'Calf flee slaughterhouse freeway find happy IpEtOGtJ', b'FACT close pandemic preparedness office assume office There FdMjWoJiU', b'remember Trump control total number sure remember IVucddlH', b'What Expect After Shashita Inamdar AaBLKUB', b'Meeting planners tough spot deeply impact travel event plan QhQFzcXB', b'Padre tell Catholics spread give approval HKpUeLOT', b'Monday President Donald Trump attack Senator Sasse condemn coronaviru mByiwcJqY', b'Good news Marco personally cost associate students medic IpMrtd', b'every four people infect American country test insanity uXoumNEYf', b'Growing food food calculate would make financial sense grow grass Mark hIHunBil', b'Lessons learn make team even better poise respond mitigat CEzWIuwQeE', b'Useful Strategies Brands Communicating During RGpdrjEOS', b'wonder super spreader event right cause noticeable uptick rHKSXcdpY', b'What make happen Where send NEED honor GREATEST President EVER Maybe LIWJhGgGV', b'CAUSED economic downfall handle ZuMdiwD', b'GAXY HUGE week school begin open already begin transfer share quickly nYLMVFbBm', b'address recommend public school delay open virtual learn SIpaTDTl', b'Women prevent react kNsmcTJl', b'Evictions South Carolina signal dire straits renters nationwide homelessness loom QUGajem', b'WATCH Damning supercut Trump fail COVID predictions pass million infections OMCBlxIyTN', b'That nice NrICLdsm', b'Schools mull outdoor class amid virus ventilation worry yuaMdwyDG', b'address recommend public school delay open virtual learn DqWbMyZw', b'college season brink cancellation dEKvgNZa', b'Teacher Launches GoFundMe Students Wash Their Hands fELQXjLuDp', b'Pandemic wreck Class first mubygQeXb', b'Young adults stop party pandemic wire McTMjzJ', b'Covid Cases Among Children Jumped Percent Late July pXIsDx', b'Bill Gates America Offers Most Worthless COVID Test Results World GdBwfvsrd', b'Trump political stunt already falter TldwanSjN', b'Like BULLY Trump attack senator criticize executive order BTQPadn', b'Trump Aides Admit Executive Orders Will Little Help Economy ILdZYNfrA', b'Trump approval white millionaire golf club crowd vPkQnVLrYo', b'FACT CHECK Trump smoke mirror executive order SChOnVRVh', b'bust Trump scam public fake proposal OuRMVqFVhk', b'Lawmakers demand removal DeJoy nefarious efforts Trump election EooavhWbfJ', b'Angry Trump voters want nightmare November JJUDvsHOV', b'Many come back OFeOtYB', b'residents motorcycle rally city approve cCKXZf', b'Esports Entertainment Betting Bill Seeking Senate Approval xyDJEgOsp', b'Packing stuff likely return person instruction whole year TXkAfIWjZ', b'Beware mask mouth Developing investigation risk mask mouth syndrome include death VMDWSX', b'Rebuilding better America goal focus recovery current crises cpjYVQOvGp', b'entrepreneur follow vision bring ideas life utilize unique skill eMxpcZNy', b'School children back school Coronavirus case know', b'youre afraid govt school selfish demand everyone else gOrTmrzdT', b'CEBFryYnd', b'Relationship Between Kids Spread COVID Remains Unclear YGxyHHdC', b'Imagine Obama mBYSyKjaYJ', b'responsible fail Covid plan consequences fail response SYIZhCLTg', b'take live thousands people around world infect millions around world oGyuAnxjR', b'ZynfJKNSCp Until remove office trump secure uBxjEtUa', b'Maybe things AxxNzJbyi', b'Veteran butcher Brian Kavanagh vegan film change forever WhHoMqwKi WInUtiys', b'neither health care expert sociologist claim America test insanity When QRZjEDoIDd', b'LUFtdJHx Airlines financial losses mount executives warn emplo ywaOMedZd', b'autopilot matter small petty grave issue like Trump reac LKcMprUDo', b'edge higher price underpin expectations stimulus slide ccKvobZQ', b'Today Such Good', b'Entrepreneur Guide Help Your Employees Stay Productive When Working From Home During Outbreak RxLRfbeySH', b'Answer rRsBOMVeY', b'Guam governor test positive Hill vmUBTBbd', b'rapid fire onslaught brutal demons history play spring urgINaKzO', b'What absolutely fuck idiot wear fuck mask Thank date CuvrVGZOHr', b'There approach bring work team come resource supercomputers dONRMmk', b'Coronavirus Strain DDos Rule Coronavirus Strain Artificial Rule coronavirus strain cEWr', b'Russia approve world first even daughter take vaccine NDarnWzP', b'Russia approve world first Says even daughter take vaccine QqktnQej', b'Texas coronavirus test plummet school plan reopen bpIPvebBH', b'theory Wuhan Huanan Seafood Wholesale Market original source animal human transmission RIAklTVk', b'prepare package thats important qvStEHSsZO', b'Sign White House Petition emergency authorization threat SEdPddGrk', b'INDUCED ILLEGAL BLOCKING HIGHWAYS TULSA CAUSING OKLAHOMA CASES JUMP HIGH OTHE ptUVzk', b'BdZaOVxou UfyjCejSk Pierced Jewelry Lingerie Scrub COLLEGE BACK WvsPrPmE', b'beat easy inexpensive step Test everybody repeatedly BXIXazhw', b'Maybe beat fund feminism distract sport people like gate rest woul eEUmbjYZ', b'beat Test everybody repeatedly Quarantine sick Make every vYaODsBDm', b'Wants Play Smash Bros Swich wGKxhPd', b'want Fucking stupid ignorant asses really think need RvqQtxZPbu', b'With COVID infection Massachusetts towns many parent wonder school open full einbjgEgwf', b'True VQuCYuGVsJ', b'Stem Glory vegan restaurant survive COVID VacKzZJUd gqKAjmGuvc', b'month pregnant wife fxmmdIVbn', b'support India students postponement exams They absolutely right fight right dGUaavKbg', b'report situation India test rate Infection higher anywh ZwIicxa', b'corporate employees take stay afloat layoffs happen zmPUIygt', b'News report situation India test million population rate Infecti fWAfKIWtZ', b'still Weren charge task force', b'week believe many sheep state disgrace IuRgeMo', b'sorry loss alone demand justice Trump DeSantis YjWCKJetnZ', b'worry still blame wyoOmkyOy', b'medical covid uQZvZlAmG', b'Refuse family risk Listen Epidemiologists else Surviving KTZTxMWn', b'talk Louisiana break Louisiana communities highest Lake Charles ZHFGzDOGy', b'There increase Covid case children last four weeks report XtySjEl', b'There increase Covid case children last four weeks report DrICudpiY', b'picture accurate assessment dangerous virus tZPepXfOp', b'could earn year travel free score vegan startup owfBdSvwa hZcXvIckW', b'Apparently incoming deba VZjNLhgUU', b'Strategies Retain Your Customers During Outbreak jOxGOBkeA', b'national plan deal clear vgUJSEYasZ', b'Here symptoms Covid children accord pediatricians PTqLSACI', b'There second wave infection around world deaths covid people around LwASAItD', b'slip today demand safe fell follow positive news fcVrclab', b'Here symptoms Covid children accord pediatricians smpyXHI', b'scar Good wOwFGAn', b'Whistleblower virologist Meng interview modify virus base YiroiS', b'deadly mask wearers since March dead sick', b'Borody find treatment COVID Made MVMDF Ivermectin kill tgZDkq', b'Editorial Panel approve addition code report antigen test design gcetuPbb', b'TOMORROW AUGUST present webinar MEfHHyShk', b'Give month every American Sign Petition TyqDSksH', b'blame EPOkiMjfk', b'FDOH Number Florida children diagnose COVID double WSVN News Miami News Weather xyezCPxCf', b'mask prevent death wear since march dead', b'Financial Marketing Grows Importance During COVID Crisis eUIciIFEOb TEkyHZUPRP', b'United States worst affect country pandemic million case mbmEACosZp', b'lXOKJv SINGLE PZFqSoU', b'tire meet security nothing still release miGKsOUAox', b'think BUFFOON build wall LOSES plan leave biggest tbKdaKBph', b'help cope COVID anxiety TCKovGOQN', b'Meet women fight lupus plantbased diet sZHkEuJQ', b'Jamie Foxx Jacket Link Here lfEGnBLc Follow Like Retweet JjmrmCADR', b'airborne nature virus prove explain indoor transmissi NckPcboLB', b'Survey find parent nervous take vaccinations COVID scFZkbnKt', b'Fewer Beds COVID Income Areas RTgqhgrJkZ', b'ICYMI Americans ALLOWED country high infection syUidOZL', b'Failure price ijWJStAg', b'people power learn count consistently serfs continue lock FoExJava', b'Love Gotta humor insanity graduate stage UvLvJOA', b'Calm especially little things scar angry response election opinion lzXwUbY', b'Russian vaccine great distraction Russian bounties American troop incompeten KtUYfqLrcZ', b'America NEEDS national test trace financial stimulus WANTS deflect bitch football', b'Really please explain refuse state support give large corps iZhrTDDH', b'Love Gotta humor insanity graduate QqGwQyBLz', b'Howie Zero deaths back yard party Really think spot contract', b'What Will Happen Orphans Covid QSqjaPR', b'honor heroes result They leave behind families love ones yAnoPGDF', b'There COVID malware wipe rewrite VwqnGnHq', b'This truly heartbreaking monsters responsible Iranian regime answer evil EYVBuBHA', b'Hundreds colleges walk back fall reopen plan online instruction dtInyvZPz cCvMeevaC', b'Coronavirus Upended College Admissions oIRFWLY talk JHFnqe', b'Children concentration camp Intentionally spread Blue States Mismanagement RebWhcu', b'time optimist open awake morning Carl Sandburg aZinA', b'Bullshit People return', b'CREATED Jobs hold catastrophic incompetent respo aKONtfTJ', b'Fastfood giant Burger King launch burger NkxTtbYcH', b'Despite large number test England make COVID case first wave bWbCinRET', b'COME', b'Fewer Beds COVID Income Areas RTgqhgrJkZ', b'Please please somebody CHEAP HOME COVID TESTS This would make difference world Please jjXoXTL', b'Equipment Market Updated Analysis Players Medical Baxter Internationa brmmiQLbEQ', b'goat fruit test positive give human name test makers create spot jqhMNIT', b'Colorful Flexible Phone Tripod ItSdJoyoCQ rjurgr', b'source hope Have nice boxGaKYM', b'play violin positive outcome less hate racism rally', b'screen temp check health question everywhere RlFxBpBqm', b'Sweden herd immunity plan fail catch despite lockdown NqKDPtfbNZ', b'result regional industry North America require adapt odHMqtTF', b'Leftists FEAR power control They take citizens hostage everyone mtGCVwVqx', b'screen temp check health question everywhere DAesqPFr', b'school around world lack basic handwash facilities prior COVID pandemic UNICEF eFtQfPrWX', b'Congressman Gohmert Says Democrats Should Banned From Politics Because Their Racist Roots gfTYFIUN', b'question Claim Trump Destroyed Economy Regardless party FACT SHUTDOWN cause EVERYTHING YiXfulxo', b'take live thousands people around world every love ones friends mourn tcoxmBY', b'article Evolution Digital Banking Post COVID list Insi EAQuqOFOn', b'BITCOIN EXCHANGE SOFTWARE DEVELOPMENT PROFITABLE BUSINESS IDEA TODAY NqDZFKdjj', b'Edison motor theme restaurant fall victim', b'Reinvent organizational safety Kaptiche drive COVID prevention recovery solutions Download TlLeKLii', b'This make giggle Anyway watch reaction case CASES deaths dCLaTlV', b'Some explain think actually people believe entire world sHGSHdea', b'This important find presume skepticism These find hard refute KXdzymex', b'After year Girl Finished Nucleic Acid Test Dolls Suffered mlHoKckPp', b'COVID Tips comfortable wear mask school reopen tTrDTj', b'Offering Free Resources Help Businesses Cope With Plight PLSkeLn', b'Missing time first multiple amenities benefit worry full hiBHLPB', b'Well definitely something think Coronavirus COVID Pandemic Real Danger yTEzZpZE', b'Here help cope stress anxiety remain calm strong faith sosrHbwt', b'John Henry pick better year dismantle team year', b'send first people like retweet DHDvyyEkkB', b'weird think vaccine come woodwork fast might completely safe ujSsvrWlq', b'This chain serve vegan candy head PmHcvxKKNS', b'They hold administrative workers hostage park garage Riots VbwZzpZ', b'Trump waste months fight protect election chance instead fight protect GgAFcCYS', b'Sciences fast open still bcXiTzCs', b'EIGHT HOURS case EIGHT MONTHS DLBllnHpR', b'retract Lancet study serve halt multiple global research project qSxzIrd', b'Market Crashes kGmTvxwx', b'provide high liquidity Fiat crypto trade attract newcomers IzRDfUdl', b'guarantee voters vote different ULgNgQOg', b'Shouldve zinc azithromiacin media dangerous heart mbLwOOlCE', b'Five amaze animals save humans live KLWTJkRn', b'When listen Faces Wrong Thought They Fact OXhkFaG', b'guarantee voters vote different come jrOjvjcsA', b'guarantee voters vote different JvPEWNKbn', b'tell media test reason lJsBQspPe', b'number COVID deaths revise People recover EtAxFzoNJ', b'guarantee voters MTVzLFDZp', b'Have even read headline school acro xqWTvfXLh', b'better testify someone sadly lose love ones Perhaps hJAfkHfFT', b'world soon graph like reach This zoujkAjv', b'Actor Poet Actor episode America Pioneer Podcast LINK HERE LISTEN ympJXgWN', b'INDIA report case total deaths Covid trend anal yeQqYvCT', b'reconcile follow point individuals higher risk complications sdhJmfcmoh', b'today biggest outfi oWxGcgSaUy', b'COVID Affected Marketing Spending ORGBJtwlY zJpoHfsCwI', b'Rising delinquency concern fintechs QSVrbhZyF', b'posters available free download like support alwa UsoazHeyy', b'data show median death Guess median death cause lORPwmwVao', b'Managing Cybersecurity amidst COVID crisis Read story wxVXKgD WSaUoBkofH', b'Again Anyone know United States defiantly something', b'stop repeat conspiracy theories regard birth heritag ErdGBPiNP', b'great corporations like beyond support people need challe QzjwsbXju', b'Trump zero Like miracle disappear Democrat dXKNIlyZ', b'Presharpened pencil math share able restock individual DjfCVKzW', b'Anyway whole stuff start happen shut DkBHGH', b'write list bullshit stomach turn every time speak EVERYthi PutSHCG', b'know hamper actually make movie also know drive Theaters ASrGkGDdsY', b'Remember claim worse scary claim base FglhuEZW', b'Black LGBT People Most Impacted Economically COVID Study Finds dfEVGvb', b'What result something First group NspKVWFEZD', b'Trump actively destroy democracy peace THIS country long remember Repubs enable HoTKOkuy', b'Well mpOtgUbrCz Security', b'make Because brilliant WwyrZRiht', b'slogan would Like bundle white sage magical', b'Twitter whatever PLEASE IGNORANT POST COMMENT THIS PASTORS bullshit fuck qkmNcQZr', b'money next This Sturgis Smashmouth concert xxfuKBPS', b'Study depict three stag neurological deficits cause COVID gOGjjaGrL iLTnahOJAP', b'THIS JYQrDFhOou', b'This great reminder always stock water gvArylLt', b'Some vulnerable populations hurt Trump action live rural areas FedEx doesnt FoRjMOIgRy', b'probably baby speak right', b'What science JkwHgpBz', b'parent night today Hour finally fall asleep catch work Cleaning ITkFhOAL', b'Covid case every hours South Korea months incompetent OjrTPCcP', b'Actually believe dumbing believe incom cFHnWLrbU', b'With world population suffer world COVID case almost world RcyLKjOy', b'Dear Million case JnmgLGhYv', b'United States Covid case every hours South Korea months KhaZWCjUu', b'This schoolteacher vegan jingle stick head weeks kind amaze akiHeLciCT', b'long succumb', b'side campaign mouth call side YlbazYcaTN', b'relate survey conduct June respondents seriousl TWdjCVctvl', b'Excellent read yAjChQbbx', b'Michelle Obama Reveals COVID Also Affects Mental Health LPrtDBKj', b'Longest Lasting COVID Symptoms Need Know About WpCAZGL', b'Russia respiratory doctor quit gross violations medical ethics rush Putin coronav ihRDQZa', b'small business call Salisbury Beach home YJgAWuq', b'Wanna Party Hell Practice Social Distancing fine later yKPGBxX', b'uneducated know happen menopause perimenopause cJtBhjDgC', b'Imported freeze foods cause Zealand coronavirus outbreak rare tzDJOmWUAn', b'director could worst fall ever XMtZMFhLt', b'Wearing mask ONLY ways stop spread SnJRLvBQ', b'From show Media March MdkRbGkl', b'Record coronavirus fatalities startle surge case children teens OpMTUsPB', b'When deal airborne long survive highly contagious potentially fatal virus dismiss prec RzMZzAug', b'months election assume cure election', b'What groceries Disinfect package refrigerate', b'tribute light Memorial cancel concern This turn beVNTeHie', b'Bishop Conference England Wales insist take even THWNLbqiHt', b'know Mythbusters anymore talk make episode RWDrByWh', b'slow good match Biden Except slow race simple enough zEaaFRjqE', b'Biden Seizing Masks Campaign Issue Calls Mandate PbygH', b'Fabric Masks match dress mood ZtMoFcWvnK bWEnWyvrd', b'least mask kind full convos public normally SiPYToNtp', b'Prayers Granny hospital determine need admi HliwhlzW', b'What USPS rout everything place slow mail speed COVID transmis ZkHICMNqyn', b'August Coronavirus Live Infections Deaths Updates coronahelp Total infect oGYXzr', b'think repercussions allow impeach remain offic ZsEstUcOm', b'Pain management fellowship program across country face significant challenge Several xgoDjktVB', b'What favourite dish summer love good salad clean mess hygRDloBQw', b'nCoV Global Cases Confirmed Cases Total Deaths oqeBcFGH increase ftwakMeG', b'accomplice murder Americans hSxqPYxRd', b'BIDEN WANTS NATIONWIDE MANDATORY FACE MASK ORDER LIVE PLUS LIVE TRICKS IGSAeiUox', b'rise second week gain amid grow confidence demand start pick HqMMFCNpoM', b'Improving broadband service countries impede Inability telecom operators continue busi VaeKPYgJ', b'part stay safe Check SafePass ZKuDIoGV yqCXwMT', b'worst response world ZitDSaJ', b'Imagine decide take trip Chattanooga Tennessee arrive city quiet There horrid JFXSUN', b'stump speech attack Biden Harris lieu update promise', b'think dangerous destroy country VXtpvHybz', b'Forced Isolation Only Stop Resurgence Virus yvnhFGdX', b'Leave help family frontline workers', b'defeat need solve shortage next covid OZvMXWIC', b'Lose nasty word President good XZBxBhvWG', b'Trump slam promote wall delusional vote conspiracy theories presser xhdHHOFHp', b'Colorado election chief tear Trump debunk mail ballot ZdwMrKr', b'Many physician friends question send back school CkBlvuiJa', b'senator postmaster general address delay critically need mail DVliRkvV', b'WATCH Trump Response When Reporter Confronts About Lying Done American People oLbDNKraG', b'Late shut first reopen report highest daily death toll MFNNACPcC', b'Testing mess leave dark case spike TnsssH', b'California church defy public health order hold indoor service thousands social distance XgmBgHUDPC', b'championships fall coronavirus pandemic CcbjxWHgX', b'skip practice virus concern DOxPlrzQUh', b'Atlas infectious disease expert board certify diagnostic radiology mean specialize izCVIUm', b'Mexico breach mark total cumulative number case soon follow Peru tomorrow bBKMcTXrK', b'government local state federal branch fall Lack common sense Lack innovation hXmaHJHH', b'Looking positivity collect stories professionals service kindness NbmFqUyES', b'Teenagers World eTjBMkbV', b'Adults wear mask charge assault Parents make wear mask IWaVzcJypn', b'year anything MlDFNbr', b'warn infertility orchitis recover male patients More study need target YTYYUiZK', b'Guidance health care providers regard impact individuals impact ZeeDOpgI', b'agree Mary Donnie Thousands people count wdWUCkWBm', b'Kamala Harris blame Trump severity coronavirus outbreak fail take seriously star zfNRRSDij', b'Study hint prove survivor fight News YTYZeQvk', b'Kind wonder brother release cause death', b'Sorry virtual hashtag NOTHING compare real world failures Donald Trump take nationa FyANBsTtFZ', b'know World Bank Group play role response proud part HmjvnXfNk', b'Kind wonder brother release cause death', b'Before Trump publicans weepy whiny virtual hashtag look Trump qswsaqkw', b'live outside Washington amaze number people still pack XowZZzQLJ', b'know would fire minute spout bullshit Start busin weDhoTsVFF', b'Kind wonder brother release cause death', b'coalition partner call vote delay uJjiGFk', b'feedback people date never mXnoJPbiNt', b'Kind wonder brother release cause death', b'With recovery rate less deaths Over half case nearly half deaths PlRZygbAvu', b'Kind wonder brother release cause death', b'coffee shop usually first choice date scene come grind stop CxhEWxLbMa', b'Kind wonder brother release cause death', b'Kind wonder brother release cause death', b'Father Arrested Over Toxic Cure COVID voFIOPQmQl', b'Bravo Philip Nicholls brilliant music team ngpaMBvk', b'Watching could Vincent Price cXoDXyDLA', b'approve develop partnership NBPA zDwPKNuRK', b'Stay Riots qhpWvYvKB', b'Covid Vaccine ZDoggMD Other Doctors Fight Anti Vaxxers Online nXaPGXao', b'plant human sametime tfZWGuKZ', b'Kidney Swaps Upending Broken Organ Donor System JKNgytoAI', b'Five plantbased Olympians sure make drop kIlDvEZMk', b'link cJxLUsZ', b'volJWq', b'Look really care country future mask local mHfaoyiuf', b'What fuck moron hydroxy QUEEN trJDnXCP', b'much grief past years time step something WmFWRdwE', b'Robert Trump take last breath sociopath today Save condolences bVEPVgAB', b'Mexico report case total deaths Covid trend analy oCsIsNCQr', b'Peru report case total deaths Covid trend analysis fUKDjpO', b'INDIA report case total deaths Covid trend analy ElYRhILcJ', b'Researchers receive grant study treatment options binge disorder veterans XYHzvFust DgLgbE', b'breathe Nitrogen Oxygen Breathe Carbon Dioxide know Carbon Dioxide deadly Then PAcaqrCTKh', b'stand unite across United States cause religious liberty SBokxNA', b'Wrong goddammit iots JXOEIbw', b'Real time payments could mean stimulus check immediately send kjllNGLfcz', b'Hahaha love song especially ttKbGdSB', b'risk', b'massive failure many take blood orgy satisfy Count kgelQIigc', b'Cases Reported idVSBcfb', b'build healthy cities communities post COVID world lWOkPGG', b'Just everything tell', b'scumbags Make Riots MnyRxQFdfL', b'streets Riots VBgrBOx', b'know real account quick glance show spread disinformation jFulLnUy', b'Think USPS volume depress elderly vote NhedajqZKe', b'That', b'think Nancy Pelosi bring House back early address Postal Service iOslBw', b'circle even smaller Good look', b'That pretty disgust guess call Christian uRTSEDQQWi', b'rest though loose brother There enough relevant material criticize rTaNRitV', b'United rouyEijzm', b'Proud come nasopharyngeal swab test definitely cute kibtDJBZa', b'wish since hope', b'brother reveal cause death dUFehbGF', b'Health Care Industry Needs Honest About Medical Errors eneWFMmb', b'London icecream shop Yorica roll vegan pints Waitrose store pOnDnPldI', b'protective measure Team KRpIugdF', b'Well know anything Robert conduct argue Lady zRNkWpT', b'Robert Trump mean Donald kill brother', b'someone still feel extreme fatigue months wise physician WRjdmBRz', b'condolences death brother Everyone wish trump would dYTsLgiUv', b'refuse anything assume come eventually', b'Young climate activists like build global movement wndWFqaKf', b'Extreme fatigue common people This tell enough oxygen jWnOEt', b'never wish even worst enemy dead need exact HpGKGiACNN', b'Turning Anger Into Action uIbulPOf', b'need thing together wPDqvtc', b'reconstruct system must understand gear OTfnGtEH', b'course cover', b'reconstruct system must understand gear MMSBzovcG', b'', b'percentage listen defend article', b'celebrate poor people many anyone know rich people DklUMHtd', b'never want manged group Easy kill anyone Vets want show befo puwCWWUju', b'White House explain HJHgBVBx', b'tell anyone Trumps brother', b'prolong pain everyone small busine BEczihO', b'uncles really Parkinson They start show shak egDBWoiL', b'House return consider crisis stay focus help millions Americans QedoRED', b'worst governor Georgia history national embarrassment lack leadership VHTiAgPOv', b'reveal insufficient sole authority like human systems science descend tQtxsZQMXO', b'That complications would right leave kidney rzDwkqlI', b'COVID death toll America Trump spend Saturday golf ScGDDGCmF', b'COVID Updates thetjNSXo', b'During pandemic beach Follow Please retweet like UKROYtV', b'believe vaccine year Follow Please retweet like lchjphFWQJ', b'Coronavirus Surfaces Long Does COVID Live Surfaces eQyWNLCdY', b'cannot interfere PZQBtqYQ', b'This blog post really interest future read similar everyone worki elYPgoDl', b'even toll state still money collection travelers ther RmnpJxfWDN', b'tempt Then remember virus still community Take stay fRrDEIybl', b'ULebTSecnV', b'Your Immunity Project Treatment vplVHKtQS', b'Romney slam Trump administration coronavirus death toll There spin xQlQBpVJct', b'Trump break director potential worst fall amid pandemic season iAbHsGaU', b'blindside Trump statement could deploy team school fall ZyApCFbuS', b'Hundreds colleges walk back fall reopen plan online instruction dtInyvZPz MZUqQl', b'test drop school reopen prepare football eaiHAzQyI', b'Tracing President Trump fixation Postal Service loser scam election gQLJFHRGr', b'update recent deaths wayne county ZUeHIuDJ', b'August Real time nCoV Global Cases Confirmed Cases QkVecXZNK', b'Postal Crisis Ripples Across Nation Election Looms sXNJTEee', b'imhere VRNAuWYuH SWYgltr ZzVprdc MvtqVfFYd IspcVWG', b'Pelosi protect USPS Trump openly work destroy XBeXNhV', b'Nevada county mail million ballot primary election never deliver nJIOEiODi', b'protesters stage wake call outside home postmaster general JwnqIet', b'WATCH Dress Rehearsal chronicle earlier year deploy digital technology jhsYewJAo', b'WATCH Trump whine blame college occur COVID failures LOWGSPQez', b'Luxe Quarantine Lives Silicon Valley Elite WpqSEFsHV', b'Super rich party COVID poor person virus gDktzUROcI', b'Apocalypse rich famous flee droves cFOSbyJq', b'Nine Oklahoma Sooners test positive COVID return break PFQljBTeUr', b'Felt good home Fancy mask filter This normal bZnPsRxs', b'hold sIAJhBiy', b'They registration school OUsUrmgaS', b'COVID death toll America Trump spend Saturday golf kicker Story vCYYvNQ', b'Opinion nothing even close people America Probably half SgPWNkrCJ', b'Please watch tweet nBEQHHIm', b'Task Force UetVBipN', b'August still know think ready TtIDTAogz', b'well exercise regularly sexy look feel fabulous thin cMcCdeXNJ', b'Trump waste months fight protect election chance instead fight protect wAirLuas', b'Russia China already vaccines need convince religion republicans cdoBoWzA', b'Nurses nurse assistants risk live patients cannot even test reality', b'never call house huge number instead entertain SfXSpdEqi', b'INDIA report case total deaths Covid trend analy uvZxSCfXu', b'Google Warns Emerging Cyber Threat Hotspots DANjZaeGK', b'Astroturfing promote hydroxychloroquine treat COVID continue apace week half study publ RNUtxrIQP', b'week half study publish Trial viral claim countries rACMQH', b'past time everyone question healthy dose curiosity skepticism give NLgVXeCeY', b'PHZIO platform EWLL surge Coronavirus Pandemic TDOC TPTW exjFbxyK', b'believe bday like next month Just days Thanksgiving feel like vNbJVEut', b'know folks tough time right Especially cAuIEEjjqB', b'hQBalV person school seem work well', b'Coronavirus theme scam attack intensify QEIrmQOAv nmRCYSmGD', b'Translation mass test younger population media fool translate positive test LKDBlacS', b'Great Decision must delight', b'Topshop debut line fully vegan shoe GtDuYJXJ', b'process help ensure financial service misuse TDSSfFqT', b'people WEST want continue live freedom fear Marxism Communism need PALsZgchB', b'shut much money loose assistan crySnGK', b'Agenda plan global Communist utopia leftist response exercise preparation LPqHfvwJ', b'Hedge fund cryptocurrencies boost streak XWtDLkf', b'That live freedom want live Communism police state deny basic freedom jSWfReHb', b'joke whsEjoNE', b'Another state Assam confuse ICMR guidelines include deaths people MiuvusIh', b'take care throughout LERQfKCZnX', b'West Coast insomniacs everywhere COVID Capita report live summer highs closer mnXPBKGF', b'think beat', b'morbodity cause death morbodities', b'inform need post BGDDAuroI', b'bright side solve problem downtown traffic congestion kinda like killi AcmBMQkOX', b'course prove fraud mail ballot voter fraud right wing oRaCBlfS', b'Check recent podcast Chief Strategist EnqYbowxq', b'become boCCNlHxE', b'state deaths qzZEkxNZgs', b'Check recent podcast Talk Network Jeff Cann Chief Strategist Encore Electric lqXKDELr', b'This tell everything weaken This FHsrhxQ', b'Since work perfectly might sound bizarre wonder FPzgev', b'worst things pandemic besides obvious season umbrella GsfzSwjk', b'loose mind work home Some people cannot handle transition cubicle home office igIbKKqeq', b'Read page well death oLfJBgx', b'people Kanpur Nagar state bulletin report huge difference fUiHSAG', b'Back school realistic GMVcYoxrsC nKCTEU', b'Interesting every media outlet tell exactly many people TKfAJew', b'Uttar Pradesh Government Undereporting deaths hide expose government', b'Pushing Unproven Plant Extract Treatment DPlzBrRtk', b'uMCFrjYdJ', b'Professor Dies Complications Related COVID Robert Rhodes professor Texas Christian HThnriEtbP', b'Coach players test positive market uNnVUBQzaC', b'send everyone home USPS financial issue since Seems like tDzTbdGU', b'criminals religions onto bandwagon create buzzwords relate RDQZAZNb', b'SORRY Lizzie real pandemic deaths fake psbsxUkO', b'Love trend creative become time Watching sbsriCMsz', b'Whatever amaze anyone watch House Senate need back GQEkZyTIxP', b'Factbox Latest worldwide coronavirus spread hJehaYujl', b'Building online video remote team cBDuYmpZCp', b'want happen town America SppdvnFY', b'BdZaOVxou UfyjCejSk PIERCED JEWELRY CHEATER PLUGS LINGERIE FACEMASKS SAVERS dPPjMdpPkt', b'need study mask usage need alternatives size people Take forehea Wcecgjcv', b'Please pray friend positive others IuoUtRMV', b'first time nearly months number case ImxrtqDcm', b'load passengers journey positive patient infection wear fHFzgSyZec', b'That huge loss historical reportedly historical wLLzDVG', b'This guidelines NrxMOxYqz', b'report likely happen weeks recently host pharma ZiDbdgJV', b'honestly trust care beat wIxbplNtI', b'launch vegan Everything Bagel Seasoning GYkGYPt', b'', b'school district start They restart normal class resurgence', b'shit bingo card This budget make bing MFBYsDOuqC', b'Popping fHFdXSxz', b'This start world turn This pandemic start SkiBQbINz', b'READ YOUR BIBLE Timothy PRAY daNLtLTIE', b'Malaysia Finds More Infectious Virus Strain Seen Europe cTfvCLsmjj', b'affiliate marketer LQPAqCSZR', b'Trump unproven CURE promote Carson MyPillow recover crack addict aDDiYlBdYR', b'India near deaths COVID PWOseHpc coronaupdate eXQjorMHS', b'Well either vote Trump vote Trump EmdPunG', b'BREAKING NEWS MyPillowGuy recover crack addict find cure Carso XNXfzIpQK', b'When think deniers experience cancel culture mean deplatformi dpNsOtLEtJ', b'expose lack Here team touch topics ASOuoXErI', b'hear people talk stick nose test bzlVxmvZE', b'love walmart take real slow notice Like Pickup right', b'Kiss', b'know trump supporters keep Trump approve cure Covid first spike BxGoYcPo', b'Recovering crack addict Mike Lindale pillow promote cardiac glycoside Oleander LTTGwTS', b'dead today project December desperately focus else hQdcXGmK', b'deaths Sixty nine five months pandemic There even word anymore FQuScBa', b'guarantee Twitter warriors reposted upper management talk store gqCFnjN', b'Senate must protect work mother pandemic national family HFuVCwSNTn', b'They Party scar World Fake reaction Anyone brain eNnViDVZ', b'Nassau County Supreme Court recently announce plan return person operations Trial Part uoXbuae', b'home work Each member still nice paycheck Everybody else xBhuPSVk', b'Tight trade windows today last hours market mega tech move market forward chur McamMNmLvy', b'WILL BEYOND COVID Millions Americans lose health insurance Pharmaceutical manuf IUElAMYV', b'need someone American people ahead selfish interest Millio HgJUTzwRF', b'know Miles tweet know EzxTxkxE', b'stable access critical time talk VBfnRtHEnt', b'future care delivery MfNskCFfz', b'During Covid pandemic small talk build connection empathy HejmJfoEJz eTQnhDet', b'Today look Apple Google efforts help slow spread COVID critics XMTNRKbsnW', b'moderate severe higher risk severe illness SeWxbxag', b'August million people infect COVID AxtLiHdX', b'Thanks share research consumers support local businesses XdrpPjJQz', b'Choose perfect host business consider important parameters Make right decision MfVFajx', b'marry homeowner vote people sick gUTISsqpT', b'notice number come like right XHWljMAb', b'What long term effect President share cWOLJoC', b'This mean NOTHING reverse change already make hYEuUoBKc', b'These estimate deaths potus inaction responsibl ONtjRRg', b'Excited weekly call discuss agriculture labor last week devastate MiCpmyoCU', b'Reviewing create estate plan document medical directives live COVID BwOHMUN', b'shock horrify truth numb hack email Hillary fWHWpOoji', b'This Americans dead Small skin thin pKkdhxr', b'Creative Medical CELZ biotechnology company also focus Stem Cell Therapy rUjAdMP', b'analysis countries find female countries lock faster pandemic suffere XnGHkaYbI', b'PreK class distance learn half person learn WRLifQCmUW', b'Trump call hoax etjzKwRZCj', b'Worker empowerment public health issue also racial justice issue thousands Black essen NLHysWoCiA', b'Your handle total disaster talk RqwsCgPZ', b'Death sleep tonight tomorrow', b'SUCKS WWIiqvU', b'love live liberty Christ really nice credit card need John DXYGhyoAek', b'Good Tuesday Morning Metro Arrives Underground Station Light Filters Through Farragut Square PWttiIjJOJ', b'world population world deaths fIYUCFd', b'Stopped today airport Employees wear mask properly customers wear mask GCZsvzM', b'average incubation period longer week accord data haKqcbvV', b'attempt take away vote mail people fRpLAGcAvg', b'pillow something Anderson handle like commend would minutes HqessdOfC', b'honestly know turn follow damn stop influencers kmwKBaIe', b'BdZaOVxou SAVERS FACEMASK DESIGNS Works cochlear implant hear Adaptive rIgnWWtz', b'YOUR REPUTATION ABOUT SHOT Recovering crack addict Mike Lindell scream SpPkELxqH', b'After week class Chapel hill report case plan shift pihHiWrmnP', b'Michigan athletics million operate budget feel confident safely fall SqsQTDdG', b'many already look post COVID world enforce move remote pebGgO', b'COVID vaccine succeed look behavioral research fnUUOjYXEP lBkCaladHb', b'chicken hawk swoop wine dine restaura HZfmXabBtF', b'Health officials shoot important ever FTcOyaRqP EuvLTvP', b'week today Join next webinar Preventing Transforming Opportunity OqhFxMeb', b'When Vaccinating Extending Risk Doctors Worry About Coronavirus Measles Texas Studen bwKiYPK', b'Remember back whole country shut Hong Kong AHFgDEYacB', b'additional stress Cuomo warn difficult season coronavirus spread mqkifmK', b'state counties report outbreaks school', b'Here management solution help hospitals medical staff coordinate intensive care resources BPLuwmqb', b'Part idiots Twitter sorry unwilling find truth HHQvhMl', b'impact Angeles real This report critical nQyoOW', b'Join TODAY discussion respond ever grow need sHuKzchx', b'Tests permit basic task disease control Identify sick separate well KwkVr', b'Watch Josh Denny discuss expansion mass data pandemic coul QQsJTkfL', b'money school district help educate child would dollars Join NPjKsk', b'agree safer college football athletes play test please lzEbTJR', b'somebody ability something late stop travesty Please uWOYUTG', b'When leave fight back always word denier deny exist IpwOoDfHj', b'fellow journalists talk anything except disaster Where heck bpwesNBVh', b'start invest Bitcoin forex trade KkdfUmon', b'SCARED Trump Floats Invalidating Election Over Mail Voting They Have Again After Lose AbrSeaiujH', b'Republican Senate Intel Report Outlines Russian Connections Trump Campaign WZbvLcyLRx', b'Your loser fail America Killed Americans Trashed economy show TKRDqUcR', b'Trump campaign contact grave threat RJYZOUSNn', b'prototype take people temperatures help detect infections RaMrqihoD', b'COVID case grow college campuses bivtjmwput', b'Colleges COVID cluster video show students social distance VLDsSsGxhM', b'Coronavirus spread school federal government keep count THFbNhLTa', b'Notre Dame Outbreak Testing Failure School Wide HVuWpSHI', b'idea many case deal YGyhVjQJW', b'positive coronavirus case count jump cNRBniD', b'Chapel Hill reverse plan person class outbreak dFmhkOqjgF', b'Bars Fueling COVID Outbreaks LmKhK', b'Coronavirus pandemic drive younger adults agoiNKvMX', b'Trump disparage women right event cdtmXcimKf', b'ICYMI Statin lower risk severe illness COVID ovfEYXwY', b'issue definition high epic Trump take xgLEtcrtU', b'Condemns Trump Think Things Cannot Possibly Worse Trust They oELkoBMg', b'Chris Wallace Praises Speech Really Flayed Sliced Diced Donald Trump mtyyh', b'Trump Responds Powerful Speech With Petty Tweet IfSHhjAn', b'boom crash among', b'Republicans Cross Party Lines Back Biden qHeOjzdcL', b'Trump call Zealand terrible Covid surge record case qyoOXmMl', b'COVKID Director Education Janelle Menard discuss children teens UuBThTFc', b'Patently wrong slam Trump virus claim case million case mSKGZYtH', b'Woman lose father Covid preexist condition trust Donald Trump JXxWDWrxq', b'Trump coach seize power kuDQhYvXyY', b'Trump retweets Russian propaganda Biden UpnCOG', b'States uncommitted Trump unemployment boost oCPCrxik', b'URGENT Congress must Help MOST VULNERABLE bailouts VUwlYoAh', b'Wake COVID Value Inbound Marketing Becomes Blatantly Clear WWVlzlDX AvsvlcpC', b'surprise office Everything America qTEJXWaUc', b'biggest ministry takeaway need communicate better What uVYihoY', b'dead equivalent amount death every days sjfNzMgrD', b'Here vote count GmTXVBulg', b'Most States Lack Expert Approved Coronavirus Testing Levels dryfIMXiC', b'University Phoenix hold accreditation traditional institutions uJiNHzWqn', b'reminder everyone Stay Safe Check store color available well VDqXtskYLG', b'spend much time defend whine probably could nbrCVwKsf', b'Trump Virus deaths Trumps Americans simultaneously loot Trillions RoaYgJYt', b'Learn Florida systems implement program meet social emotional need students KFBhUzNm', b'GIVEAWAY learn publish book insightful waApvmYA', b'pandemic make already deplorable condition neglect abuse Farmville even worse PUliZDR', b'THREAD private prison company Immigration Centers America subject people detain ibkTEO', b'company prepare potential future wave vymSjxphGm', b'Wouldn GREAT folks antibodies recover volunteer WRUEGv', b'Bullshit Numbers tell good story waRyTTH', b'keep sense humor JDrPOcBny', b'incredibly important something cannot overlook whether work return MqFVbUw', b'election hold today would vote DfDsbawkcG', b'keep scroll encourage somebody even rsYrnAB', b'Trumps push reopen school cause third wave Covid like push open businesses cause njTVtKtTs', b'Looking info Mexico microsite include information QiETsDUOX', b'Clearly mfqDjQYkQ', b'distribute Response xbDwFnsCCc', b'First time restaurant since start Mmmmexican food EpMnoejNc', b'Madness Masks Social Distancing many message Watch entire podc kQAeNTMD', b'study find frontline workers color disproportionately infect work higher UjOnazC', b'Westmed Pediatrician Daniel Cohen talk keep safe school Knowing habit MFelzaRj', b'people Govt Judiciary dinner evidently scar deadly virus GReGlecix', b'really love blender colour perfect super quiet easy wash perfect rAfxvDugKp', b'breakfast every morning BMcPiQVf dcnsuNJ', b'People keep recovery rate false yesterday', b'anyone cite paper corporate email begin pandemic QJaIKXopyC', b'freak thank vaccine MiFjRAP', b'update school guidelines Covid pandemic AqrSK', b'suppose journalists country spyDaiepj', b'guess Trump brother either make JgDmCarTx', b'Adjustable Ergonomic Portable Aluminum Laptop Desk YmUhNHLTq qYIRcPqv', b'Strategies Retain Your Customers During Outbreak jOxGOBkeA', b'Most COVID case Morton District high school hPGuZzQBiS', b'allow spread unchecked ctTChFbq', b'Dick live first name Jane embarrass consider call divorce attorn QiSkydlst', b'Texas release COVID data children school childcare facilities PycmkxGLp', b'think person Stage lung cancer would take seriously HKFnRSJe', b'Will hurry disperse crowd like Riots EFTLjnf', b'Millions face health care control zRaJrcPzq', b'World Bank Country Director Kanthan Shankar discuss impact econom IcdewzBvx', b'Fort McMurray residents join province wide protest Alberta plan QUZAAGea', b'first people like retweet bless zelle cashapp NeIRCAMff', b'Mobash Skatepark Helps Kids Build Bonds During COVID Pandemic Spokesman Review KIDgLfV', b'COVID women girls danger abusers aqdpnSoTc', b'could somebody Potus even mention poor victims night YKXIXzpo', b'Spanish make mistake GGHBZfsE', b'know close recover weeks love ones touch XxCqOXTP', b'prescription save card Just retweet share family friends download showi XqOJWHNr', b'NobkMJUkS', b'Part Ascension Cristi catch repeal Kansas laws kidnap adults inject unknown substa MZvNgHAR', b'Beshear report COVID case eight deaths wear mask brSoWolyxH', b'Full Time Full Time College Clinical Depression Life', b'Maybe next suggest must bury HeXeWoIZg', b'Covid shut give people time pedophilia traffic Guess Qanon uSfQQTIT', b'INDIA report case total deaths Covid trend analy jPSvqVlpW', b'know truth Just like drug pervade country find QjXXprhf', b'Sweden record highest death tally years first half They discover unlike Leprechauns JNRYYsDJL', b'continue Trump misinformation must hold accountable JMUWJZ', b'company continue model look improve network demand kjxLzmgVj', b'Cool Cool CNWBwcUIlG', b'year refuse suffer sadness frustration exhaustion pacpJX', b'broadcast Riots giegtIto', b'HNNnbVKsD', b'story August There case FxaBGAe', b'Tonight show make hope lawsuit name mLwHgNkVY', b'Meanwhile Over America Citizens Dead Dying still EeWu', b'wait look like couple weeks Jeez oeuANGVT', b'Proof apparently serve actually false prophets DzAtTuLHG uGAEZUwdo', b'Cheers everyone safe weekend Enjoy summer last OEUBExRhN', b'free publicity write name YIrwmlGUv', b'still quarantine', b'Agreed However nephew send home school today allergies PeLDuGSvR', b'MAINSTREAM MEDIA GOES HERD vpYZvUsPz', b'seem inspire many wonderful things HzAysxK', b'Desperate republicans maybe Reps wait lawsuit money come vARSST', b'Between failures make perfect storm UDRfDTIwF', b'fuck kill Laden lmmfao damn disgrace unit know pariah haha TDQoKkcZqt', b'stay home another week without symptoms return work back xpbdUHMLX', b'Talking year worker explain worst part sinus infection qvDcHNRZX', b'work keep Trump office refuse acknowledge CLEARLY immoral ojJPFkaKq', b'Fucking Hitler DuTznQX', b'Every person like tweet wish would disappear forever', b'feel lately math middle school teacher head back pVSbmDNLK', b'miss wander thru look clearance area never anything swing change clothe NjOvWrX', b'less years ruin America Trump kill Americans ruin livelihood vote gbVZTRVRrh', b'person spend hours rally South Dakota last week test positive eVQoGL', b'years This first time able walk store lids KymZkISRRD', b'Dude nephew send home school today allergies sniffly nose MIfoIbntEo', b'work work work Release Birds RftkKNI', b'This Test Positive COVID Even Have EUBNuKJw', b'That Postal Service thing liberal hoax turn Just like Back February okWltbU', b'afraid America DEADLY would laug pItSqVUiK', b'Where condolences lose', b'People think ONLY people book patio best definition selfish JTlcRkGx', b'Perhaps Biden vision could eradicate free mask within first WaDHutgZxZ', b'Been send card year dementia efATKlMvQ', b'Walmart methods whatever want Walmart interest METHODS CASHAPP PLUG tNSGrz', b'Thanks watch Monday streamer NKuVuqO', b'This JULY August want send school tfLFjnnbU', b'Allegedly cause slowdown regular mail increase package They supp WtzJpKTS', b'Stem cells baby placenta save life victim CELZ engage stem cell research BzljnrJYL', b'Listen recent episode podcast South Breakdown eAKYCleqOV ftLuDHfBQ', b'August Coronavirus Live Infections Deaths Updates coronahelp Total infect VLbPxBlHS', b'Over deaths predict December hISnTxjJA', b'people believe temperature scan everywhere year ignorant opport CbKNKNfzK', b'August Real time nCoV Global Cases Confirmed Cases XUEZNsOnN', b'This live name eytHRyE', b'This great YOUR former chief staff infect million people YOUR administrati giSXBrBFg', b'Mask hijack issue Take bEfxCzRw', b'Hasn enough vaccine pandemic HhciLExdt', b'remember find positive test result false positives Well equipment cause', b'FACT want know manage Virus lose people vcAlEacG', b'EVERYONE thread pandemic OVER People still sick people still lose live', b'start wear wing everywhere people JDVNqqU', b'movie theater work close March FINALLY today FeCGxISz', b'funny people never much anything kill million people worl pPnnYTaGE', b'many already look post COVID world enforce move remote pUarctiKmf', b'still kill Americans', b'Research think question large usage many deaths test show case increase JXXLNryn', b'Welcome Following wear everywhere Thanks LfFJEMDK', b'Join September October Virtual Chapter Policy Forums Discussion topics range Hear cmusvOip', b'Letter Intent fail child special need Click know uGonlHlJ', b'Million watch Biden Speech gEnXhZNy', b'Trump catch tape brag Black turnout help great ybsdVYmDJ', b'Sturgis motorcycle rally least Covid case Nebraska South Dakota event idEVpziHH', b'Biden would shut country prevent spread COVID scientists recommend esByUsIoEF', b'High school colleges scramble contain coronavirus outbreaks AlfEeoI', b'Quarantines closure Confusion reign school reopen fbzBBrCXS', b'Flat Senators think Postmaster General Louis DeJoy commit perjury CeVrfETBW', b'think pandemic years predict Follow PoGJcmFj', b'Dobbs serve shadow chief staff Trump administration official wMouweJuj', b'Vermont governor vote Trump kHgaeBT', b'Economist Says Wall Street Euphoria Ignores Main Street Hardships hnnbjmgs', b'Knever life fathom would walk', b'visualization site pMrnWwbk IxqUqSJa', b'mail vote fraud could NEVER happen protect xbEYODDp', b'HUGE thank families providers speak experience share fieIxytuQQ', b'riot spread They must politically correct GHEbCDuIC', b'Nope YMbeMpb', b'Hope relax long work week would cgIwSwLV', b'weeks scare media ridicule shame bikers attend pYCpMTUjg', b'Daily surveillance Weekly cluster result prospective Poisson space time scan statistic URjYprBNz', b'release prisoners train wildfires fight rRSqhFJjN', b'actually expect like think Thought kick SXaYavbD', b'Where article riot destruction general mayhem CEgmLKubeo', b'release bond requirements course Gives kinds feel LZcMAISP', b'BdZaOVxou FORTNITE MARVLEL DISNEY MORE SAVERS Facemasks Works cochlear implant hear dshChPvU', b'BdZaOVxou COLLEGE PROFESSIONAL SPORTS MORE SAVERS Facemasks Works cochlear implant hear ynHUadkHl', b'Those noobs Trumps totally Kill Death ratio', b'trust trust experts DFBKxdkJZ', b'When shed serve special cocktail cause know mEDLIUk', b'Seriously cone shame What awBFYMfsV', b'THEY KNEW THEN THEY KNOW qzlfuECt', b'Argentina take spot push countries affect', b'THEY KNEW THEN THEY KNOW VqeyllNk', b'THEY KNEW THEN THEY KNOW gRRreMTG', b'THEY KNEW THEN THEY KNOW yrjICQYtG', b'THEY KNEW THEN THEY KNOW BYMHDOjw', b'THEY KNEW THEN THEY KNOW zIUlsoyX', b'work post office close weekend many TuTALsllzC', b'come ZXNHmSmCp', b'BdZaOVxou UfyjCejSk Pierced Jewelry Women Lingerie Scrub Wedding uMgQpPeq', b'think kill people point allow obvious answer DVKvRNyXpb', b'test positive Virus dance streets America nFWZIli', b'Welcome Following wear everywhere Thanks advance retweets page', b'This great Riots jABBsP', b'Renowned Scientist COVID Engineered China Effective Vaccine zvsELDkq', b'Dekalb county commissioner send image August newsletter find compel quite appro UieWBWIxQ', b'Massachusetts case nearly double today yesterday come back never forget', b'Massachusetts highest unemployment rate country Economy FePYFId', b'want movies right pandemic Follow Please pvPpFUnUy', b'county Continuity education imagine trauma elementary students VTAzcRCO', b'Welcome Following wear everywhere Thanks advance FCHZscjD', b'Fake driver license flood China countries Nearly counterfeit licen HLzbIBZXG', b'shit really like rZMhTzCz', b'developments last week August glance bWXmZsm', b'Death toll likely double December QzkRRtJt', b'Looking family full gear attack school year strong success plan remain positiv TDZzQeCILD', b'THEY KNEW THEN THEY KNOW qlqXUfYgpL', b'THEY KNEW THEN THEY KNOW OAKjtDWJ', b'THEY KNEW THEN THEY KNOW ZigIJhMH', b'THEY KNEW THEN THEY KNOW SZLmZkAJr', b'Sheamus BigE really wish real thing', b'Medical Clinic Nashville Operates PRIDE BVzhAcpEdX KzDcruRkG', b'reinfection report Nevada patient researchers News ebXyNEPHQ', b'Late Breaking cohort data registry show risk mortality prevalent trlEBAqG', b'vaccine show promise result older adults Forbes vqHpos', b'state since deaths attribute COVID cite COVID xFCzvLpmWQ', b'Covid permanently company scale back employees massively afiKGxgW', b'school amwPXTc', b'Trump Administration force tweak number relate Covid deaths good talk point VknROWIb', b'This week update death deaths record actually COVID tpocjgRsp', b'What ploy keep people public disrupt destroy', b'Tencent Chinese scientists deep learn predict fatal COVID case', b'Ardern completely ruin politically sadly reveal Zealand also learn njachBlQ', b'think invincible strong enough beat maybe elderly QiFYikohS', b'Going Back School During COVID Guidance Kids With High Risk Conditions vJlCmvmrt', b'Here help cope stress anxiety remain calm strong faith GygImsUug', b'quietly update stats recently tweet DFecOjoR IDGiwUJyy', b'Sainsbury bring home vegan bacon BYDnjWeMW', b'Herd Immunity Best Hope msJKhLx arXybtIjDr', b'wLZlCGI', b'Dear Media Please express honest concern afraid Trump quietly attack exist Conditions XDLrNujF', b'book give solutions lead today vJBNrtpPh', b'start County case report SCHOOLS Good thing GrLJgoQNAD', b'favour Communist Party China bravely fight Only Satan EUjvWCmCSS', b'place bother wear mask KAetTcIwi', b'More people Convention World Trade Center Oklahoma City bomb OllhZTZ', b'Reopening Schools Town Hall Children COVID YNUuig', b'thread screenshots another major play XSPA Reading article need JiuqgsHcn', b'Colleges know come money rule safety students families', b'mind boggle Presidential candidate touch American people JKoMfmqRv', b'people actually Sounds like pretty substantial attempt vcDFCvvH', b'This absolute atrocity PATRIOT CRIMINAL Government give sLYNQK', b'thats right play cover stuff Pedos nzAbLxSL', b'Shocking EDfkJHT', b'many Americans Trump republicans kill weekend With shoot people yCyBjg', b'INDIA report case total deaths Covid trend analy GNhIdKw', b'endorsement lair endorsement child torturer endorsement imbe ZbcSVJIS', b'sick school COVID protocols complicate News Pekin Daily Times PkNnrVRv', b'Text People disabilities older adults disaster impact areas need disaster assistance AeaGGsAtl', b'Please wear mask Sanitize surface Wash hand want risk', b'deaths deaths GQeaGpuh', b'Very important info know stats wrong correct info ASAP UydCTiFy', b'Cure hBqxvnMk', b'wonder delete tweet Saying proud introduce trials community gHhnmdmY', b'would appear guess broth KShUiBim', b'update chfRLVO', b'Maybe start wear mask find burn testicles sperm kRLHjyLf', b'know comorbidities problem LtVCodsUO', b'sarcastic That person claim ciMSxnhgp', b'COVID Asymptomatic children still spread coronavirus study show losfPCCMP', b'streets spread faster need beat supporters', b'Animal Planet screen series farmanimal sanctuary jKlKbP', b'UPDATE SHOCK REPORT This Week Quietly Updated COVID Numbers Only Americans Died From qKKazQXsaj', b'still alive sDHEWjmh', b'compare cold', b'ENOUGH ENOUGH bPgZGYq', b'TDhDMJm', b'ENOUGH ENOUGH bPgZGYq', b'ENOUGH ENOUGH bPgZGYq', b'ENOUGH ENOUGH bPgZGYq', b'ENOUGH ENOUGH bPgZGYq', b'ENOUGH ENOUGH bPgZGYq', b'ENOUGH ENOUGH lgUCsUhXQo', b'ENOUGH ENOUGH bPgZGYq', b'comparable cold', b'seasonal share many symptoms differences examp uZMYddPwO', b'Someone compare cold', b'little effect young children WbOROVXxr', b'This Leader pKPgNG', b'Benefits mean DhlCEaNY', b'Hope catch thugs take away benefit away They qJRCgQq', b'Need Prevent Nationalism talk This XIkJuq', b'Kids show COVID symptoms still spread virus weeks VQSVeNIgN', b'Deaths Saturday August JUpDgAyNMP', b'stay indoors wear mask outside whole mood wear mask people jIDFvtYjN', b'When present project model child seuDrbXu', b'Deaths Friday August bFCLERcQJA', b'Common Here talk pandemic college applications McxhyRhYZ wOGlANULNq', b'Deaths Thursday August SVafCclo', b'slow reaction President Thanks call Biden President slow UnMnEAhPi', b'Education Operations Center respond teachers families impact WTgSpcAsM', b'Something Unacceptable Protect Democracy Trump Americans believe wrong track JaExvoNr', b'update death count covid quietly True number Share Here yHmlfzQ', b'think decade crappy start mean rest decade TeRQfOmm', b'Deaths August qqlITWuQI', b'Deaths XkvNWcxMr', b'World Ending DIYyNPnK', b'This Week Quietly Updated Numbers Only Died From COVID Alone Rest Othe qUMdyYS', b'August Coronavirus Live Infections Deaths Updates coronahelp Total infect DssvKTwr', b'hospital robot designate therapist coronavirus patients nDRFgeTjPH', b'August Real time nCoV Global Cases Confirmed Cases GIIWbeGjs', b'staff DUYDAgv cwuoOjc', b'Globally children miss remote learn COVID shutter school bHHOUwRdUg', b'Were together dont give loose', b'People already know real number fudge BlkLmPgY', b'forget walk China Town vDLcpayFId', b'Kids compete cook challenge Nebraska State Fair UXFEaxavm', b'REGISTER TODAY Thought Leadership Landscape Streaming Radio During Post zJfpGXswqL', b'SHOCKER news KLmRJkUpvo', b'Only deaths list list virus sole cause death BXOnfCtQL', b'Less deaths REAL NUMBERS Less seasonal hujSdTUql', b'YOUR DECISIONS REDUCED AMERICA STANDING WORLD Sane world IWMxrAoDEN', b'Anti Lockdown Rally London yvCsTVeu', b'know golf cheat people KmZkVBNL', b'wait players dupe', b'This show brainwash control people leave media ignorant people real nvprmLOa', b'psychology behind college students break Covid rule pLEBRbIjZ LBdynQYxL', b'count black murder higher lower mjaGEW', b'possible snowflakes', b'WANTS CHANGE SUBJECT WHILE AMERICANS STILL DYING DEATHS vyJPKVfP', b'back life normal Stop hysteria FvsMCRrMMI', b'high blood pressure catch ZilRDfIt', b'lethal seasonal mortality rate', b'Conn school learn care center open pandemic Covid fIwMTBe', b'Spanish away might apply COVID Patricia Farrell BeingWell Medium TNIpuQJL', b'brother Hospital Food poison chicken stay days They give dGdZwMoY', b'might close complete covid scho WxEznnvW', b'Good thread understand Trumps lack action Covid lwWugpky', b'Here something know KHNRhrIUde video wsRsGhcr', b'Vegan pizza score award championship event Italy OWndoIPml', b'UCKED elderly minorities mail WORK IYpvBDXF', b'people state test positive accord QSaUEvnb', b'PEOPLE demand something today TAOjrpvehU', b'lead world case Gosh sure make American proud XkZeVb', b'VIDEO This week stories include give schedule technology test nurse home OisIwlHp', b'This happen', b'SHINY OBJECT DEATHS WHAT SHOULD WORRIED ABOUT amCGZeU', b'gotta OgkkfnP', b'plus nLoIfIgO', b'DeSBIosKR', b'', b'college college hang supposedly rona thousands people riot rqSEBsVYRC', b'latest Health News Direct NYgCLhOcl Thanks', b'Check amaze partner deodorant refill gzfqBmSZrT QipGVJafyw', b'come email renewal Nothing current subscription ephMAFkua', b'What astonish people mask approach outside proceed talk tbVEdlWPF', b'would wear mask stop party might able somewhat control', b'Good keep PnzCGxngh', b'More good news patients GILD iTuddtMj', b'Common Here talk pandemic college applications McxhyRhYZ SHWUZZkA', b'Ewww look Trump republicans look like like Rudy sweat wtTbfM', b'spread close broadband critical ever oQujdaSaFc', b'party nothing Doing nothing Spread Mass shoot control Inequality biIcToYK', b'Churches open follow guidelines depend countie QoMZsCoU', b'This create tragic opportunity specialist diagnose prescribe without true consideration ONUHehMD', b'MAGAts take seriously grab ball', b'less deaths would hate imagine many actual deaths gofBrEULCy', b'', b'Trump DeSantis Republican machine sacrifice children preserve promote agenda ZBYETObFR', b'jGttkUiIr', b'Both ygYHmmeFCi', b'either uniform qwhore Nobody diagnosis code LXGmOfKCQ', b'Keep Mind That With Some Amplify That', b'know deaths directly cause wonder White House actually zTyemCJYQ', b'murderous kill CULT Closing Deaths', b'Just reminder literal murderer', b'Please watch begin minutes rKdNxLO', b'choose learn history statistics countries successfully reduce spread lqIqWZhUb', b'Among many student relate concern sign faculty letter voice particular concern Dartm aStmNIOg', b'listen doctor experts dedicate live work arrogant ZrSoXxfs', b'show empathy live lose watch care HLCBlVWAl', b'Virtual medical visit invaluable many pandemic older adults still need qZklGyBX', b'With social distance form elevator pitch YFtxgQvcMW', b'Remember first second fail respect Ameri ahLTaCbZa', b'really attention people vote lose wWECMMp', b'BREAKING quietly admit deaths COVID ONLY cause mention Jtaidjpi', b'attendance daily weekly test students faculty vOUaHoiPYL', b'update website ONLY deaths coronavirus wXGYExZWQ', b'much asshole HRuvWZhFwI', b'Some good news GgVrpshYJ', b'Collections AWESOME Designs PURCHASE Link FOLLOW Exclusive Offers YMesaisxhj', b'France physicians recommend reinforce back school protocol avoid possible loWGRSlLog', b'remember someone claim hoax medical staff scary cNhHLTEol', b'Anti globalisation emphasize resilience self sufficiency economic interdependence ZhHctAK', b'life last week could different Thanks future push back AGAIN', b'kill brother Pass PxWnBfcZ', b'This doctor kiss lupus goodbye plantbased diet FRtkmYPrQC', b'plan bring build another spike hunker live zluDGgcXW', b'COVID Updates eSVTjDyuU', b'Christian death human AFTER bear fine people cYQPEqy', b'COVID effective infection control prevention include wear cloth face cover wash hand fEJubvjuc', b'Hospital operate margins July cgjyHDx', b'plus dead Americans concern What fuck matter HGviOu', b'With respect sister Trump kill Americans ynvpfrsuil', b'Check latest admission Deaths hugely overstate', b'time people back IgQdlLbN', b'Americans dead watch Million Americans infect watch PWdivL', b'Outside allege pandemic point make sense Inside pandemic point InUzpMNrm', b'Life complicate Play well game dvIAaVZtfr XurhyjDFzH', b'afraid coronavirus Follow Please retweet like qNatuufK', b'People want wear mask vaccinate island ZzSwrkY', b'There opportunity every never know come qmskIIIz', b'FACT plenty available resources fund support response efforts Hurricane oaHEWoFYX', b'late Wednesday health officials people several locations test positive COVID oyUIocUrU', b'Kids Almost Immune COVID yvRDVAOX', b'question wonder work year', b'resign', b'Experts undivided attention public want health advice What Wash hand bBEkXBvJYN', b'President three German doctor presser English title QItBdLt', b'defeat pTPjDJYa', b'Trump waste months fight protect election chance inst VPQYEpTsE', b'Physicians steady diet cheap burger soda Thank goodness Chief Cardiothoracic Surgeon qEKDcXXDuw', b'pandemic affect many areas live Interrupted food supply grocery store MIWtdeoFm', b'Together make challenge time VmeGBLPnF', b'When believe pXUCxPM', b'want join next campaign ensur vSdNtVrD', b'South Korea close Seoul school amid rise case Many infection cluster link CYOeVCsAw', b'Issues Emergency Authorization Convalescent Plasma Potential Promising COVID Treatment Another CuQmzrzgi', b'Excellent must watch mAMqmrwD President Thank NYhlgG', b'Over people care communities pandemic Donald Trump conti tRYAPkUNvd', b'Hurricane Katrina Anniversary hear stories five Orleans educators XKQhvCjQH', b'Haven asshole tell wear mask kill three friends FqvzcCZgX', b'NlDtwsg', b'psychology behind college students break Covid rule pLEBRbIjZ talk dMeyDwd', b'Florida infest DeSantis county governments include publicly fund hospitals investigate myIsXyOqqX', b'Impact Covid Children Education Africa mlfawDIRPM', b'Yeah need ahead subscribe YouTube channel Negan completely bash summe vbHUBvnS', b'Inequality kill Proof Just Socially Determined Health ykibt', b'Please correct statement confirm case fact number include probabl NByCXHhZK', b'Hall Famer Michael Irvin three weeks hell zngWdghd']\""
            ],
            "application/vnd.google.colaboratory.intrinsic+json": {
              "type": "string"
            }
          },
          "metadata": {},
          "execution_count": 47
        }
      ]
    },
    {
      "cell_type": "code",
      "metadata": {
        "id": "sj2O8T2LACTz",
        "colab": {
          "base_uri": "https://localhost:8080/"
        },
        "outputId": "0d604a07-471e-4478-df9f-89c3e9d2734a"
      },
      "source": [
        "text_US = NRCLex(word_US)\n",
        "text_US\n"
      ],
      "execution_count": null,
      "outputs": [
        {
          "output_type": "execute_result",
          "data": {
            "text/plain": [
              "<nrclex.NRCLex at 0x7f3274f60150>"
            ]
          },
          "metadata": {},
          "execution_count": 48
        }
      ]
    },
    {
      "cell_type": "code",
      "metadata": {
        "id": "gm8A7ttZMXka",
        "colab": {
          "base_uri": "https://localhost:8080/"
        },
        "outputId": "d8f80812-72d2-4ae3-f3c4-4c9d743cc39d"
      },
      "source": [
        "text_US = text_US.raw_emotion_scores #returns raw emotional counts\n",
        "text_US"
      ],
      "execution_count": null,
      "outputs": [
        {
          "output_type": "execute_result",
          "data": {
            "text/plain": [
              "{'anger': 509,\n",
              " 'anticipation': 832,\n",
              " 'disgust': 348,\n",
              " 'fear': 885,\n",
              " 'joy': 464,\n",
              " 'negative': 1358,\n",
              " 'positive': 1454,\n",
              " 'sadness': 708,\n",
              " 'surprise': 397,\n",
              " 'trust': 1003}"
            ]
          },
          "metadata": {},
          "execution_count": 49
        }
      ]
    },
    {
      "cell_type": "code",
      "metadata": {
        "id": "R-SVdi1-Mfe3",
        "colab": {
          "base_uri": "https://localhost:8080/",
          "height": 81
        },
        "outputId": "cbc072e2-01d0-419f-e784-da30ef79d986"
      },
      "source": [
        "text_US = pd.DataFrame(text_US,index=[0]) # convert to Pandas dataframe\n",
        "text_US\n"
      ],
      "execution_count": null,
      "outputs": [
        {
          "output_type": "execute_result",
          "data": {
            "text/plain": [
              "   negative  fear  sadness  trust  positive  anger  surprise  disgust  \\\n",
              "0      1358   885      708   1003      1454    509       397      348   \n",
              "\n",
              "   anticipation  joy  \n",
              "0           832  464  "
            ],
            "text/html": [
              "\n",
              "  <div id=\"df-03059f4f-9cd2-4052-aab3-67127be6c1d6\">\n",
              "    <div class=\"colab-df-container\">\n",
              "      <div>\n",
              "<style scoped>\n",
              "    .dataframe tbody tr th:only-of-type {\n",
              "        vertical-align: middle;\n",
              "    }\n",
              "\n",
              "    .dataframe tbody tr th {\n",
              "        vertical-align: top;\n",
              "    }\n",
              "\n",
              "    .dataframe thead th {\n",
              "        text-align: right;\n",
              "    }\n",
              "</style>\n",
              "<table border=\"1\" class=\"dataframe\">\n",
              "  <thead>\n",
              "    <tr style=\"text-align: right;\">\n",
              "      <th></th>\n",
              "      <th>negative</th>\n",
              "      <th>fear</th>\n",
              "      <th>sadness</th>\n",
              "      <th>trust</th>\n",
              "      <th>positive</th>\n",
              "      <th>anger</th>\n",
              "      <th>surprise</th>\n",
              "      <th>disgust</th>\n",
              "      <th>anticipation</th>\n",
              "      <th>joy</th>\n",
              "    </tr>\n",
              "  </thead>\n",
              "  <tbody>\n",
              "    <tr>\n",
              "      <th>0</th>\n",
              "      <td>1358</td>\n",
              "      <td>885</td>\n",
              "      <td>708</td>\n",
              "      <td>1003</td>\n",
              "      <td>1454</td>\n",
              "      <td>509</td>\n",
              "      <td>397</td>\n",
              "      <td>348</td>\n",
              "      <td>832</td>\n",
              "      <td>464</td>\n",
              "    </tr>\n",
              "  </tbody>\n",
              "</table>\n",
              "</div>\n",
              "      <button class=\"colab-df-convert\" onclick=\"convertToInteractive('df-03059f4f-9cd2-4052-aab3-67127be6c1d6')\"\n",
              "              title=\"Convert this dataframe to an interactive table.\"\n",
              "              style=\"display:none;\">\n",
              "        \n",
              "  <svg xmlns=\"http://www.w3.org/2000/svg\" height=\"24px\"viewBox=\"0 0 24 24\"\n",
              "       width=\"24px\">\n",
              "    <path d=\"M0 0h24v24H0V0z\" fill=\"none\"/>\n",
              "    <path d=\"M18.56 5.44l.94 2.06.94-2.06 2.06-.94-2.06-.94-.94-2.06-.94 2.06-2.06.94zm-11 1L8.5 8.5l.94-2.06 2.06-.94-2.06-.94L8.5 2.5l-.94 2.06-2.06.94zm10 10l.94 2.06.94-2.06 2.06-.94-2.06-.94-.94-2.06-.94 2.06-2.06.94z\"/><path d=\"M17.41 7.96l-1.37-1.37c-.4-.4-.92-.59-1.43-.59-.52 0-1.04.2-1.43.59L10.3 9.45l-7.72 7.72c-.78.78-.78 2.05 0 2.83L4 21.41c.39.39.9.59 1.41.59.51 0 1.02-.2 1.41-.59l7.78-7.78 2.81-2.81c.8-.78.8-2.07 0-2.86zM5.41 20L4 18.59l7.72-7.72 1.47 1.35L5.41 20z\"/>\n",
              "  </svg>\n",
              "      </button>\n",
              "      \n",
              "  <style>\n",
              "    .colab-df-container {\n",
              "      display:flex;\n",
              "      flex-wrap:wrap;\n",
              "      gap: 12px;\n",
              "    }\n",
              "\n",
              "    .colab-df-convert {\n",
              "      background-color: #E8F0FE;\n",
              "      border: none;\n",
              "      border-radius: 50%;\n",
              "      cursor: pointer;\n",
              "      display: none;\n",
              "      fill: #1967D2;\n",
              "      height: 32px;\n",
              "      padding: 0 0 0 0;\n",
              "      width: 32px;\n",
              "    }\n",
              "\n",
              "    .colab-df-convert:hover {\n",
              "      background-color: #E2EBFA;\n",
              "      box-shadow: 0px 1px 2px rgba(60, 64, 67, 0.3), 0px 1px 3px 1px rgba(60, 64, 67, 0.15);\n",
              "      fill: #174EA6;\n",
              "    }\n",
              "\n",
              "    [theme=dark] .colab-df-convert {\n",
              "      background-color: #3B4455;\n",
              "      fill: #D2E3FC;\n",
              "    }\n",
              "\n",
              "    [theme=dark] .colab-df-convert:hover {\n",
              "      background-color: #434B5C;\n",
              "      box-shadow: 0px 1px 3px 1px rgba(0, 0, 0, 0.15);\n",
              "      filter: drop-shadow(0px 1px 2px rgba(0, 0, 0, 0.3));\n",
              "      fill: #FFFFFF;\n",
              "    }\n",
              "  </style>\n",
              "\n",
              "      <script>\n",
              "        const buttonEl =\n",
              "          document.querySelector('#df-03059f4f-9cd2-4052-aab3-67127be6c1d6 button.colab-df-convert');\n",
              "        buttonEl.style.display =\n",
              "          google.colab.kernel.accessAllowed ? 'block' : 'none';\n",
              "\n",
              "        async function convertToInteractive(key) {\n",
              "          const element = document.querySelector('#df-03059f4f-9cd2-4052-aab3-67127be6c1d6');\n",
              "          const dataTable =\n",
              "            await google.colab.kernel.invokeFunction('convertToInteractive',\n",
              "                                                     [key], {});\n",
              "          if (!dataTable) return;\n",
              "\n",
              "          const docLinkHtml = 'Like what you see? Visit the ' +\n",
              "            '<a target=\"_blank\" href=https://colab.research.google.com/notebooks/data_table.ipynb>data table notebook</a>'\n",
              "            + ' to learn more about interactive tables.';\n",
              "          element.innerHTML = '';\n",
              "          dataTable['output_type'] = 'display_data';\n",
              "          await google.colab.output.renderOutput(dataTable, element);\n",
              "          const docLink = document.createElement('div');\n",
              "          docLink.innerHTML = docLinkHtml;\n",
              "          element.appendChild(docLink);\n",
              "        }\n",
              "      </script>\n",
              "    </div>\n",
              "  </div>\n",
              "  "
            ]
          },
          "metadata": {},
          "execution_count": 50
        }
      ]
    },
    {
      "cell_type": "code",
      "metadata": {
        "id": "H2jfsaeBOGek",
        "colab": {
          "base_uri": "https://localhost:8080/",
          "height": 363
        },
        "outputId": "94ee82ab-a4d4-47cc-f39a-e13bd7b5a19c"
      },
      "source": [
        "text_US = pd.melt(text_US) # used to change the DataFrame format from wide to long\n",
        "text_US"
      ],
      "execution_count": null,
      "outputs": [
        {
          "output_type": "execute_result",
          "data": {
            "text/plain": [
              "       variable  value\n",
              "0      negative   1358\n",
              "1          fear    885\n",
              "2       sadness    708\n",
              "3         trust   1003\n",
              "4      positive   1454\n",
              "5         anger    509\n",
              "6      surprise    397\n",
              "7       disgust    348\n",
              "8  anticipation    832\n",
              "9           joy    464"
            ],
            "text/html": [
              "\n",
              "  <div id=\"df-0031dc2c-61b8-4ad0-b75e-2315a6de8cbf\">\n",
              "    <div class=\"colab-df-container\">\n",
              "      <div>\n",
              "<style scoped>\n",
              "    .dataframe tbody tr th:only-of-type {\n",
              "        vertical-align: middle;\n",
              "    }\n",
              "\n",
              "    .dataframe tbody tr th {\n",
              "        vertical-align: top;\n",
              "    }\n",
              "\n",
              "    .dataframe thead th {\n",
              "        text-align: right;\n",
              "    }\n",
              "</style>\n",
              "<table border=\"1\" class=\"dataframe\">\n",
              "  <thead>\n",
              "    <tr style=\"text-align: right;\">\n",
              "      <th></th>\n",
              "      <th>variable</th>\n",
              "      <th>value</th>\n",
              "    </tr>\n",
              "  </thead>\n",
              "  <tbody>\n",
              "    <tr>\n",
              "      <th>0</th>\n",
              "      <td>negative</td>\n",
              "      <td>1358</td>\n",
              "    </tr>\n",
              "    <tr>\n",
              "      <th>1</th>\n",
              "      <td>fear</td>\n",
              "      <td>885</td>\n",
              "    </tr>\n",
              "    <tr>\n",
              "      <th>2</th>\n",
              "      <td>sadness</td>\n",
              "      <td>708</td>\n",
              "    </tr>\n",
              "    <tr>\n",
              "      <th>3</th>\n",
              "      <td>trust</td>\n",
              "      <td>1003</td>\n",
              "    </tr>\n",
              "    <tr>\n",
              "      <th>4</th>\n",
              "      <td>positive</td>\n",
              "      <td>1454</td>\n",
              "    </tr>\n",
              "    <tr>\n",
              "      <th>5</th>\n",
              "      <td>anger</td>\n",
              "      <td>509</td>\n",
              "    </tr>\n",
              "    <tr>\n",
              "      <th>6</th>\n",
              "      <td>surprise</td>\n",
              "      <td>397</td>\n",
              "    </tr>\n",
              "    <tr>\n",
              "      <th>7</th>\n",
              "      <td>disgust</td>\n",
              "      <td>348</td>\n",
              "    </tr>\n",
              "    <tr>\n",
              "      <th>8</th>\n",
              "      <td>anticipation</td>\n",
              "      <td>832</td>\n",
              "    </tr>\n",
              "    <tr>\n",
              "      <th>9</th>\n",
              "      <td>joy</td>\n",
              "      <td>464</td>\n",
              "    </tr>\n",
              "  </tbody>\n",
              "</table>\n",
              "</div>\n",
              "      <button class=\"colab-df-convert\" onclick=\"convertToInteractive('df-0031dc2c-61b8-4ad0-b75e-2315a6de8cbf')\"\n",
              "              title=\"Convert this dataframe to an interactive table.\"\n",
              "              style=\"display:none;\">\n",
              "        \n",
              "  <svg xmlns=\"http://www.w3.org/2000/svg\" height=\"24px\"viewBox=\"0 0 24 24\"\n",
              "       width=\"24px\">\n",
              "    <path d=\"M0 0h24v24H0V0z\" fill=\"none\"/>\n",
              "    <path d=\"M18.56 5.44l.94 2.06.94-2.06 2.06-.94-2.06-.94-.94-2.06-.94 2.06-2.06.94zm-11 1L8.5 8.5l.94-2.06 2.06-.94-2.06-.94L8.5 2.5l-.94 2.06-2.06.94zm10 10l.94 2.06.94-2.06 2.06-.94-2.06-.94-.94-2.06-.94 2.06-2.06.94z\"/><path d=\"M17.41 7.96l-1.37-1.37c-.4-.4-.92-.59-1.43-.59-.52 0-1.04.2-1.43.59L10.3 9.45l-7.72 7.72c-.78.78-.78 2.05 0 2.83L4 21.41c.39.39.9.59 1.41.59.51 0 1.02-.2 1.41-.59l7.78-7.78 2.81-2.81c.8-.78.8-2.07 0-2.86zM5.41 20L4 18.59l7.72-7.72 1.47 1.35L5.41 20z\"/>\n",
              "  </svg>\n",
              "      </button>\n",
              "      \n",
              "  <style>\n",
              "    .colab-df-container {\n",
              "      display:flex;\n",
              "      flex-wrap:wrap;\n",
              "      gap: 12px;\n",
              "    }\n",
              "\n",
              "    .colab-df-convert {\n",
              "      background-color: #E8F0FE;\n",
              "      border: none;\n",
              "      border-radius: 50%;\n",
              "      cursor: pointer;\n",
              "      display: none;\n",
              "      fill: #1967D2;\n",
              "      height: 32px;\n",
              "      padding: 0 0 0 0;\n",
              "      width: 32px;\n",
              "    }\n",
              "\n",
              "    .colab-df-convert:hover {\n",
              "      background-color: #E2EBFA;\n",
              "      box-shadow: 0px 1px 2px rgba(60, 64, 67, 0.3), 0px 1px 3px 1px rgba(60, 64, 67, 0.15);\n",
              "      fill: #174EA6;\n",
              "    }\n",
              "\n",
              "    [theme=dark] .colab-df-convert {\n",
              "      background-color: #3B4455;\n",
              "      fill: #D2E3FC;\n",
              "    }\n",
              "\n",
              "    [theme=dark] .colab-df-convert:hover {\n",
              "      background-color: #434B5C;\n",
              "      box-shadow: 0px 1px 3px 1px rgba(0, 0, 0, 0.15);\n",
              "      filter: drop-shadow(0px 1px 2px rgba(0, 0, 0, 0.3));\n",
              "      fill: #FFFFFF;\n",
              "    }\n",
              "  </style>\n",
              "\n",
              "      <script>\n",
              "        const buttonEl =\n",
              "          document.querySelector('#df-0031dc2c-61b8-4ad0-b75e-2315a6de8cbf button.colab-df-convert');\n",
              "        buttonEl.style.display =\n",
              "          google.colab.kernel.accessAllowed ? 'block' : 'none';\n",
              "\n",
              "        async function convertToInteractive(key) {\n",
              "          const element = document.querySelector('#df-0031dc2c-61b8-4ad0-b75e-2315a6de8cbf');\n",
              "          const dataTable =\n",
              "            await google.colab.kernel.invokeFunction('convertToInteractive',\n",
              "                                                     [key], {});\n",
              "          if (!dataTable) return;\n",
              "\n",
              "          const docLinkHtml = 'Like what you see? Visit the ' +\n",
              "            '<a target=\"_blank\" href=https://colab.research.google.com/notebooks/data_table.ipynb>data table notebook</a>'\n",
              "            + ' to learn more about interactive tables.';\n",
              "          element.innerHTML = '';\n",
              "          dataTable['output_type'] = 'display_data';\n",
              "          await google.colab.output.renderOutput(dataTable, element);\n",
              "          const docLink = document.createElement('div');\n",
              "          docLink.innerHTML = docLinkHtml;\n",
              "          element.appendChild(docLink);\n",
              "        }\n",
              "      </script>\n",
              "    </div>\n",
              "  </div>\n",
              "  "
            ]
          },
          "metadata": {},
          "execution_count": 51
        }
      ]
    },
    {
      "cell_type": "code",
      "metadata": {
        "id": "mc3QY_h4OYPH",
        "colab": {
          "base_uri": "https://localhost:8080/",
          "height": 363
        },
        "outputId": "1666924d-d3eb-413f-876b-3333c2640936"
      },
      "source": [
        "text_US.columns = ('Emotions','Count') # assign column names to the Dataframe\n",
        "text_US = text_US.sort_values('Count') # Sort according to the emotion counts\n",
        "text_US"
      ],
      "execution_count": null,
      "outputs": [
        {
          "output_type": "execute_result",
          "data": {
            "text/plain": [
              "       Emotions  Count\n",
              "7       disgust    348\n",
              "6      surprise    397\n",
              "9           joy    464\n",
              "5         anger    509\n",
              "2       sadness    708\n",
              "8  anticipation    832\n",
              "1          fear    885\n",
              "3         trust   1003\n",
              "0      negative   1358\n",
              "4      positive   1454"
            ],
            "text/html": [
              "\n",
              "  <div id=\"df-32f8bcb6-c13b-4056-8a86-f6bc2e44bb97\">\n",
              "    <div class=\"colab-df-container\">\n",
              "      <div>\n",
              "<style scoped>\n",
              "    .dataframe tbody tr th:only-of-type {\n",
              "        vertical-align: middle;\n",
              "    }\n",
              "\n",
              "    .dataframe tbody tr th {\n",
              "        vertical-align: top;\n",
              "    }\n",
              "\n",
              "    .dataframe thead th {\n",
              "        text-align: right;\n",
              "    }\n",
              "</style>\n",
              "<table border=\"1\" class=\"dataframe\">\n",
              "  <thead>\n",
              "    <tr style=\"text-align: right;\">\n",
              "      <th></th>\n",
              "      <th>Emotions</th>\n",
              "      <th>Count</th>\n",
              "    </tr>\n",
              "  </thead>\n",
              "  <tbody>\n",
              "    <tr>\n",
              "      <th>7</th>\n",
              "      <td>disgust</td>\n",
              "      <td>348</td>\n",
              "    </tr>\n",
              "    <tr>\n",
              "      <th>6</th>\n",
              "      <td>surprise</td>\n",
              "      <td>397</td>\n",
              "    </tr>\n",
              "    <tr>\n",
              "      <th>9</th>\n",
              "      <td>joy</td>\n",
              "      <td>464</td>\n",
              "    </tr>\n",
              "    <tr>\n",
              "      <th>5</th>\n",
              "      <td>anger</td>\n",
              "      <td>509</td>\n",
              "    </tr>\n",
              "    <tr>\n",
              "      <th>2</th>\n",
              "      <td>sadness</td>\n",
              "      <td>708</td>\n",
              "    </tr>\n",
              "    <tr>\n",
              "      <th>8</th>\n",
              "      <td>anticipation</td>\n",
              "      <td>832</td>\n",
              "    </tr>\n",
              "    <tr>\n",
              "      <th>1</th>\n",
              "      <td>fear</td>\n",
              "      <td>885</td>\n",
              "    </tr>\n",
              "    <tr>\n",
              "      <th>3</th>\n",
              "      <td>trust</td>\n",
              "      <td>1003</td>\n",
              "    </tr>\n",
              "    <tr>\n",
              "      <th>0</th>\n",
              "      <td>negative</td>\n",
              "      <td>1358</td>\n",
              "    </tr>\n",
              "    <tr>\n",
              "      <th>4</th>\n",
              "      <td>positive</td>\n",
              "      <td>1454</td>\n",
              "    </tr>\n",
              "  </tbody>\n",
              "</table>\n",
              "</div>\n",
              "      <button class=\"colab-df-convert\" onclick=\"convertToInteractive('df-32f8bcb6-c13b-4056-8a86-f6bc2e44bb97')\"\n",
              "              title=\"Convert this dataframe to an interactive table.\"\n",
              "              style=\"display:none;\">\n",
              "        \n",
              "  <svg xmlns=\"http://www.w3.org/2000/svg\" height=\"24px\"viewBox=\"0 0 24 24\"\n",
              "       width=\"24px\">\n",
              "    <path d=\"M0 0h24v24H0V0z\" fill=\"none\"/>\n",
              "    <path d=\"M18.56 5.44l.94 2.06.94-2.06 2.06-.94-2.06-.94-.94-2.06-.94 2.06-2.06.94zm-11 1L8.5 8.5l.94-2.06 2.06-.94-2.06-.94L8.5 2.5l-.94 2.06-2.06.94zm10 10l.94 2.06.94-2.06 2.06-.94-2.06-.94-.94-2.06-.94 2.06-2.06.94z\"/><path d=\"M17.41 7.96l-1.37-1.37c-.4-.4-.92-.59-1.43-.59-.52 0-1.04.2-1.43.59L10.3 9.45l-7.72 7.72c-.78.78-.78 2.05 0 2.83L4 21.41c.39.39.9.59 1.41.59.51 0 1.02-.2 1.41-.59l7.78-7.78 2.81-2.81c.8-.78.8-2.07 0-2.86zM5.41 20L4 18.59l7.72-7.72 1.47 1.35L5.41 20z\"/>\n",
              "  </svg>\n",
              "      </button>\n",
              "      \n",
              "  <style>\n",
              "    .colab-df-container {\n",
              "      display:flex;\n",
              "      flex-wrap:wrap;\n",
              "      gap: 12px;\n",
              "    }\n",
              "\n",
              "    .colab-df-convert {\n",
              "      background-color: #E8F0FE;\n",
              "      border: none;\n",
              "      border-radius: 50%;\n",
              "      cursor: pointer;\n",
              "      display: none;\n",
              "      fill: #1967D2;\n",
              "      height: 32px;\n",
              "      padding: 0 0 0 0;\n",
              "      width: 32px;\n",
              "    }\n",
              "\n",
              "    .colab-df-convert:hover {\n",
              "      background-color: #E2EBFA;\n",
              "      box-shadow: 0px 1px 2px rgba(60, 64, 67, 0.3), 0px 1px 3px 1px rgba(60, 64, 67, 0.15);\n",
              "      fill: #174EA6;\n",
              "    }\n",
              "\n",
              "    [theme=dark] .colab-df-convert {\n",
              "      background-color: #3B4455;\n",
              "      fill: #D2E3FC;\n",
              "    }\n",
              "\n",
              "    [theme=dark] .colab-df-convert:hover {\n",
              "      background-color: #434B5C;\n",
              "      box-shadow: 0px 1px 3px 1px rgba(0, 0, 0, 0.15);\n",
              "      filter: drop-shadow(0px 1px 2px rgba(0, 0, 0, 0.3));\n",
              "      fill: #FFFFFF;\n",
              "    }\n",
              "  </style>\n",
              "\n",
              "      <script>\n",
              "        const buttonEl =\n",
              "          document.querySelector('#df-32f8bcb6-c13b-4056-8a86-f6bc2e44bb97 button.colab-df-convert');\n",
              "        buttonEl.style.display =\n",
              "          google.colab.kernel.accessAllowed ? 'block' : 'none';\n",
              "\n",
              "        async function convertToInteractive(key) {\n",
              "          const element = document.querySelector('#df-32f8bcb6-c13b-4056-8a86-f6bc2e44bb97');\n",
              "          const dataTable =\n",
              "            await google.colab.kernel.invokeFunction('convertToInteractive',\n",
              "                                                     [key], {});\n",
              "          if (!dataTable) return;\n",
              "\n",
              "          const docLinkHtml = 'Like what you see? Visit the ' +\n",
              "            '<a target=\"_blank\" href=https://colab.research.google.com/notebooks/data_table.ipynb>data table notebook</a>'\n",
              "            + ' to learn more about interactive tables.';\n",
              "          element.innerHTML = '';\n",
              "          dataTable['output_type'] = 'display_data';\n",
              "          await google.colab.output.renderOutput(dataTable, element);\n",
              "          const docLink = document.createElement('div');\n",
              "          docLink.innerHTML = docLinkHtml;\n",
              "          element.appendChild(docLink);\n",
              "        }\n",
              "      </script>\n",
              "    </div>\n",
              "  </div>\n",
              "  "
            ]
          },
          "metadata": {},
          "execution_count": 52
        }
      ]
    },
    {
      "cell_type": "code",
      "metadata": {
        "id": "juQHAktuKxku",
        "colab": {
          "base_uri": "https://localhost:8080/",
          "height": 618
        },
        "outputId": "9fa7a914-2b44-422d-c297-f4526284d8df"
      },
      "source": [
        "plt.figure(figsize=(10,10))\n",
        "plt.title('Emotions in Tweets from USA')\n",
        "sns.set_style('dark')\n",
        "sns.barplot(y='Emotions',x='Count',data = text_US[:8]);"
      ],
      "execution_count": null,
      "outputs": [
        {
          "output_type": "display_data",
          "data": {
            "text/plain": [
              "<Figure size 720x720 with 1 Axes>"
            ],
            "image/png": "[encoded data removed]"
          },
          "metadata": {}
        }
      ]
    }
  ]
}